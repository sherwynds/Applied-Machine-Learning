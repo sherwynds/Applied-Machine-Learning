{
 "cells": [
  {
   "cell_type": "markdown",
   "metadata": {},
   "source": [
    "# CPSC 330 hw5\n",
    "\n",
    "**IMPORTANT NOTE:** This assignment, in its original form, is quite long. In Covid times, I am wary of overloading you. At the same time, I am also hesitant to delete useful material. My compromise is that I have marked some questions as optional and made them not part of your grade. If you have time, I recommend doing them! However, if you're short on time, you can skip them for now - later parts of the assignment don't depend on them. If you skip these questions, please look them over later as part of your exam studying - that content will still be fair game for exams. Solutions for these questions will be posted as part of the usual solutions posting."
   ]
  },
  {
   "cell_type": "code",
   "execution_count": 1,
   "metadata": {},
   "outputs": [],
   "source": [
    "import numpy as np\n",
    "import pandas as pd\n",
    "import matplotlib.pyplot as plt\n",
    "\n",
    "from sklearn.preprocessing import StandardScaler, OneHotEncoder\n",
    "from sklearn.dummy import DummyRegressor\n",
    "from sklearn.linear_model import Ridge, RidgeCV\n",
    "from sklearn.ensemble import RandomForestRegressor\n",
    "from sklearn.impute import SimpleImputer\n",
    "from sklearn.model_selection import train_test_split, cross_val_score, cross_validate\n",
    "from sklearn.pipeline import Pipeline, make_pipeline\n",
    "from sklearn.compose import ColumnTransformer, TransformedTargetRegressor\n",
    "from sklearn.feature_extraction.text import CountVectorizer\n",
    "\n",
    "# Non-sklearn\n",
    "from lightgbm import LGBMRegressor\n",
    "import shap\n",
    "\n",
    "# Add more imports below\n",
    "from sklearn.model_selection import GridSearchCV, RandomizedSearchCV\n",
    "# from scipy.stats import truncnorm"
   ]
  },
  {
   "cell_type": "code",
   "execution_count": 2,
   "metadata": {},
   "outputs": [],
   "source": [
    "plt.rcParams['font.size'] = 16"
   ]
  },
  {
   "cell_type": "code",
   "execution_count": 3,
   "metadata": {},
   "outputs": [],
   "source": [
    "def cross_validate_std(*args, **kwargs):\n",
    "    \"\"\"Like cross_validate, except also gives the standard deviation of the score\"\"\"\n",
    "    res = pd.DataFrame(cross_validate(*args, **kwargs))\n",
    "    res_mean = res.mean()\n",
    "\n",
    "    res_mean[\"std_test_score\"] = res[\"test_score\"].std()\n",
    "    if \"train_score\" in res:\n",
    "        res_mean[\"std_train_score\"] = res[\"train_score\"].std()\n",
    "    return res_mean"
   ]
  },
  {
   "cell_type": "markdown",
   "metadata": {},
   "source": [
    "## Instructions\n",
    "rubric={points:5}\n",
    "\n",
    "Follow the [homework submission instructions](https://github.com/UBC-CS/cpsc330/blob/master/docs/homework_instructions.md). "
   ]
  },
  {
   "cell_type": "markdown",
   "metadata": {},
   "source": [
    "## Writing quality/quantity\n",
    "rubric={points:5}\n",
    "\n",
    "The TAs have reported a couple issues with the first few assignments: in some cases, submissions simply show the code output with no commentary; please write at least a sentence explaining your output in each question. In other cases, the TAs have come across multi-paragraph answers where a couple of sentences would have sufficed. Thus, we are now allocating the above points for well-structured answers of a reasonable length. In general, 1-3 sentences is good."
   ]
  },
  {
   "cell_type": "markdown",
   "metadata": {},
   "source": [
    "## Introduction"
   ]
  },
  {
   "cell_type": "markdown",
   "metadata": {},
   "source": [
    "In this assignment we'll be exploring a [dataset](https://www.kaggle.com/dgomonov/new-york-city-airbnb-open-data) of New York City Airbnb listings from 2019. As usual, you'll need to start by downloading the dataset."
   ]
  },
  {
   "cell_type": "code",
   "execution_count": 4,
   "metadata": {},
   "outputs": [],
   "source": [
    "df = pd.read_csv('AB_NYC_2019.csv')"
   ]
  },
  {
   "cell_type": "code",
   "execution_count": 5,
   "metadata": {},
   "outputs": [],
   "source": [
    "df_train, df_test = train_test_split(df, random_state=123)"
   ]
  },
  {
   "cell_type": "code",
   "execution_count": 6,
   "metadata": {},
   "outputs": [
    {
     "data": {
      "text/plain": [
       "(36671, 16)"
      ]
     },
     "execution_count": 6,
     "metadata": {},
     "output_type": "execute_result"
    }
   ],
   "source": [
    "df_train.shape"
   ]
  },
  {
   "cell_type": "code",
   "execution_count": 7,
   "metadata": {},
   "outputs": [
    {
     "data": {
      "text/html": [
       "<div>\n",
       "<style scoped>\n",
       "    .dataframe tbody tr th:only-of-type {\n",
       "        vertical-align: middle;\n",
       "    }\n",
       "\n",
       "    .dataframe tbody tr th {\n",
       "        vertical-align: top;\n",
       "    }\n",
       "\n",
       "    .dataframe thead th {\n",
       "        text-align: right;\n",
       "    }\n",
       "</style>\n",
       "<table border=\"1\" class=\"dataframe\">\n",
       "  <thead>\n",
       "    <tr style=\"text-align: right;\">\n",
       "      <th></th>\n",
       "      <th>id</th>\n",
       "      <th>name</th>\n",
       "      <th>host_id</th>\n",
       "      <th>host_name</th>\n",
       "      <th>neighbourhood_group</th>\n",
       "      <th>neighbourhood</th>\n",
       "      <th>latitude</th>\n",
       "      <th>longitude</th>\n",
       "      <th>room_type</th>\n",
       "      <th>price</th>\n",
       "      <th>minimum_nights</th>\n",
       "      <th>number_of_reviews</th>\n",
       "      <th>last_review</th>\n",
       "      <th>reviews_per_month</th>\n",
       "      <th>calculated_host_listings_count</th>\n",
       "      <th>availability_365</th>\n",
       "    </tr>\n",
       "  </thead>\n",
       "  <tbody>\n",
       "    <tr>\n",
       "      <th>31211</th>\n",
       "      <td>24240996</td>\n",
       "      <td>new-entire condo, terrace, parking D-N-R train...</td>\n",
       "      <td>19707138</td>\n",
       "      <td>Ali</td>\n",
       "      <td>Brooklyn</td>\n",
       "      <td>Sunset Park</td>\n",
       "      <td>40.65604</td>\n",
       "      <td>-74.00032</td>\n",
       "      <td>Entire home/apt</td>\n",
       "      <td>125</td>\n",
       "      <td>15</td>\n",
       "      <td>1</td>\n",
       "      <td>2018-04-08</td>\n",
       "      <td>0.07</td>\n",
       "      <td>1</td>\n",
       "      <td>8</td>\n",
       "    </tr>\n",
       "    <tr>\n",
       "      <th>9605</th>\n",
       "      <td>7381236</td>\n",
       "      <td>Authentic Brownstone New York Living</td>\n",
       "      <td>33365473</td>\n",
       "      <td>Paul</td>\n",
       "      <td>Brooklyn</td>\n",
       "      <td>Bedford-Stuyvesant</td>\n",
       "      <td>40.68247</td>\n",
       "      <td>-73.94119</td>\n",
       "      <td>Entire home/apt</td>\n",
       "      <td>450</td>\n",
       "      <td>2</td>\n",
       "      <td>34</td>\n",
       "      <td>2019-04-26</td>\n",
       "      <td>0.76</td>\n",
       "      <td>2</td>\n",
       "      <td>337</td>\n",
       "    </tr>\n",
       "    <tr>\n",
       "      <th>41176</th>\n",
       "      <td>32036785</td>\n",
       "      <td>Big sunny room in Sunnyside</td>\n",
       "      <td>158126190</td>\n",
       "      <td>Oleg</td>\n",
       "      <td>Queens</td>\n",
       "      <td>Sunnyside</td>\n",
       "      <td>40.74141</td>\n",
       "      <td>-73.92688</td>\n",
       "      <td>Private room</td>\n",
       "      <td>33</td>\n",
       "      <td>7</td>\n",
       "      <td>2</td>\n",
       "      <td>2019-02-20</td>\n",
       "      <td>0.40</td>\n",
       "      <td>1</td>\n",
       "      <td>0</td>\n",
       "    </tr>\n",
       "    <tr>\n",
       "      <th>21795</th>\n",
       "      <td>17515870</td>\n",
       "      <td>Divided Room in Financial District</td>\n",
       "      <td>118753490</td>\n",
       "      <td>Yaodong</td>\n",
       "      <td>Manhattan</td>\n",
       "      <td>Financial District</td>\n",
       "      <td>40.70817</td>\n",
       "      <td>-74.00511</td>\n",
       "      <td>Private room</td>\n",
       "      <td>100</td>\n",
       "      <td>1</td>\n",
       "      <td>5</td>\n",
       "      <td>2017-04-30</td>\n",
       "      <td>0.17</td>\n",
       "      <td>1</td>\n",
       "      <td>0</td>\n",
       "    </tr>\n",
       "    <tr>\n",
       "      <th>38509</th>\n",
       "      <td>30296204</td>\n",
       "      <td>Brick and Beam Experience in North Williamsburg</td>\n",
       "      <td>1005966</td>\n",
       "      <td>Ryan</td>\n",
       "      <td>Brooklyn</td>\n",
       "      <td>Williamsburg</td>\n",
       "      <td>40.71980</td>\n",
       "      <td>-73.95813</td>\n",
       "      <td>Entire home/apt</td>\n",
       "      <td>300</td>\n",
       "      <td>3</td>\n",
       "      <td>7</td>\n",
       "      <td>2019-05-20</td>\n",
       "      <td>1.11</td>\n",
       "      <td>1</td>\n",
       "      <td>168</td>\n",
       "    </tr>\n",
       "  </tbody>\n",
       "</table>\n",
       "</div>"
      ],
      "text/plain": [
       "             id                                               name    host_id  \\\n",
       "31211  24240996  new-entire condo, terrace, parking D-N-R train...   19707138   \n",
       "9605    7381236               Authentic Brownstone New York Living   33365473   \n",
       "41176  32036785                        Big sunny room in Sunnyside  158126190   \n",
       "21795  17515870                 Divided Room in Financial District  118753490   \n",
       "38509  30296204    Brick and Beam Experience in North Williamsburg    1005966   \n",
       "\n",
       "      host_name neighbourhood_group       neighbourhood  latitude  longitude  \\\n",
       "31211       Ali            Brooklyn         Sunset Park  40.65604  -74.00032   \n",
       "9605       Paul            Brooklyn  Bedford-Stuyvesant  40.68247  -73.94119   \n",
       "41176      Oleg              Queens           Sunnyside  40.74141  -73.92688   \n",
       "21795   Yaodong           Manhattan  Financial District  40.70817  -74.00511   \n",
       "38509      Ryan            Brooklyn        Williamsburg  40.71980  -73.95813   \n",
       "\n",
       "             room_type  price  minimum_nights  number_of_reviews last_review  \\\n",
       "31211  Entire home/apt    125              15                  1  2018-04-08   \n",
       "9605   Entire home/apt    450               2                 34  2019-04-26   \n",
       "41176     Private room     33               7                  2  2019-02-20   \n",
       "21795     Private room    100               1                  5  2017-04-30   \n",
       "38509  Entire home/apt    300               3                  7  2019-05-20   \n",
       "\n",
       "       reviews_per_month  calculated_host_listings_count  availability_365  \n",
       "31211               0.07                               1                 8  \n",
       "9605                0.76                               2               337  \n",
       "41176               0.40                               1                 0  \n",
       "21795               0.17                               1                 0  \n",
       "38509               1.11                               1               168  "
      ]
     },
     "execution_count": 7,
     "metadata": {},
     "output_type": "execute_result"
    }
   ],
   "source": [
    "df_train.head()"
   ]
  },
  {
   "cell_type": "markdown",
   "metadata": {},
   "source": [
    "In this assignment we'll try to predict `reviews_per_month`, as a proxy for the popularity of the listing. Airbnb could use this sort of model to predict how popular future listings might be before they are posted, perhaps to help guide hosts create more appealing listings. In reality they might instead use something like vacancy rate or average rating as their target, but we do not have that available here."
   ]
  },
  {
   "cell_type": "markdown",
   "metadata": {},
   "source": [
    "I'll take care of some missing values for you here. \n",
    "\n",
    "- It seems that listings with 0 reviews have `reviews_per_month` set to NaN instead of 0.\n",
    "- For listings without a listing name I set the name to the empty string."
   ]
  },
  {
   "cell_type": "code",
   "execution_count": 8,
   "metadata": {},
   "outputs": [],
   "source": [
    "df_train = df_train.fillna({\"reviews_per_month\" : 0, \"name\" : \"\"})\n",
    "df_test  = df_test.fillna({\"reviews_per_month\" : 0, \"name\" : \"\"})"
   ]
  },
  {
   "cell_type": "code",
   "execution_count": 9,
   "metadata": {},
   "outputs": [],
   "source": [
    "target_name = 'reviews_per_month'"
   ]
  },
  {
   "cell_type": "code",
   "execution_count": 10,
   "metadata": {},
   "outputs": [],
   "source": [
    "X_train = df_train.drop(columns=[target_name])\n",
    "y_train = df_train[target_name]\n",
    "\n",
    "X_test  = df_test.drop(columns=[target_name])\n",
    "y_test  = df_test[target_name]"
   ]
  },
  {
   "cell_type": "code",
   "execution_count": 11,
   "metadata": {},
   "outputs": [],
   "source": [
    "y_train = y_train.fillna(value=0)\n",
    "y_test  = y_test.fillna(value=0)"
   ]
  },
  {
   "cell_type": "code",
   "execution_count": 12,
   "metadata": {},
   "outputs": [],
   "source": [
    "categorical_features = ['neighbourhood', 'neighbourhood_group', 'room_type']\n",
    "drop_features        = ['id', 'name', 'host_id', 'host_name', 'last_review', 'number_of_reviews']\n",
    "numeric_features     = ['latitude', 'longitude', 'price', 'minimum_nights', 'calculated_host_listings_count', 'availability_365']"
   ]
  },
  {
   "cell_type": "markdown",
   "metadata": {},
   "source": [
    "Make sure all columns are accounted for:"
   ]
  },
  {
   "cell_type": "code",
   "execution_count": 13,
   "metadata": {},
   "outputs": [],
   "source": [
    "assert sorted(X_train.columns) == sorted(categorical_features + drop_features + numeric_features)"
   ]
  },
  {
   "cell_type": "markdown",
   "metadata": {},
   "source": [
    "Let's check for missing values (I already took care of some):"
   ]
  },
  {
   "cell_type": "code",
   "execution_count": 14,
   "metadata": {},
   "outputs": [
    {
     "name": "stdout",
     "output_type": "stream",
     "text": [
      "<class 'pandas.core.frame.DataFrame'>\n",
      "Int64Index: 36671 entries, 31211 to 15725\n",
      "Data columns (total 15 columns):\n",
      " #   Column                          Non-Null Count  Dtype  \n",
      "---  ------                          --------------  -----  \n",
      " 0   id                              36671 non-null  int64  \n",
      " 1   name                            36671 non-null  object \n",
      " 2   host_id                         36671 non-null  int64  \n",
      " 3   host_name                       36653 non-null  object \n",
      " 4   neighbourhood_group             36671 non-null  object \n",
      " 5   neighbourhood                   36671 non-null  object \n",
      " 6   latitude                        36671 non-null  float64\n",
      " 7   longitude                       36671 non-null  float64\n",
      " 8   room_type                       36671 non-null  object \n",
      " 9   price                           36671 non-null  int64  \n",
      " 10  minimum_nights                  36671 non-null  int64  \n",
      " 11  number_of_reviews               36671 non-null  int64  \n",
      " 12  last_review                     29159 non-null  object \n",
      " 13  calculated_host_listings_count  36671 non-null  int64  \n",
      " 14  availability_365                36671 non-null  int64  \n",
      "dtypes: float64(2), int64(7), object(6)\n",
      "memory usage: 4.5+ MB\n"
     ]
    }
   ],
   "source": [
    "X_train.info()"
   ]
  },
  {
   "cell_type": "markdown",
   "metadata": {},
   "source": [
    "It seems they are only present in `host_name` and `last_review`, both of which we are dropping, so we can skip imputation here."
   ]
  },
  {
   "cell_type": "code",
   "execution_count": 15,
   "metadata": {},
   "outputs": [],
   "source": [
    "preprocessor = ColumnTransformer([\n",
    "    ('scale',  StandardScaler(), numeric_features),\n",
    "    ('ohe', OneHotEncoder(handle_unknown='ignore'), categorical_features)\n",
    "])"
   ]
  },
  {
   "cell_type": "code",
   "execution_count": 16,
   "metadata": {},
   "outputs": [],
   "source": [
    "preprocessor.fit(X_train);"
   ]
  },
  {
   "cell_type": "code",
   "execution_count": 17,
   "metadata": {},
   "outputs": [],
   "source": [
    "ohe_feature_names = list(preprocessor.named_transformers_['ohe'].get_feature_names(categorical_features))\n",
    "new_columns = numeric_features + ohe_feature_names"
   ]
  },
  {
   "cell_type": "code",
   "execution_count": 18,
   "metadata": {},
   "outputs": [],
   "source": [
    "X_train_enc = pd.DataFrame(preprocessor.transform(X_train).toarray(), index=X_train.index, columns=new_columns)"
   ]
  },
  {
   "cell_type": "code",
   "execution_count": 19,
   "metadata": {},
   "outputs": [
    {
     "data": {
      "text/html": [
       "<div>\n",
       "<style scoped>\n",
       "    .dataframe tbody tr th:only-of-type {\n",
       "        vertical-align: middle;\n",
       "    }\n",
       "\n",
       "    .dataframe tbody tr th {\n",
       "        vertical-align: top;\n",
       "    }\n",
       "\n",
       "    .dataframe thead th {\n",
       "        text-align: right;\n",
       "    }\n",
       "</style>\n",
       "<table border=\"1\" class=\"dataframe\">\n",
       "  <thead>\n",
       "    <tr style=\"text-align: right;\">\n",
       "      <th></th>\n",
       "      <th>latitude</th>\n",
       "      <th>longitude</th>\n",
       "      <th>price</th>\n",
       "      <th>minimum_nights</th>\n",
       "      <th>calculated_host_listings_count</th>\n",
       "      <th>availability_365</th>\n",
       "      <th>neighbourhood_Allerton</th>\n",
       "      <th>neighbourhood_Arden Heights</th>\n",
       "      <th>neighbourhood_Arrochar</th>\n",
       "      <th>neighbourhood_Arverne</th>\n",
       "      <th>...</th>\n",
       "      <th>neighbourhood_Woodrow</th>\n",
       "      <th>neighbourhood_Woodside</th>\n",
       "      <th>neighbourhood_group_Bronx</th>\n",
       "      <th>neighbourhood_group_Brooklyn</th>\n",
       "      <th>neighbourhood_group_Manhattan</th>\n",
       "      <th>neighbourhood_group_Queens</th>\n",
       "      <th>neighbourhood_group_Staten Island</th>\n",
       "      <th>room_type_Entire home/apt</th>\n",
       "      <th>room_type_Private room</th>\n",
       "      <th>room_type_Shared room</th>\n",
       "    </tr>\n",
       "  </thead>\n",
       "  <tbody>\n",
       "    <tr>\n",
       "      <th>31211</th>\n",
       "      <td>-1.339822</td>\n",
       "      <td>-1.042322</td>\n",
       "      <td>-0.113896</td>\n",
       "      <td>0.377004</td>\n",
       "      <td>-0.185308</td>\n",
       "      <td>-0.795275</td>\n",
       "      <td>0.0</td>\n",
       "      <td>0.0</td>\n",
       "      <td>0.0</td>\n",
       "      <td>0.0</td>\n",
       "      <td>...</td>\n",
       "      <td>0.0</td>\n",
       "      <td>0.0</td>\n",
       "      <td>0.0</td>\n",
       "      <td>1.0</td>\n",
       "      <td>0.0</td>\n",
       "      <td>0.0</td>\n",
       "      <td>0.0</td>\n",
       "      <td>1.0</td>\n",
       "      <td>0.0</td>\n",
       "      <td>0.0</td>\n",
       "    </tr>\n",
       "    <tr>\n",
       "      <th>9605</th>\n",
       "      <td>-0.854593</td>\n",
       "      <td>0.237836</td>\n",
       "      <td>1.238849</td>\n",
       "      <td>-0.239587</td>\n",
       "      <td>-0.154766</td>\n",
       "      <td>1.707105</td>\n",
       "      <td>0.0</td>\n",
       "      <td>0.0</td>\n",
       "      <td>0.0</td>\n",
       "      <td>0.0</td>\n",
       "      <td>...</td>\n",
       "      <td>0.0</td>\n",
       "      <td>0.0</td>\n",
       "      <td>0.0</td>\n",
       "      <td>1.0</td>\n",
       "      <td>0.0</td>\n",
       "      <td>0.0</td>\n",
       "      <td>0.0</td>\n",
       "      <td>1.0</td>\n",
       "      <td>0.0</td>\n",
       "      <td>0.0</td>\n",
       "    </tr>\n",
       "    <tr>\n",
       "      <th>41176</th>\n",
       "      <td>0.227488</td>\n",
       "      <td>0.547645</td>\n",
       "      <td>-0.496827</td>\n",
       "      <td>-0.002437</td>\n",
       "      <td>-0.185308</td>\n",
       "      <td>-0.856123</td>\n",
       "      <td>0.0</td>\n",
       "      <td>0.0</td>\n",
       "      <td>0.0</td>\n",
       "      <td>0.0</td>\n",
       "      <td>...</td>\n",
       "      <td>0.0</td>\n",
       "      <td>0.0</td>\n",
       "      <td>0.0</td>\n",
       "      <td>0.0</td>\n",
       "      <td>0.0</td>\n",
       "      <td>1.0</td>\n",
       "      <td>0.0</td>\n",
       "      <td>0.0</td>\n",
       "      <td>1.0</td>\n",
       "      <td>0.0</td>\n",
       "    </tr>\n",
       "    <tr>\n",
       "      <th>21795</th>\n",
       "      <td>-0.382766</td>\n",
       "      <td>-1.146025</td>\n",
       "      <td>-0.217954</td>\n",
       "      <td>-0.287018</td>\n",
       "      <td>-0.185308</td>\n",
       "      <td>-0.856123</td>\n",
       "      <td>0.0</td>\n",
       "      <td>0.0</td>\n",
       "      <td>0.0</td>\n",
       "      <td>0.0</td>\n",
       "      <td>...</td>\n",
       "      <td>0.0</td>\n",
       "      <td>0.0</td>\n",
       "      <td>0.0</td>\n",
       "      <td>0.0</td>\n",
       "      <td>1.0</td>\n",
       "      <td>0.0</td>\n",
       "      <td>0.0</td>\n",
       "      <td>0.0</td>\n",
       "      <td>1.0</td>\n",
       "      <td>0.0</td>\n",
       "    </tr>\n",
       "    <tr>\n",
       "      <th>38509</th>\n",
       "      <td>-0.169250</td>\n",
       "      <td>-0.128914</td>\n",
       "      <td>0.614505</td>\n",
       "      <td>-0.192157</td>\n",
       "      <td>-0.185308</td>\n",
       "      <td>0.421688</td>\n",
       "      <td>0.0</td>\n",
       "      <td>0.0</td>\n",
       "      <td>0.0</td>\n",
       "      <td>0.0</td>\n",
       "      <td>...</td>\n",
       "      <td>0.0</td>\n",
       "      <td>0.0</td>\n",
       "      <td>0.0</td>\n",
       "      <td>1.0</td>\n",
       "      <td>0.0</td>\n",
       "      <td>0.0</td>\n",
       "      <td>0.0</td>\n",
       "      <td>1.0</td>\n",
       "      <td>0.0</td>\n",
       "      <td>0.0</td>\n",
       "    </tr>\n",
       "  </tbody>\n",
       "</table>\n",
       "<p>5 rows × 233 columns</p>\n",
       "</div>"
      ],
      "text/plain": [
       "       latitude  longitude     price  minimum_nights  \\\n",
       "31211 -1.339822  -1.042322 -0.113896        0.377004   \n",
       "9605  -0.854593   0.237836  1.238849       -0.239587   \n",
       "41176  0.227488   0.547645 -0.496827       -0.002437   \n",
       "21795 -0.382766  -1.146025 -0.217954       -0.287018   \n",
       "38509 -0.169250  -0.128914  0.614505       -0.192157   \n",
       "\n",
       "       calculated_host_listings_count  availability_365  \\\n",
       "31211                       -0.185308         -0.795275   \n",
       "9605                        -0.154766          1.707105   \n",
       "41176                       -0.185308         -0.856123   \n",
       "21795                       -0.185308         -0.856123   \n",
       "38509                       -0.185308          0.421688   \n",
       "\n",
       "       neighbourhood_Allerton  neighbourhood_Arden Heights  \\\n",
       "31211                     0.0                          0.0   \n",
       "9605                      0.0                          0.0   \n",
       "41176                     0.0                          0.0   \n",
       "21795                     0.0                          0.0   \n",
       "38509                     0.0                          0.0   \n",
       "\n",
       "       neighbourhood_Arrochar  neighbourhood_Arverne  ...  \\\n",
       "31211                     0.0                    0.0  ...   \n",
       "9605                      0.0                    0.0  ...   \n",
       "41176                     0.0                    0.0  ...   \n",
       "21795                     0.0                    0.0  ...   \n",
       "38509                     0.0                    0.0  ...   \n",
       "\n",
       "       neighbourhood_Woodrow  neighbourhood_Woodside  \\\n",
       "31211                    0.0                     0.0   \n",
       "9605                     0.0                     0.0   \n",
       "41176                    0.0                     0.0   \n",
       "21795                    0.0                     0.0   \n",
       "38509                    0.0                     0.0   \n",
       "\n",
       "       neighbourhood_group_Bronx  neighbourhood_group_Brooklyn  \\\n",
       "31211                        0.0                           1.0   \n",
       "9605                         0.0                           1.0   \n",
       "41176                        0.0                           0.0   \n",
       "21795                        0.0                           0.0   \n",
       "38509                        0.0                           1.0   \n",
       "\n",
       "       neighbourhood_group_Manhattan  neighbourhood_group_Queens  \\\n",
       "31211                            0.0                         0.0   \n",
       "9605                             0.0                         0.0   \n",
       "41176                            0.0                         1.0   \n",
       "21795                            1.0                         0.0   \n",
       "38509                            0.0                         0.0   \n",
       "\n",
       "       neighbourhood_group_Staten Island  room_type_Entire home/apt  \\\n",
       "31211                                0.0                        1.0   \n",
       "9605                                 0.0                        1.0   \n",
       "41176                                0.0                        0.0   \n",
       "21795                                0.0                        0.0   \n",
       "38509                                0.0                        1.0   \n",
       "\n",
       "       room_type_Private room  room_type_Shared room  \n",
       "31211                     0.0                    0.0  \n",
       "9605                      0.0                    0.0  \n",
       "41176                     1.0                    0.0  \n",
       "21795                     1.0                    0.0  \n",
       "38509                     0.0                    0.0  \n",
       "\n",
       "[5 rows x 233 columns]"
      ]
     },
     "execution_count": 19,
     "metadata": {},
     "output_type": "execute_result"
    }
   ],
   "source": [
    "X_train_enc.head()"
   ]
  },
  {
   "cell_type": "markdown",
   "metadata": {},
   "source": [
    "Next, we'll try training some models:"
   ]
  },
  {
   "cell_type": "code",
   "execution_count": 20,
   "metadata": {},
   "outputs": [],
   "source": [
    "dr = DummyRegressor()"
   ]
  },
  {
   "cell_type": "code",
   "execution_count": 21,
   "metadata": {},
   "outputs": [
    {
     "data": {
      "text/plain": [
       "fit_time       0.015951\n",
       "score_time     0.000199\n",
       "test_score    -0.000103\n",
       "train_score    0.000000\n",
       "dtype: float64"
      ]
     },
     "execution_count": 21,
     "metadata": {},
     "output_type": "execute_result"
    }
   ],
   "source": [
    "pd.DataFrame(cross_validate(dr, X_train, y_train, return_train_score=True)).mean()"
   ]
  },
  {
   "cell_type": "markdown",
   "metadata": {},
   "source": [
    "Remember, the score here is the $R^2$. Let's try linear regression:"
   ]
  },
  {
   "cell_type": "code",
   "execution_count": 22,
   "metadata": {},
   "outputs": [],
   "source": [
    "lr = make_pipeline(preprocessor, Ridge())"
   ]
  },
  {
   "cell_type": "code",
   "execution_count": 23,
   "metadata": {},
   "outputs": [
    {
     "data": {
      "text/plain": [
       "fit_time       0.244398\n",
       "score_time     0.031209\n",
       "test_score     0.098440\n",
       "train_score    0.114548\n",
       "dtype: float64"
      ]
     },
     "execution_count": 23,
     "metadata": {},
     "output_type": "execute_result"
    }
   ],
   "source": [
    "pd.DataFrame(cross_validate(lr, X_train, y_train, return_train_score=True)).mean()"
   ]
  },
  {
   "cell_type": "markdown",
   "metadata": {},
   "source": [
    "And a LightGBM regressor (using this because it runs much faster than `RandomForestRegressor`!):"
   ]
  },
  {
   "cell_type": "code",
   "execution_count": 24,
   "metadata": {},
   "outputs": [],
   "source": [
    "lgbm = make_pipeline(preprocessor, LGBMRegressor())"
   ]
  },
  {
   "cell_type": "code",
   "execution_count": 25,
   "metadata": {},
   "outputs": [
    {
     "data": {
      "text/plain": [
       "fit_time           0.755740\n",
       "score_time         0.087211\n",
       "test_score         0.385951\n",
       "train_score        0.479080\n",
       "std_test_score     0.030012\n",
       "std_train_score    0.005436\n",
       "dtype: float64"
      ]
     },
     "execution_count": 25,
     "metadata": {},
     "output_type": "execute_result"
    }
   ],
   "source": [
    "cross_validate_std(lgbm, X_train, y_train, return_train_score=True)"
   ]
  },
  {
   "cell_type": "markdown",
   "metadata": {},
   "source": [
    "## Exercise 1: data preparation"
   ]
  },
  {
   "cell_type": "markdown",
   "metadata": {},
   "source": [
    "#### 1(a)\n",
    "rubric={points:5}\n",
    "\n",
    "Above I dropped the feature `number_of_reviews`. And yet, knowing the number of reviews seems quite useful in predicting the number of reviews per month. Why would it be problematic to leave this feature in?"
   ]
  },
  {
   "cell_type": "markdown",
   "metadata": {},
   "source": [
    "**Answer:** Our goal is to use actual features of the property to predict `reviews_per_month` as a proxy for popularity. The `number_of_reviews` is simply another proxy for popularity, and not an actual feature of the property. Therefore, knowing the `number_of_reviews` is cheating in a way because it might minimize the influence of actual features in predicting popularity, and additionally inhibits our ability to gain an intuition of the most important predictors."
   ]
  },
  {
   "cell_type": "markdown",
   "metadata": {},
   "source": [
    "#### (optional) 1(b)\n",
    "\n",
    "I noticed there were no missing values in the columns we're using, so I didn't put any imputation into the pipeline. In what scenario could that result in a problem down the line?"
   ]
  },
  {
   "cell_type": "markdown",
   "metadata": {},
   "source": []
  },
  {
   "cell_type": "markdown",
   "metadata": {},
   "source": [
    "#### 1(c)\n",
    "rubric={points:5}\n",
    "\n",
    "After one-hot encoding, the number of columns increased significantly:"
   ]
  },
  {
   "cell_type": "code",
   "execution_count": 26,
   "metadata": {},
   "outputs": [
    {
     "data": {
      "text/plain": [
       "9"
      ]
     },
     "execution_count": 26,
     "metadata": {},
     "output_type": "execute_result"
    }
   ],
   "source": [
    "len(numeric_features) + len(categorical_features)"
   ]
  },
  {
   "cell_type": "code",
   "execution_count": 27,
   "metadata": {},
   "outputs": [
    {
     "data": {
      "text/plain": [
       "233"
      ]
     },
     "execution_count": 27,
     "metadata": {},
     "output_type": "execute_result"
    }
   ],
   "source": [
    "len(new_columns)"
   ]
  },
  {
   "cell_type": "markdown",
   "metadata": {},
   "source": [
    "For each of the categorical variables printed below, how many new columns were generated?"
   ]
  },
  {
   "cell_type": "code",
   "execution_count": 28,
   "metadata": {},
   "outputs": [
    {
     "data": {
      "text/plain": [
       "['neighbourhood', 'neighbourhood_group', 'room_type']"
      ]
     },
     "execution_count": 28,
     "metadata": {},
     "output_type": "execute_result"
    }
   ],
   "source": [
    "categorical_features"
   ]
  },
  {
   "cell_type": "code",
   "execution_count": 29,
   "metadata": {},
   "outputs": [
    {
     "name": "stdout",
     "output_type": "stream",
     "text": [
      "neighbourhood: 219\n",
      "neighbourhood_group: 5\n",
      "room_type: 3\n"
     ]
    }
   ],
   "source": [
    "for cf in categorical_features:\n",
    "    print(cf + f': {len(X_train[cf].value_counts())}')"
   ]
  },
  {
   "cell_type": "markdown",
   "metadata": {},
   "source": [
    "**Answer:** If we define 'new' column as a one-hot-encoded column that didn't exist before:\n",
    "- `neighbourhood` is transformed into 219 new columns\n",
    "- `neighbourhood_group` is transformed into 5 new columns\n",
    "- `room_type` is transformed into 3 new columns\n",
    "\n",
    "This makes sense, because when added together, these produce 219 + 5 + 3 + 6 (`len(numeric_features)`) = 233 (`len(new_columns)`)"
   ]
  },
  {
   "cell_type": "markdown",
   "metadata": {},
   "source": [
    "#### (optional) 1(d)\n",
    "\n",
    "In the previous part you (hopefully) found that the vast majority of categories come from the \"neighborhood\" column. Let's look at how many of each category we have in the training set:"
   ]
  },
  {
   "cell_type": "code",
   "execution_count": 30,
   "metadata": {},
   "outputs": [
    {
     "data": {
      "text/plain": [
       "Williamsburg          2941\n",
       "Bedford-Stuyvesant    2788\n",
       "Harlem                1999\n",
       "Bushwick              1840\n",
       "Upper West Side       1502\n",
       "                      ... \n",
       "Co-op City               1\n",
       "Fort Wadsworth           1\n",
       "Rossville                1\n",
       "Woodrow                  1\n",
       "Willowbrook              1\n",
       "Name: neighbourhood, Length: 219, dtype: int64"
      ]
     },
     "execution_count": 30,
     "metadata": {},
     "output_type": "execute_result"
    }
   ],
   "source": [
    "df_train['neighbourhood'].value_counts()"
   ]
  },
  {
   "cell_type": "markdown",
   "metadata": {},
   "source": [
    "Perhaps it doesn't make sense to have separate columns for some of these very rare cases. The code below modifies the preprocessor so that the categories are specified inside the `OneHotEncoder`. It uses the 30 most frequent neighbourhoods in the training set as the fixed categories."
   ]
  },
  {
   "cell_type": "code",
   "execution_count": 31,
   "metadata": {},
   "outputs": [
    {
     "data": {
      "text/plain": [
       "array(['Williamsburg', 'Bedford-Stuyvesant', 'Harlem', 'Bushwick',\n",
       "       'Upper West Side', \"Hell's Kitchen\", 'East Village',\n",
       "       'Upper East Side', 'Crown Heights', 'Midtown', 'Chelsea',\n",
       "       'Greenpoint', 'East Harlem', 'Lower East Side',\n",
       "       'Washington Heights', 'Astoria', 'West Village',\n",
       "       'Financial District', 'Flatbush', 'Clinton Hill',\n",
       "       'Long Island City', 'Prospect-Lefferts Gardens', 'Park Slope',\n",
       "       'Fort Greene', 'East Flatbush', 'Kips Bay', 'Murray Hill',\n",
       "       'Ridgewood', 'Flushing', 'Greenwich Village'], dtype=object)"
      ]
     },
     "execution_count": 31,
     "metadata": {},
     "output_type": "execute_result"
    }
   ],
   "source": [
    "categories = df_train['neighbourhood'].value_counts()[:30].index.values\n",
    "categories"
   ]
  },
  {
   "cell_type": "code",
   "execution_count": 32,
   "metadata": {},
   "outputs": [
    {
     "data": {
      "text/plain": [
       "['neighbourhood', 'neighbourhood_group', 'room_type']"
      ]
     },
     "execution_count": 32,
     "metadata": {},
     "output_type": "execute_result"
    }
   ],
   "source": [
    "categorical_features"
   ]
  },
  {
   "cell_type": "code",
   "execution_count": 33,
   "metadata": {},
   "outputs": [],
   "source": [
    "preprocessor_cats = ColumnTransformer([\n",
    "    ('scale',  StandardScaler(), numeric_features),\n",
    "    ('ohe_cats', OneHotEncoder(handle_unknown='ignore', categories=[categories]), [\"neighbourhood\"]),\n",
    "    ('ohe', OneHotEncoder(handle_unknown='ignore'), [\"neighbourhood_group\", \"room_type\"])\n",
    "])"
   ]
  },
  {
   "cell_type": "markdown",
   "metadata": {},
   "source": [
    "We then train two linear regression models with small `alpha` values, one with the original preprocessor and one with the modified preprocessor:"
   ]
  },
  {
   "cell_type": "code",
   "execution_count": 34,
   "metadata": {},
   "outputs": [
    {
     "data": {
      "text/plain": [
       "fit_time           0.260474\n",
       "score_time         0.034764\n",
       "test_score         0.097260\n",
       "train_score        0.114827\n",
       "std_test_score     0.013116\n",
       "std_train_score    0.003532\n",
       "dtype: float64"
      ]
     },
     "execution_count": 34,
     "metadata": {},
     "output_type": "execute_result"
    }
   ],
   "source": [
    "lr_small = make_pipeline(preprocessor, Ridge(0.01))\n",
    "cross_validate_std(lr_small, X_train, y_train, return_train_score=True)"
   ]
  },
  {
   "cell_type": "code",
   "execution_count": 35,
   "metadata": {},
   "outputs": [
    {
     "data": {
      "text/plain": [
       "fit_time           0.167100\n",
       "score_time         0.029922\n",
       "test_score         0.080835\n",
       "train_score        0.084267\n",
       "std_test_score     0.007148\n",
       "std_train_score    0.001985\n",
       "dtype: float64"
      ]
     },
     "execution_count": 35,
     "metadata": {},
     "output_type": "execute_result"
    }
   ],
   "source": [
    "lr_small_cats = make_pipeline(preprocessor_cats, Ridge(0.01))\n",
    "cross_validate_std(lr_small_cats, X_train, y_train, return_train_score=True)"
   ]
  },
  {
   "cell_type": "markdown",
   "metadata": {},
   "source": [
    "In class I briefly mentioned that for our linear models (`LogisticRegression` and `Ridge`), having more features can be considered as having a more complex model because we have more coefficients. Given this, discuss the results above with respect to the fundamental tradeoff. Do the results align with your expectations?"
   ]
  },
  {
   "cell_type": "markdown",
   "metadata": {},
   "source": []
  },
  {
   "cell_type": "markdown",
   "metadata": {},
   "source": [
    "-----------------"
   ]
  },
  {
   "cell_type": "markdown",
   "metadata": {},
   "source": [
    "Earlier we dropped the `name` column, but perhaps the names contain useful information."
   ]
  },
  {
   "cell_type": "code",
   "execution_count": 36,
   "metadata": {},
   "outputs": [
    {
     "data": {
      "text/plain": [
       "31211    new-entire condo, terrace, parking D-N-R train...\n",
       "9605                  Authentic Brownstone New York Living\n",
       "41176                          Big sunny room in Sunnyside\n",
       "21795                   Divided Room in Financial District\n",
       "38509      Brick and Beam Experience in North Williamsburg\n",
       "                               ...                        \n",
       "7763                      SUNNY ROOM A IN CHARMING AREA :)\n",
       "15377               IDEAL One bedroom apt by Central Park!\n",
       "17730                        Sunlit, spacious NY apartment\n",
       "28030                                            One room.\n",
       "15725                     Cozy Private Room w/ 1 Queen Bed\n",
       "Name: name, Length: 36671, dtype: object"
      ]
     },
     "execution_count": 36,
     "metadata": {},
     "output_type": "execute_result"
    }
   ],
   "source": [
    "X_train[\"name\"]"
   ]
  },
  {
   "cell_type": "markdown",
   "metadata": {},
   "source": [
    "For example, maybe listings with the word \"new\" are more popular than listings with the word \"rustic\". Let's update the feature preprocessing so that `name` is not dropped, but instead encoded with `CountVectorizer`. Let's update the preprocessor:"
   ]
  },
  {
   "cell_type": "code",
   "execution_count": 37,
   "metadata": {},
   "outputs": [],
   "source": [
    "preprocessor_text = ColumnTransformer([\n",
    "    ('scale',  StandardScaler(), numeric_features),\n",
    "    ('ohe', OneHotEncoder(handle_unknown='ignore'), categorical_features),\n",
    "    ('text', CountVectorizer(max_features=100, stop_words='english'), \"name\")\n",
    "])"
   ]
  },
  {
   "cell_type": "markdown",
   "metadata": {},
   "source": [
    "We can take a look at the transformed training data:"
   ]
  },
  {
   "cell_type": "code",
   "execution_count": 38,
   "metadata": {},
   "outputs": [],
   "source": [
    "preprocessor_text.fit(X_train, y_train);"
   ]
  },
  {
   "cell_type": "code",
   "execution_count": 39,
   "metadata": {},
   "outputs": [],
   "source": [
    "word_feature_names = ['name_' + word for word in preprocessor_text.named_transformers_['text'].get_feature_names()]\n",
    "new_columns_text = new_columns + word_feature_names"
   ]
  },
  {
   "cell_type": "code",
   "execution_count": 40,
   "metadata": {},
   "outputs": [
    {
     "data": {
      "text/html": [
       "<div>\n",
       "<style scoped>\n",
       "    .dataframe tbody tr th:only-of-type {\n",
       "        vertical-align: middle;\n",
       "    }\n",
       "\n",
       "    .dataframe tbody tr th {\n",
       "        vertical-align: top;\n",
       "    }\n",
       "\n",
       "    .dataframe thead th {\n",
       "        text-align: right;\n",
       "    }\n",
       "</style>\n",
       "<table border=\"1\" class=\"dataframe\">\n",
       "  <thead>\n",
       "    <tr style=\"text-align: right;\">\n",
       "      <th></th>\n",
       "      <th>latitude</th>\n",
       "      <th>longitude</th>\n",
       "      <th>price</th>\n",
       "      <th>minimum_nights</th>\n",
       "      <th>calculated_host_listings_count</th>\n",
       "      <th>availability_365</th>\n",
       "      <th>neighbourhood_Allerton</th>\n",
       "      <th>neighbourhood_Arden Heights</th>\n",
       "      <th>neighbourhood_Arrochar</th>\n",
       "      <th>neighbourhood_Arverne</th>\n",
       "      <th>...</th>\n",
       "      <th>name_townhouse</th>\n",
       "      <th>name_train</th>\n",
       "      <th>name_upper</th>\n",
       "      <th>name_uws</th>\n",
       "      <th>name_view</th>\n",
       "      <th>name_views</th>\n",
       "      <th>name_village</th>\n",
       "      <th>name_west</th>\n",
       "      <th>name_williamsburg</th>\n",
       "      <th>name_york</th>\n",
       "    </tr>\n",
       "  </thead>\n",
       "  <tbody>\n",
       "    <tr>\n",
       "      <th>31211</th>\n",
       "      <td>-1.339822</td>\n",
       "      <td>-1.042322</td>\n",
       "      <td>-0.113896</td>\n",
       "      <td>0.377004</td>\n",
       "      <td>-0.185308</td>\n",
       "      <td>-0.795275</td>\n",
       "      <td>0.0</td>\n",
       "      <td>0.0</td>\n",
       "      <td>0.0</td>\n",
       "      <td>0.0</td>\n",
       "      <td>...</td>\n",
       "      <td>0.0</td>\n",
       "      <td>0.0</td>\n",
       "      <td>0.0</td>\n",
       "      <td>0.0</td>\n",
       "      <td>0.0</td>\n",
       "      <td>0.0</td>\n",
       "      <td>0.0</td>\n",
       "      <td>0.0</td>\n",
       "      <td>0.0</td>\n",
       "      <td>0.0</td>\n",
       "    </tr>\n",
       "    <tr>\n",
       "      <th>9605</th>\n",
       "      <td>-0.854593</td>\n",
       "      <td>0.237836</td>\n",
       "      <td>1.238849</td>\n",
       "      <td>-0.239587</td>\n",
       "      <td>-0.154766</td>\n",
       "      <td>1.707105</td>\n",
       "      <td>0.0</td>\n",
       "      <td>0.0</td>\n",
       "      <td>0.0</td>\n",
       "      <td>0.0</td>\n",
       "      <td>...</td>\n",
       "      <td>0.0</td>\n",
       "      <td>0.0</td>\n",
       "      <td>0.0</td>\n",
       "      <td>0.0</td>\n",
       "      <td>0.0</td>\n",
       "      <td>0.0</td>\n",
       "      <td>0.0</td>\n",
       "      <td>0.0</td>\n",
       "      <td>0.0</td>\n",
       "      <td>1.0</td>\n",
       "    </tr>\n",
       "    <tr>\n",
       "      <th>41176</th>\n",
       "      <td>0.227488</td>\n",
       "      <td>0.547645</td>\n",
       "      <td>-0.496827</td>\n",
       "      <td>-0.002437</td>\n",
       "      <td>-0.185308</td>\n",
       "      <td>-0.856123</td>\n",
       "      <td>0.0</td>\n",
       "      <td>0.0</td>\n",
       "      <td>0.0</td>\n",
       "      <td>0.0</td>\n",
       "      <td>...</td>\n",
       "      <td>0.0</td>\n",
       "      <td>0.0</td>\n",
       "      <td>0.0</td>\n",
       "      <td>0.0</td>\n",
       "      <td>0.0</td>\n",
       "      <td>0.0</td>\n",
       "      <td>0.0</td>\n",
       "      <td>0.0</td>\n",
       "      <td>0.0</td>\n",
       "      <td>0.0</td>\n",
       "    </tr>\n",
       "    <tr>\n",
       "      <th>21795</th>\n",
       "      <td>-0.382766</td>\n",
       "      <td>-1.146025</td>\n",
       "      <td>-0.217954</td>\n",
       "      <td>-0.287018</td>\n",
       "      <td>-0.185308</td>\n",
       "      <td>-0.856123</td>\n",
       "      <td>0.0</td>\n",
       "      <td>0.0</td>\n",
       "      <td>0.0</td>\n",
       "      <td>0.0</td>\n",
       "      <td>...</td>\n",
       "      <td>0.0</td>\n",
       "      <td>0.0</td>\n",
       "      <td>0.0</td>\n",
       "      <td>0.0</td>\n",
       "      <td>0.0</td>\n",
       "      <td>0.0</td>\n",
       "      <td>0.0</td>\n",
       "      <td>0.0</td>\n",
       "      <td>0.0</td>\n",
       "      <td>0.0</td>\n",
       "    </tr>\n",
       "    <tr>\n",
       "      <th>38509</th>\n",
       "      <td>-0.169250</td>\n",
       "      <td>-0.128914</td>\n",
       "      <td>0.614505</td>\n",
       "      <td>-0.192157</td>\n",
       "      <td>-0.185308</td>\n",
       "      <td>0.421688</td>\n",
       "      <td>0.0</td>\n",
       "      <td>0.0</td>\n",
       "      <td>0.0</td>\n",
       "      <td>0.0</td>\n",
       "      <td>...</td>\n",
       "      <td>0.0</td>\n",
       "      <td>0.0</td>\n",
       "      <td>0.0</td>\n",
       "      <td>0.0</td>\n",
       "      <td>0.0</td>\n",
       "      <td>0.0</td>\n",
       "      <td>0.0</td>\n",
       "      <td>0.0</td>\n",
       "      <td>1.0</td>\n",
       "      <td>0.0</td>\n",
       "    </tr>\n",
       "  </tbody>\n",
       "</table>\n",
       "<p>5 rows × 333 columns</p>\n",
       "</div>"
      ],
      "text/plain": [
       "       latitude  longitude     price  minimum_nights  \\\n",
       "31211 -1.339822  -1.042322 -0.113896        0.377004   \n",
       "9605  -0.854593   0.237836  1.238849       -0.239587   \n",
       "41176  0.227488   0.547645 -0.496827       -0.002437   \n",
       "21795 -0.382766  -1.146025 -0.217954       -0.287018   \n",
       "38509 -0.169250  -0.128914  0.614505       -0.192157   \n",
       "\n",
       "       calculated_host_listings_count  availability_365  \\\n",
       "31211                       -0.185308         -0.795275   \n",
       "9605                        -0.154766          1.707105   \n",
       "41176                       -0.185308         -0.856123   \n",
       "21795                       -0.185308         -0.856123   \n",
       "38509                       -0.185308          0.421688   \n",
       "\n",
       "       neighbourhood_Allerton  neighbourhood_Arden Heights  \\\n",
       "31211                     0.0                          0.0   \n",
       "9605                      0.0                          0.0   \n",
       "41176                     0.0                          0.0   \n",
       "21795                     0.0                          0.0   \n",
       "38509                     0.0                          0.0   \n",
       "\n",
       "       neighbourhood_Arrochar  neighbourhood_Arverne  ...  name_townhouse  \\\n",
       "31211                     0.0                    0.0  ...             0.0   \n",
       "9605                      0.0                    0.0  ...             0.0   \n",
       "41176                     0.0                    0.0  ...             0.0   \n",
       "21795                     0.0                    0.0  ...             0.0   \n",
       "38509                     0.0                    0.0  ...             0.0   \n",
       "\n",
       "       name_train  name_upper  name_uws  name_view  name_views  name_village  \\\n",
       "31211         0.0         0.0       0.0        0.0         0.0           0.0   \n",
       "9605          0.0         0.0       0.0        0.0         0.0           0.0   \n",
       "41176         0.0         0.0       0.0        0.0         0.0           0.0   \n",
       "21795         0.0         0.0       0.0        0.0         0.0           0.0   \n",
       "38509         0.0         0.0       0.0        0.0         0.0           0.0   \n",
       "\n",
       "       name_west  name_williamsburg  name_york  \n",
       "31211        0.0                0.0        0.0  \n",
       "9605         0.0                0.0        1.0  \n",
       "41176        0.0                0.0        0.0  \n",
       "21795        0.0                0.0        0.0  \n",
       "38509        0.0                1.0        0.0  \n",
       "\n",
       "[5 rows x 333 columns]"
      ]
     },
     "execution_count": 40,
     "metadata": {},
     "output_type": "execute_result"
    }
   ],
   "source": [
    "X_train_enc_text = pd.DataFrame(data=preprocessor_text.transform(X_train).toarray(), columns=new_columns_text, index=X_train.index)\n",
    "X_train_enc_text.head()"
   ]
  },
  {
   "cell_type": "markdown",
   "metadata": {},
   "source": [
    "We now have a lot of features generated by the OHE and the word counts:"
   ]
  },
  {
   "cell_type": "code",
   "execution_count": 41,
   "metadata": {},
   "outputs": [
    {
     "data": {
      "text/plain": [
       "['neighbourhood_Allerton',\n",
       " 'neighbourhood_Arden Heights',\n",
       " 'neighbourhood_Arrochar',\n",
       " 'neighbourhood_Arverne',\n",
       " 'neighbourhood_Astoria',\n",
       " 'neighbourhood_Bath Beach',\n",
       " 'neighbourhood_Battery Park City',\n",
       " 'neighbourhood_Bay Ridge',\n",
       " 'neighbourhood_Bay Terrace',\n",
       " 'neighbourhood_Bay Terrace, Staten Island',\n",
       " 'neighbourhood_Baychester',\n",
       " 'neighbourhood_Bayside',\n",
       " 'neighbourhood_Bayswater',\n",
       " 'neighbourhood_Bedford-Stuyvesant',\n",
       " 'neighbourhood_Belle Harbor',\n",
       " 'neighbourhood_Bellerose',\n",
       " 'neighbourhood_Belmont',\n",
       " 'neighbourhood_Bensonhurst',\n",
       " 'neighbourhood_Bergen Beach',\n",
       " 'neighbourhood_Boerum Hill']"
      ]
     },
     "execution_count": 41,
     "metadata": {},
     "output_type": "execute_result"
    }
   ],
   "source": [
    "ohe_feature_names[:20]"
   ]
  },
  {
   "cell_type": "code",
   "execution_count": 42,
   "metadata": {},
   "outputs": [
    {
     "data": {
      "text/plain": [
       "['name_1br',\n",
       " 'name_2br',\n",
       " 'name_amazing',\n",
       " 'name_apartment',\n",
       " 'name_apt',\n",
       " 'name_artist',\n",
       " 'name_astoria',\n",
       " 'name_away',\n",
       " 'name_backyard',\n",
       " 'name_balcony',\n",
       " 'name_bath',\n",
       " 'name_bathroom',\n",
       " 'name_beautiful',\n",
       " 'name_bed',\n",
       " 'name_bedroom',\n",
       " 'name_best',\n",
       " 'name_big',\n",
       " 'name_bk',\n",
       " 'name_br',\n",
       " 'name_bright']"
      ]
     },
     "execution_count": 42,
     "metadata": {},
     "output_type": "execute_result"
    }
   ],
   "source": [
    "word_feature_names[:20]"
   ]
  },
  {
   "cell_type": "markdown",
   "metadata": {},
   "source": [
    "In fact, it seems we now have a feature called `neighbourhood_Williamsburg` and a feature called `name_williamsburg`:"
   ]
  },
  {
   "cell_type": "code",
   "execution_count": 43,
   "metadata": {},
   "outputs": [
    {
     "data": {
      "text/html": [
       "<div>\n",
       "<style scoped>\n",
       "    .dataframe tbody tr th:only-of-type {\n",
       "        vertical-align: middle;\n",
       "    }\n",
       "\n",
       "    .dataframe tbody tr th {\n",
       "        vertical-align: top;\n",
       "    }\n",
       "\n",
       "    .dataframe thead th {\n",
       "        text-align: right;\n",
       "    }\n",
       "</style>\n",
       "<table border=\"1\" class=\"dataframe\">\n",
       "  <thead>\n",
       "    <tr style=\"text-align: right;\">\n",
       "      <th></th>\n",
       "      <th>neighbourhood_Williamsburg</th>\n",
       "      <th>name_williamsburg</th>\n",
       "    </tr>\n",
       "  </thead>\n",
       "  <tbody>\n",
       "    <tr>\n",
       "      <th>31211</th>\n",
       "      <td>0.0</td>\n",
       "      <td>0.0</td>\n",
       "    </tr>\n",
       "    <tr>\n",
       "      <th>9605</th>\n",
       "      <td>0.0</td>\n",
       "      <td>0.0</td>\n",
       "    </tr>\n",
       "    <tr>\n",
       "      <th>41176</th>\n",
       "      <td>0.0</td>\n",
       "      <td>0.0</td>\n",
       "    </tr>\n",
       "    <tr>\n",
       "      <th>21795</th>\n",
       "      <td>0.0</td>\n",
       "      <td>0.0</td>\n",
       "    </tr>\n",
       "    <tr>\n",
       "      <th>38509</th>\n",
       "      <td>1.0</td>\n",
       "      <td>1.0</td>\n",
       "    </tr>\n",
       "    <tr>\n",
       "      <th>...</th>\n",
       "      <td>...</td>\n",
       "      <td>...</td>\n",
       "    </tr>\n",
       "    <tr>\n",
       "      <th>7763</th>\n",
       "      <td>0.0</td>\n",
       "      <td>0.0</td>\n",
       "    </tr>\n",
       "    <tr>\n",
       "      <th>15377</th>\n",
       "      <td>0.0</td>\n",
       "      <td>0.0</td>\n",
       "    </tr>\n",
       "    <tr>\n",
       "      <th>17730</th>\n",
       "      <td>0.0</td>\n",
       "      <td>0.0</td>\n",
       "    </tr>\n",
       "    <tr>\n",
       "      <th>28030</th>\n",
       "      <td>0.0</td>\n",
       "      <td>0.0</td>\n",
       "    </tr>\n",
       "    <tr>\n",
       "      <th>15725</th>\n",
       "      <td>0.0</td>\n",
       "      <td>0.0</td>\n",
       "    </tr>\n",
       "  </tbody>\n",
       "</table>\n",
       "<p>36671 rows × 2 columns</p>\n",
       "</div>"
      ],
      "text/plain": [
       "       neighbourhood_Williamsburg  name_williamsburg\n",
       "31211                         0.0                0.0\n",
       "9605                          0.0                0.0\n",
       "41176                         0.0                0.0\n",
       "21795                         0.0                0.0\n",
       "38509                         1.0                1.0\n",
       "...                           ...                ...\n",
       "7763                          0.0                0.0\n",
       "15377                         0.0                0.0\n",
       "17730                         0.0                0.0\n",
       "28030                         0.0                0.0\n",
       "15725                         0.0                0.0\n",
       "\n",
       "[36671 rows x 2 columns]"
      ]
     },
     "execution_count": 43,
     "metadata": {},
     "output_type": "execute_result"
    }
   ],
   "source": [
    "X_train_enc_text[['neighbourhood_Williamsburg', 'name_williamsburg']]"
   ]
  },
  {
   "cell_type": "markdown",
   "metadata": {},
   "source": [
    "#### 1(e)\n",
    "rubric={points:5}"
   ]
  },
  {
   "cell_type": "markdown",
   "metadata": {},
   "source": [
    "- What is the difference between our features  `neighbourhood_Williamsburg` and `name_williamsburg`? \n",
    "- Is it possible that one could be zero and the other nonzero?\n",
    "- Is it redundant to have both?"
   ]
  },
  {
   "cell_type": "markdown",
   "metadata": {},
   "source": [
    "**Answer:**\n",
    "- The difference is:\n",
    " - `neighbourhood_Williamsburg` is a one-hot encoded column that contains a 1.0 if the `neighbourhood` column in the original dataset was the 'Williamsburg' category, 0.0 otherwise; whereas \n",
    " - `name_williamsburg` is a count-vectorizer produced column that contains a number representing the *number of occurances* of the word 'williamsburg' in the `name` feature of the property\n",
    "- It is possible that one is zero and the other is nonzero; a property `name` could contain 'williamsburg' (i.e. \"Loft close to Williamsburg\") without actually being in the 'Williamsburg' `neighbourhood`. In this case, `name_williamsburg` would be 1.0, but `neighbourhood_Williamsburg` would be 0.0.\n",
    "- I think both features could be useful; in the example above, the presence of the word 'williamsburg' might still be useful, if the neighbourhood is close to the area but not categorically in it. Moreover, `CountVectorizer` (as used here), will show the number of occurances of this word in the name, which might provide more signal than just the presence or absence of 'williamsburg'."
   ]
  },
  {
   "cell_type": "markdown",
   "metadata": {},
   "source": [
    "#### (optional) 1(f)"
   ]
  },
  {
   "cell_type": "markdown",
   "metadata": {},
   "source": [
    "Next, we explore the target values. The number of reviews per month ranges quite a bit:"
   ]
  },
  {
   "cell_type": "code",
   "execution_count": 44,
   "metadata": {},
   "outputs": [
    {
     "data": {
      "text/plain": [
       "count    36671.000000\n",
       "mean         1.091355\n",
       "std          1.611707\n",
       "min          0.000000\n",
       "25%          0.040000\n",
       "50%          0.370000\n",
       "75%          1.580000\n",
       "max         58.500000\n",
       "Name: reviews_per_month, dtype: float64"
      ]
     },
     "execution_count": 44,
     "metadata": {},
     "output_type": "execute_result"
    }
   ],
   "source": [
    "y_train.describe()"
   ]
  },
  {
   "cell_type": "code",
   "execution_count": 45,
   "metadata": {},
   "outputs": [
    {
     "data": {
      "image/png": "[encoded data removed]",
      "text/plain": [
       "<Figure size 432x288 with 1 Axes>"
      ]
     },
     "metadata": {
      "needs_background": "light"
     },
     "output_type": "display_data"
    }
   ],
   "source": [
    "y_train.hist(bins=100);"
   ]
  },
  {
   "cell_type": "markdown",
   "metadata": {},
   "source": [
    "We decide to log-transform these targets, because decide we care more about relative than absolute error:"
   ]
  },
  {
   "cell_type": "code",
   "execution_count": 46,
   "metadata": {},
   "outputs": [
    {
     "name": "stderr",
     "output_type": "stream",
     "text": [
      "divide by zero encountered in log\n"
     ]
    }
   ],
   "source": [
    "y_train_log = np.log(y_train)\n",
    "y_test_log  = np.log(y_test)"
   ]
  },
  {
   "cell_type": "code",
   "execution_count": 47,
   "metadata": {
    "tags": [
     "raises-exception"
    ]
   },
   "outputs": [
    {
     "ename": "ValueError",
     "evalue": "supplied range of [-inf, 4.069026754237811] is not finite",
     "output_type": "error",
     "traceback": [
      "\u001b[1;31m---------------------------------------------------------------------------\u001b[0m",
      "\u001b[1;31mValueError\u001b[0m                                Traceback (most recent call last)",
      "\u001b[1;32m<ipython-input-47-a63124340d67>\u001b[0m in \u001b[0;36m<module>\u001b[1;34m\u001b[0m\n\u001b[1;32m----> 1\u001b[1;33m \u001b[0my_train_log\u001b[0m\u001b[1;33m.\u001b[0m\u001b[0mhist\u001b[0m\u001b[1;33m(\u001b[0m\u001b[1;33m)\u001b[0m\u001b[1;33m\u001b[0m\u001b[1;33m\u001b[0m\u001b[0m\n\u001b[0m",
      "\u001b[1;32m~\\.conda\\envs\\cpsc330env\\lib\\site-packages\\pandas\\plotting\\_core.py\u001b[0m in \u001b[0;36mhist_series\u001b[1;34m(self, by, ax, grid, xlabelsize, xrot, ylabelsize, yrot, figsize, bins, backend, legend, **kwargs)\u001b[0m\n\u001b[0;32m     83\u001b[0m     \"\"\"\n\u001b[0;32m     84\u001b[0m     \u001b[0mplot_backend\u001b[0m \u001b[1;33m=\u001b[0m \u001b[0m_get_plot_backend\u001b[0m\u001b[1;33m(\u001b[0m\u001b[0mbackend\u001b[0m\u001b[1;33m)\u001b[0m\u001b[1;33m\u001b[0m\u001b[1;33m\u001b[0m\u001b[0m\n\u001b[1;32m---> 85\u001b[1;33m     return plot_backend.hist_series(\n\u001b[0m\u001b[0;32m     86\u001b[0m         \u001b[0mself\u001b[0m\u001b[1;33m,\u001b[0m\u001b[1;33m\u001b[0m\u001b[1;33m\u001b[0m\u001b[0m\n\u001b[0;32m     87\u001b[0m         \u001b[0mby\u001b[0m\u001b[1;33m=\u001b[0m\u001b[0mby\u001b[0m\u001b[1;33m,\u001b[0m\u001b[1;33m\u001b[0m\u001b[1;33m\u001b[0m\u001b[0m\n",
      "\u001b[1;32m~\\.conda\\envs\\cpsc330env\\lib\\site-packages\\pandas\\plotting\\_matplotlib\\hist.py\u001b[0m in \u001b[0;36mhist_series\u001b[1;34m(self, by, ax, grid, xlabelsize, xrot, ylabelsize, yrot, figsize, bins, legend, **kwds)\u001b[0m\n\u001b[0;32m    327\u001b[0m         \u001b[1;32mif\u001b[0m \u001b[0mlegend\u001b[0m\u001b[1;33m:\u001b[0m\u001b[1;33m\u001b[0m\u001b[1;33m\u001b[0m\u001b[0m\n\u001b[0;32m    328\u001b[0m             \u001b[0mkwds\u001b[0m\u001b[1;33m[\u001b[0m\u001b[1;34m\"label\"\u001b[0m\u001b[1;33m]\u001b[0m \u001b[1;33m=\u001b[0m \u001b[0mself\u001b[0m\u001b[1;33m.\u001b[0m\u001b[0mname\u001b[0m\u001b[1;33m\u001b[0m\u001b[1;33m\u001b[0m\u001b[0m\n\u001b[1;32m--> 329\u001b[1;33m         \u001b[0max\u001b[0m\u001b[1;33m.\u001b[0m\u001b[0mhist\u001b[0m\u001b[1;33m(\u001b[0m\u001b[0mvalues\u001b[0m\u001b[1;33m,\u001b[0m \u001b[0mbins\u001b[0m\u001b[1;33m=\u001b[0m\u001b[0mbins\u001b[0m\u001b[1;33m,\u001b[0m \u001b[1;33m**\u001b[0m\u001b[0mkwds\u001b[0m\u001b[1;33m)\u001b[0m\u001b[1;33m\u001b[0m\u001b[1;33m\u001b[0m\u001b[0m\n\u001b[0m\u001b[0;32m    330\u001b[0m         \u001b[1;32mif\u001b[0m \u001b[0mlegend\u001b[0m\u001b[1;33m:\u001b[0m\u001b[1;33m\u001b[0m\u001b[1;33m\u001b[0m\u001b[0m\n\u001b[0;32m    331\u001b[0m             \u001b[0max\u001b[0m\u001b[1;33m.\u001b[0m\u001b[0mlegend\u001b[0m\u001b[1;33m(\u001b[0m\u001b[1;33m)\u001b[0m\u001b[1;33m\u001b[0m\u001b[1;33m\u001b[0m\u001b[0m\n",
      "\u001b[1;32m~\\.conda\\envs\\cpsc330env\\lib\\site-packages\\matplotlib\\__init__.py\u001b[0m in \u001b[0;36minner\u001b[1;34m(ax, data, *args, **kwargs)\u001b[0m\n\u001b[0;32m   1436\u001b[0m     \u001b[1;32mdef\u001b[0m \u001b[0minner\u001b[0m\u001b[1;33m(\u001b[0m\u001b[0max\u001b[0m\u001b[1;33m,\u001b[0m \u001b[1;33m*\u001b[0m\u001b[0margs\u001b[0m\u001b[1;33m,\u001b[0m \u001b[0mdata\u001b[0m\u001b[1;33m=\u001b[0m\u001b[1;32mNone\u001b[0m\u001b[1;33m,\u001b[0m \u001b[1;33m**\u001b[0m\u001b[0mkwargs\u001b[0m\u001b[1;33m)\u001b[0m\u001b[1;33m:\u001b[0m\u001b[1;33m\u001b[0m\u001b[1;33m\u001b[0m\u001b[0m\n\u001b[0;32m   1437\u001b[0m         \u001b[1;32mif\u001b[0m \u001b[0mdata\u001b[0m \u001b[1;32mis\u001b[0m \u001b[1;32mNone\u001b[0m\u001b[1;33m:\u001b[0m\u001b[1;33m\u001b[0m\u001b[1;33m\u001b[0m\u001b[0m\n\u001b[1;32m-> 1438\u001b[1;33m             \u001b[1;32mreturn\u001b[0m \u001b[0mfunc\u001b[0m\u001b[1;33m(\u001b[0m\u001b[0max\u001b[0m\u001b[1;33m,\u001b[0m \u001b[1;33m*\u001b[0m\u001b[0mmap\u001b[0m\u001b[1;33m(\u001b[0m\u001b[0msanitize_sequence\u001b[0m\u001b[1;33m,\u001b[0m \u001b[0margs\u001b[0m\u001b[1;33m)\u001b[0m\u001b[1;33m,\u001b[0m \u001b[1;33m**\u001b[0m\u001b[0mkwargs\u001b[0m\u001b[1;33m)\u001b[0m\u001b[1;33m\u001b[0m\u001b[1;33m\u001b[0m\u001b[0m\n\u001b[0m\u001b[0;32m   1439\u001b[0m \u001b[1;33m\u001b[0m\u001b[0m\n\u001b[0;32m   1440\u001b[0m         \u001b[0mbound\u001b[0m \u001b[1;33m=\u001b[0m \u001b[0mnew_sig\u001b[0m\u001b[1;33m.\u001b[0m\u001b[0mbind\u001b[0m\u001b[1;33m(\u001b[0m\u001b[0max\u001b[0m\u001b[1;33m,\u001b[0m \u001b[1;33m*\u001b[0m\u001b[0margs\u001b[0m\u001b[1;33m,\u001b[0m \u001b[1;33m**\u001b[0m\u001b[0mkwargs\u001b[0m\u001b[1;33m)\u001b[0m\u001b[1;33m\u001b[0m\u001b[1;33m\u001b[0m\u001b[0m\n",
      "\u001b[1;32m~\\.conda\\envs\\cpsc330env\\lib\\site-packages\\matplotlib\\axes\\_axes.py\u001b[0m in \u001b[0;36mhist\u001b[1;34m(self, x, bins, range, density, weights, cumulative, bottom, histtype, align, orientation, rwidth, log, color, label, stacked, **kwargs)\u001b[0m\n\u001b[0;32m   6646\u001b[0m             \u001b[1;31m# this will automatically overwrite bins,\u001b[0m\u001b[1;33m\u001b[0m\u001b[1;33m\u001b[0m\u001b[1;33m\u001b[0m\u001b[0m\n\u001b[0;32m   6647\u001b[0m             \u001b[1;31m# so that each histogram uses the same bins\u001b[0m\u001b[1;33m\u001b[0m\u001b[1;33m\u001b[0m\u001b[1;33m\u001b[0m\u001b[0m\n\u001b[1;32m-> 6648\u001b[1;33m             \u001b[0mm\u001b[0m\u001b[1;33m,\u001b[0m \u001b[0mbins\u001b[0m \u001b[1;33m=\u001b[0m \u001b[0mnp\u001b[0m\u001b[1;33m.\u001b[0m\u001b[0mhistogram\u001b[0m\u001b[1;33m(\u001b[0m\u001b[0mx\u001b[0m\u001b[1;33m[\u001b[0m\u001b[0mi\u001b[0m\u001b[1;33m]\u001b[0m\u001b[1;33m,\u001b[0m \u001b[0mbins\u001b[0m\u001b[1;33m,\u001b[0m \u001b[0mweights\u001b[0m\u001b[1;33m=\u001b[0m\u001b[0mw\u001b[0m\u001b[1;33m[\u001b[0m\u001b[0mi\u001b[0m\u001b[1;33m]\u001b[0m\u001b[1;33m,\u001b[0m \u001b[1;33m**\u001b[0m\u001b[0mhist_kwargs\u001b[0m\u001b[1;33m)\u001b[0m\u001b[1;33m\u001b[0m\u001b[1;33m\u001b[0m\u001b[0m\n\u001b[0m\u001b[0;32m   6649\u001b[0m             \u001b[0mtops\u001b[0m\u001b[1;33m.\u001b[0m\u001b[0mappend\u001b[0m\u001b[1;33m(\u001b[0m\u001b[0mm\u001b[0m\u001b[1;33m)\u001b[0m\u001b[1;33m\u001b[0m\u001b[1;33m\u001b[0m\u001b[0m\n\u001b[0;32m   6650\u001b[0m         \u001b[0mtops\u001b[0m \u001b[1;33m=\u001b[0m \u001b[0mnp\u001b[0m\u001b[1;33m.\u001b[0m\u001b[0marray\u001b[0m\u001b[1;33m(\u001b[0m\u001b[0mtops\u001b[0m\u001b[1;33m,\u001b[0m \u001b[0mfloat\u001b[0m\u001b[1;33m)\u001b[0m  \u001b[1;31m# causes problems later if it's an int\u001b[0m\u001b[1;33m\u001b[0m\u001b[1;33m\u001b[0m\u001b[0m\n",
      "\u001b[1;32m<__array_function__ internals>\u001b[0m in \u001b[0;36mhistogram\u001b[1;34m(*args, **kwargs)\u001b[0m\n",
      "\u001b[1;32m~\\.conda\\envs\\cpsc330env\\lib\\site-packages\\numpy\\lib\\histograms.py\u001b[0m in \u001b[0;36mhistogram\u001b[1;34m(a, bins, range, normed, weights, density)\u001b[0m\n\u001b[0;32m    790\u001b[0m     \u001b[0ma\u001b[0m\u001b[1;33m,\u001b[0m \u001b[0mweights\u001b[0m \u001b[1;33m=\u001b[0m \u001b[0m_ravel_and_check_weights\u001b[0m\u001b[1;33m(\u001b[0m\u001b[0ma\u001b[0m\u001b[1;33m,\u001b[0m \u001b[0mweights\u001b[0m\u001b[1;33m)\u001b[0m\u001b[1;33m\u001b[0m\u001b[1;33m\u001b[0m\u001b[0m\n\u001b[0;32m    791\u001b[0m \u001b[1;33m\u001b[0m\u001b[0m\n\u001b[1;32m--> 792\u001b[1;33m     \u001b[0mbin_edges\u001b[0m\u001b[1;33m,\u001b[0m \u001b[0muniform_bins\u001b[0m \u001b[1;33m=\u001b[0m \u001b[0m_get_bin_edges\u001b[0m\u001b[1;33m(\u001b[0m\u001b[0ma\u001b[0m\u001b[1;33m,\u001b[0m \u001b[0mbins\u001b[0m\u001b[1;33m,\u001b[0m \u001b[0mrange\u001b[0m\u001b[1;33m,\u001b[0m \u001b[0mweights\u001b[0m\u001b[1;33m)\u001b[0m\u001b[1;33m\u001b[0m\u001b[1;33m\u001b[0m\u001b[0m\n\u001b[0m\u001b[0;32m    793\u001b[0m \u001b[1;33m\u001b[0m\u001b[0m\n\u001b[0;32m    794\u001b[0m     \u001b[1;31m# Histogram is an integer or a float array depending on the weights.\u001b[0m\u001b[1;33m\u001b[0m\u001b[1;33m\u001b[0m\u001b[1;33m\u001b[0m\u001b[0m\n",
      "\u001b[1;32m~\\.conda\\envs\\cpsc330env\\lib\\site-packages\\numpy\\lib\\histograms.py\u001b[0m in \u001b[0;36m_get_bin_edges\u001b[1;34m(a, bins, range, weights)\u001b[0m\n\u001b[0;32m    424\u001b[0m             \u001b[1;32mraise\u001b[0m \u001b[0mValueError\u001b[0m\u001b[1;33m(\u001b[0m\u001b[1;34m'`bins` must be positive, when an integer'\u001b[0m\u001b[1;33m)\u001b[0m\u001b[1;33m\u001b[0m\u001b[1;33m\u001b[0m\u001b[0m\n\u001b[0;32m    425\u001b[0m \u001b[1;33m\u001b[0m\u001b[0m\n\u001b[1;32m--> 426\u001b[1;33m         \u001b[0mfirst_edge\u001b[0m\u001b[1;33m,\u001b[0m \u001b[0mlast_edge\u001b[0m \u001b[1;33m=\u001b[0m \u001b[0m_get_outer_edges\u001b[0m\u001b[1;33m(\u001b[0m\u001b[0ma\u001b[0m\u001b[1;33m,\u001b[0m \u001b[0mrange\u001b[0m\u001b[1;33m)\u001b[0m\u001b[1;33m\u001b[0m\u001b[1;33m\u001b[0m\u001b[0m\n\u001b[0m\u001b[0;32m    427\u001b[0m \u001b[1;33m\u001b[0m\u001b[0m\n\u001b[0;32m    428\u001b[0m     \u001b[1;32melif\u001b[0m \u001b[0mnp\u001b[0m\u001b[1;33m.\u001b[0m\u001b[0mndim\u001b[0m\u001b[1;33m(\u001b[0m\u001b[0mbins\u001b[0m\u001b[1;33m)\u001b[0m \u001b[1;33m==\u001b[0m \u001b[1;36m1\u001b[0m\u001b[1;33m:\u001b[0m\u001b[1;33m\u001b[0m\u001b[1;33m\u001b[0m\u001b[0m\n",
      "\u001b[1;32m~\\.conda\\envs\\cpsc330env\\lib\\site-packages\\numpy\\lib\\histograms.py\u001b[0m in \u001b[0;36m_get_outer_edges\u001b[1;34m(a, range)\u001b[0m\n\u001b[0;32m    313\u001b[0m                 'max must be larger than min in range parameter.')\n\u001b[0;32m    314\u001b[0m         \u001b[1;32mif\u001b[0m \u001b[1;32mnot\u001b[0m \u001b[1;33m(\u001b[0m\u001b[0mnp\u001b[0m\u001b[1;33m.\u001b[0m\u001b[0misfinite\u001b[0m\u001b[1;33m(\u001b[0m\u001b[0mfirst_edge\u001b[0m\u001b[1;33m)\u001b[0m \u001b[1;32mand\u001b[0m \u001b[0mnp\u001b[0m\u001b[1;33m.\u001b[0m\u001b[0misfinite\u001b[0m\u001b[1;33m(\u001b[0m\u001b[0mlast_edge\u001b[0m\u001b[1;33m)\u001b[0m\u001b[1;33m)\u001b[0m\u001b[1;33m:\u001b[0m\u001b[1;33m\u001b[0m\u001b[1;33m\u001b[0m\u001b[0m\n\u001b[1;32m--> 315\u001b[1;33m             raise ValueError(\n\u001b[0m\u001b[0;32m    316\u001b[0m                 \"supplied range of [{}, {}] is not finite\".format(first_edge, last_edge))\n\u001b[0;32m    317\u001b[0m     \u001b[1;32melif\u001b[0m \u001b[0ma\u001b[0m\u001b[1;33m.\u001b[0m\u001b[0msize\u001b[0m \u001b[1;33m==\u001b[0m \u001b[1;36m0\u001b[0m\u001b[1;33m:\u001b[0m\u001b[1;33m\u001b[0m\u001b[1;33m\u001b[0m\u001b[0m\n",
      "\u001b[1;31mValueError\u001b[0m: supplied range of [-inf, 4.069026754237811] is not finite"
     ]
    },
    {
     "data": {
      "image/png": "[encoded data removed]",
      "text/plain": [
       "<Figure size 432x288 with 1 Axes>"
      ]
     },
     "metadata": {
      "needs_background": "light"
     },
     "output_type": "display_data"
    }
   ],
   "source": [
    "y_train_log.hist()"
   ]
  },
  {
   "cell_type": "markdown",
   "metadata": {},
   "source": [
    "Oh no, an error!\n",
    "\n",
    "- Explain the issue.\n",
    "- Fix the issue."
   ]
  },
  {
   "cell_type": "markdown",
   "metadata": {},
   "source": []
  },
  {
   "cell_type": "markdown",
   "metadata": {},
   "source": [
    "## Exercise 2: model selection\n",
    "\n",
    "#### 2(a)\n",
    "rubric={points:15}\n",
    "\n",
    "- Use `GridSearchCV` or `RandomizedSearchCV` to tune a `LGBMRegressor` pipeline on this problem, using `preprocessor_text` with un-transformed y-values. \n",
    "- Tune `num_leaves` of the `LGBMRegressor` and `max_features` of the `CountVectorizer` at least (you're welcome to include more hyperparameters if you want).\n",
    "- What hyperparameters were chosen and what is the final score? "
   ]
  },
  {
   "cell_type": "code",
   "execution_count": 48,
   "metadata": {},
   "outputs": [
    {
     "name": "stdout",
     "output_type": "stream",
     "text": [
      "Fitting 5 folds for each of 16 candidates, totalling 80 fits\n"
     ]
    },
    {
     "name": "stderr",
     "output_type": "stream",
     "text": [
      "[Parallel(n_jobs=-1)]: Using backend LokyBackend with 12 concurrent workers.\n",
      "[Parallel(n_jobs=-1)]: Done  26 tasks      | elapsed:   14.5s\n",
      "[Parallel(n_jobs=-1)]: Done  80 out of  80 | elapsed:  1.3min finished\n"
     ]
    },
    {
     "data": {
      "text/html": [
       "<div>\n",
       "<style scoped>\n",
       "    .dataframe tbody tr th:only-of-type {\n",
       "        vertical-align: middle;\n",
       "    }\n",
       "\n",
       "    .dataframe tbody tr th {\n",
       "        vertical-align: top;\n",
       "    }\n",
       "\n",
       "    .dataframe thead th {\n",
       "        text-align: right;\n",
       "    }\n",
       "</style>\n",
       "<table border=\"1\" class=\"dataframe\">\n",
       "  <thead>\n",
       "    <tr style=\"text-align: right;\">\n",
       "      <th></th>\n",
       "      <th>rank_test_score</th>\n",
       "      <th>mean_test_score</th>\n",
       "      <th>std_test_score</th>\n",
       "      <th>mean_train_score</th>\n",
       "      <th>param_lgbmregressor__num_leaves</th>\n",
       "      <th>param_columntransformer__text__max_features</th>\n",
       "    </tr>\n",
       "  </thead>\n",
       "  <tbody>\n",
       "    <tr>\n",
       "      <th>14</th>\n",
       "      <td>1</td>\n",
       "      <td>0.396783</td>\n",
       "      <td>0.024597</td>\n",
       "      <td>0.633620</td>\n",
       "      <td>100</td>\n",
       "      <td>1000</td>\n",
       "    </tr>\n",
       "    <tr>\n",
       "      <th>2</th>\n",
       "      <td>2</td>\n",
       "      <td>0.396769</td>\n",
       "      <td>0.025721</td>\n",
       "      <td>0.632585</td>\n",
       "      <td>100</td>\n",
       "      <td>50</td>\n",
       "    </tr>\n",
       "    <tr>\n",
       "      <th>6</th>\n",
       "      <td>3</td>\n",
       "      <td>0.396733</td>\n",
       "      <td>0.025862</td>\n",
       "      <td>0.636537</td>\n",
       "      <td>100</td>\n",
       "      <td>100</td>\n",
       "    </tr>\n",
       "    <tr>\n",
       "      <th>10</th>\n",
       "      <td>4</td>\n",
       "      <td>0.396398</td>\n",
       "      <td>0.024440</td>\n",
       "      <td>0.634496</td>\n",
       "      <td>100</td>\n",
       "      <td>500</td>\n",
       "    </tr>\n",
       "    <tr>\n",
       "      <th>3</th>\n",
       "      <td>5</td>\n",
       "      <td>0.375074</td>\n",
       "      <td>0.021739</td>\n",
       "      <td>0.911865</td>\n",
       "      <td>1000</td>\n",
       "      <td>50</td>\n",
       "    </tr>\n",
       "    <tr>\n",
       "      <th>15</th>\n",
       "      <td>6</td>\n",
       "      <td>0.373843</td>\n",
       "      <td>0.020960</td>\n",
       "      <td>0.909168</td>\n",
       "      <td>1000</td>\n",
       "      <td>1000</td>\n",
       "    </tr>\n",
       "    <tr>\n",
       "      <th>11</th>\n",
       "      <td>7</td>\n",
       "      <td>0.373170</td>\n",
       "      <td>0.020422</td>\n",
       "      <td>0.909496</td>\n",
       "      <td>1000</td>\n",
       "      <td>500</td>\n",
       "    </tr>\n",
       "    <tr>\n",
       "      <th>7</th>\n",
       "      <td>8</td>\n",
       "      <td>0.369565</td>\n",
       "      <td>0.019565</td>\n",
       "      <td>0.913217</td>\n",
       "      <td>1000</td>\n",
       "      <td>100</td>\n",
       "    </tr>\n",
       "    <tr>\n",
       "      <th>1</th>\n",
       "      <td>9</td>\n",
       "      <td>0.367146</td>\n",
       "      <td>0.026140</td>\n",
       "      <td>0.403174</td>\n",
       "      <td>10</td>\n",
       "      <td>50</td>\n",
       "    </tr>\n",
       "    <tr>\n",
       "      <th>5</th>\n",
       "      <td>10</td>\n",
       "      <td>0.366375</td>\n",
       "      <td>0.025079</td>\n",
       "      <td>0.406349</td>\n",
       "      <td>10</td>\n",
       "      <td>100</td>\n",
       "    </tr>\n",
       "    <tr>\n",
       "      <th>13</th>\n",
       "      <td>11</td>\n",
       "      <td>0.364171</td>\n",
       "      <td>0.022209</td>\n",
       "      <td>0.406934</td>\n",
       "      <td>10</td>\n",
       "      <td>1000</td>\n",
       "    </tr>\n",
       "    <tr>\n",
       "      <th>9</th>\n",
       "      <td>12</td>\n",
       "      <td>0.363978</td>\n",
       "      <td>0.022552</td>\n",
       "      <td>0.407154</td>\n",
       "      <td>10</td>\n",
       "      <td>500</td>\n",
       "    </tr>\n",
       "    <tr>\n",
       "      <th>0</th>\n",
       "      <td>13</td>\n",
       "      <td>NaN</td>\n",
       "      <td>NaN</td>\n",
       "      <td>NaN</td>\n",
       "      <td>1</td>\n",
       "      <td>50</td>\n",
       "    </tr>\n",
       "    <tr>\n",
       "      <th>4</th>\n",
       "      <td>14</td>\n",
       "      <td>NaN</td>\n",
       "      <td>NaN</td>\n",
       "      <td>NaN</td>\n",
       "      <td>1</td>\n",
       "      <td>100</td>\n",
       "    </tr>\n",
       "    <tr>\n",
       "      <th>8</th>\n",
       "      <td>15</td>\n",
       "      <td>NaN</td>\n",
       "      <td>NaN</td>\n",
       "      <td>NaN</td>\n",
       "      <td>1</td>\n",
       "      <td>500</td>\n",
       "    </tr>\n",
       "    <tr>\n",
       "      <th>12</th>\n",
       "      <td>16</td>\n",
       "      <td>NaN</td>\n",
       "      <td>NaN</td>\n",
       "      <td>NaN</td>\n",
       "      <td>1</td>\n",
       "      <td>1000</td>\n",
       "    </tr>\n",
       "  </tbody>\n",
       "</table>\n",
       "</div>"
      ],
      "text/plain": [
       "    rank_test_score  mean_test_score  std_test_score  mean_train_score  \\\n",
       "14                1         0.396783        0.024597          0.633620   \n",
       "2                 2         0.396769        0.025721          0.632585   \n",
       "6                 3         0.396733        0.025862          0.636537   \n",
       "10                4         0.396398        0.024440          0.634496   \n",
       "3                 5         0.375074        0.021739          0.911865   \n",
       "15                6         0.373843        0.020960          0.909168   \n",
       "11                7         0.373170        0.020422          0.909496   \n",
       "7                 8         0.369565        0.019565          0.913217   \n",
       "1                 9         0.367146        0.026140          0.403174   \n",
       "5                10         0.366375        0.025079          0.406349   \n",
       "13               11         0.364171        0.022209          0.406934   \n",
       "9                12         0.363978        0.022552          0.407154   \n",
       "0                13              NaN             NaN               NaN   \n",
       "4                14              NaN             NaN               NaN   \n",
       "8                15              NaN             NaN               NaN   \n",
       "12               16              NaN             NaN               NaN   \n",
       "\n",
       "   param_lgbmregressor__num_leaves param_columntransformer__text__max_features  \n",
       "14                             100                                        1000  \n",
       "2                              100                                          50  \n",
       "6                              100                                         100  \n",
       "10                             100                                         500  \n",
       "3                             1000                                          50  \n",
       "15                            1000                                        1000  \n",
       "11                            1000                                         500  \n",
       "7                             1000                                         100  \n",
       "1                               10                                          50  \n",
       "5                               10                                         100  \n",
       "13                              10                                        1000  \n",
       "9                               10                                         500  \n",
       "0                                1                                          50  \n",
       "4                                1                                         100  \n",
       "8                                1                                         500  \n",
       "12                               1                                        1000  "
      ]
     },
     "execution_count": 48,
     "metadata": {},
     "output_type": "execute_result"
    }
   ],
   "source": [
    "# Adapted from Lecture 7\n",
    "\n",
    "pipe = make_pipeline(preprocessor_text, LGBMRegressor())\n",
    "hypers = {\n",
    "    'lgbmregressor__num_leaves': [1, 10, 100, 1000],\n",
    "    'columntransformer__text__max_features': [50, 100, 500, 1000],\n",
    "}\n",
    "\n",
    "searcher = GridSearchCV(pipe, hypers, verbose=1, n_jobs=-1, return_train_score=True)\n",
    "searcher.fit(X_train, y_train)\n",
    "\n",
    "columns = [\n",
    "    'rank_test_score', 'mean_test_score', 'std_test_score', 'mean_train_score', 'param_lgbmregressor__num_leaves',  'param_columntransformer__text__max_features'\n",
    "]\n",
    "searcher_cv_results = pd.DataFrame(searcher.cv_results_)[columns].sort_values(by=['rank_test_score'])\n",
    "searcher_cv_results"
   ]
  },
  {
   "cell_type": "code",
   "execution_count": 49,
   "metadata": {},
   "outputs": [
    {
     "name": "stdout",
     "output_type": "stream",
     "text": [
      "\u001b[1mAnswer:\u001b[0m\n",
      "The value of num_leaves chosen is: 100\n",
      "The value of max_features chosen is: 1000\n",
      "The final mean cross-validation score on the validation fold is: 0.39678315545194087\n"
     ]
    }
   ],
   "source": [
    "print('\\033[1m' + 'Answer:' + '\\033[0m')\n",
    "print(f'The value of num_leaves chosen is: {searcher_cv_results[\"param_lgbmregressor__num_leaves\"].iloc[0]}')\n",
    "print(f'The value of max_features chosen is: {searcher_cv_results[\"param_columntransformer__text__max_features\"].iloc[0]}')\n",
    "cv_score = searcher_cv_results[\"mean_test_score\"].iloc[0]\n",
    "print(f'The final mean cross-validation score on the validation fold is: {cv_score}')"
   ]
  },
  {
   "cell_type": "markdown",
   "metadata": {},
   "source": [
    "#### 2(b)\n",
    "rubric={points:5}\n",
    "\n",
    "Briefly comment on the \"error bars\" from the different folds of cross-validation. Do you trust the ordering of the hyperparameters from the previous part? Briefly discuss."
   ]
  },
  {
   "cell_type": "markdown",
   "metadata": {},
   "source": [
    "**Answer:** After running cross-validation multiple times and experimenting with different values of $k$, the divergence of each fold from the mean (`std_test_score`) is on average 1% to 3% (depending on the hypers and value of $k$), which is relatively small. Across the hypers, the means are roughly close to the error bars of each other; but the mean validation score for `num_leaves=100` remains well within the error bars across changing values of `max_features`, and consistently higher than other values of `num_leaves`  across multiple runs of cross-validation with different values of $k$. This leads me to have some trust in selecting `num_leaves=100`, but to be more skeptical about definitively saying `max_features=1000` is best."
   ]
  },
  {
   "cell_type": "markdown",
   "metadata": {},
   "source": [
    "#### 2(c)\n",
    "rubric={points:5}\n",
    "\n",
    "Run your chosen pipeline on the test set. How does your test error compare to your cv error? Do you think you overfit the (cross-)validation set? Briefly discuss."
   ]
  },
  {
   "cell_type": "code",
   "execution_count": 50,
   "metadata": {},
   "outputs": [
    {
     "name": "stdout",
     "output_type": "stream",
     "text": [
      "\u001b[1mAnswer:\u001b[0m\n",
      "After training on the full train set and testing with the test set, the score is 0.3986183546278229; roughly similar to the cross-validation score of 0.39678315545194087. \n",
      "The test score is within the error bars (+/- 0.02459696836258267) of the cross-validation score, so we did not overfit on the cross-validation set; our validation score was representative of our score on unseen (test) data.\n"
     ]
    }
   ],
   "source": [
    "pipe = searcher.best_estimator_\n",
    "pipe.fit(X_train, y_train)\n",
    "test_score = pipe.score(X_test, y_test)\n",
    "print('\\033[1m' + 'Answer:' + '\\033[0m')\n",
    "print(f'After training on the full train set and testing with the test set, the score is {test_score}; roughly similar to the cross-validation score of {cv_score}. \\nThe test score is within the error bars (+/- {searcher_cv_results[\"std_test_score\"].iloc[0]}) of the cross-validation score, so we did not overfit on the cross-validation set; our validation score was representative of our score on unseen (test) data.')"
   ]
  },
  {
   "cell_type": "markdown",
   "metadata": {},
   "source": [
    "## Exercise 3: feature importances\n",
    "\n",
    "For this exercise we'll consider the random forest created below, which performs somewhat decently (though still not great):"
   ]
  },
  {
   "cell_type": "code",
   "execution_count": 51,
   "metadata": {},
   "outputs": [],
   "source": [
    "rf = RandomForestRegressor(max_depth=20, max_features=20, n_estimators=20, random_state=20)\n",
    "rf_ttr = TransformedTargetRegressor(rf, func=np.log1p, inverse_func=np.expm1)\n",
    "rf_ttr_pipe = make_pipeline(preprocessor_text, rf_ttr)"
   ]
  },
  {
   "cell_type": "code",
   "execution_count": 52,
   "metadata": {},
   "outputs": [
    {
     "data": {
      "text/plain": [
       "fit_time           6.762911\n",
       "score_time         0.234367\n",
       "test_score         0.239636\n",
       "train_score        0.388895\n",
       "std_test_score     0.015789\n",
       "std_train_score    0.012848\n",
       "dtype: float64"
      ]
     },
     "execution_count": 52,
     "metadata": {},
     "output_type": "execute_result"
    }
   ],
   "source": [
    "cross_validate_std(rf_ttr_pipe, X_train, y_train, return_train_score=True)"
   ]
  },
  {
   "cell_type": "markdown",
   "metadata": {},
   "source": [
    "#### 3(a)\n",
    "rubric={points:10}\n",
    "\n",
    "Look at the feature importances for this random forest pipeline trained on the training set. What features seem to be driving your predictions most?"
   ]
  },
  {
   "cell_type": "code",
   "execution_count": 53,
   "metadata": {},
   "outputs": [
    {
     "data": {
      "text/html": [
       "<div>\n",
       "<style scoped>\n",
       "    .dataframe tbody tr th:only-of-type {\n",
       "        vertical-align: middle;\n",
       "    }\n",
       "\n",
       "    .dataframe tbody tr th {\n",
       "        vertical-align: top;\n",
       "    }\n",
       "\n",
       "    .dataframe thead th {\n",
       "        text-align: right;\n",
       "    }\n",
       "</style>\n",
       "<table border=\"1\" class=\"dataframe\">\n",
       "  <thead>\n",
       "    <tr style=\"text-align: right;\">\n",
       "      <th></th>\n",
       "      <th>Importance</th>\n",
       "    </tr>\n",
       "  </thead>\n",
       "  <tbody>\n",
       "    <tr>\n",
       "      <th>availability_365</th>\n",
       "      <td>0.338560</td>\n",
       "    </tr>\n",
       "    <tr>\n",
       "      <th>minimum_nights</th>\n",
       "      <td>0.143188</td>\n",
       "    </tr>\n",
       "    <tr>\n",
       "      <th>longitude</th>\n",
       "      <td>0.059545</td>\n",
       "    </tr>\n",
       "    <tr>\n",
       "      <th>calculated_host_listings_count</th>\n",
       "      <td>0.051678</td>\n",
       "    </tr>\n",
       "    <tr>\n",
       "      <th>price</th>\n",
       "      <td>0.045092</td>\n",
       "    </tr>\n",
       "    <tr>\n",
       "      <th>latitude</th>\n",
       "      <td>0.041257</td>\n",
       "    </tr>\n",
       "    <tr>\n",
       "      <th>name_private</th>\n",
       "      <td>0.010044</td>\n",
       "    </tr>\n",
       "    <tr>\n",
       "      <th>room_type_Entire home/apt</th>\n",
       "      <td>0.009977</td>\n",
       "    </tr>\n",
       "    <tr>\n",
       "      <th>name_jfk</th>\n",
       "      <td>0.008690</td>\n",
       "    </tr>\n",
       "    <tr>\n",
       "      <th>room_type_Private room</th>\n",
       "      <td>0.008172</td>\n",
       "    </tr>\n",
       "  </tbody>\n",
       "</table>\n",
       "</div>"
      ],
      "text/plain": [
       "                                Importance\n",
       "availability_365                  0.338560\n",
       "minimum_nights                    0.143188\n",
       "longitude                         0.059545\n",
       "calculated_host_listings_count    0.051678\n",
       "price                             0.045092\n",
       "latitude                          0.041257\n",
       "name_private                      0.010044\n",
       "room_type_Entire home/apt         0.009977\n",
       "name_jfk                          0.008690\n",
       "room_type_Private room            0.008172"
      ]
     },
     "execution_count": 53,
     "metadata": {},
     "output_type": "execute_result"
    }
   ],
   "source": [
    "# Adapted from Lecture 11 and Piazza Post #338 (https://piazza.com/class/kb2e6nwu3uj23?cid=338)\n",
    "rf_ttr_pipe.fit(X_train, y_train)\n",
    "rf_importances = pd.DataFrame(data=rf_ttr_pipe[1].regressor_.feature_importances_, index=new_columns_text, columns=[\"Importance\"]);\n",
    "rf_importances.sort_values(by=\"Importance\", ascending=False).head(10)"
   ]
  },
  {
   "cell_type": "markdown",
   "metadata": {},
   "source": [
    "**Answer:** Given the results above (ordered from most important to least important), it seems that `availability_365` is the most important feature, `minimum_nights` is in second (about half as important), and `longditude`, `calculated_host_listings_count`, `price`, and `lattitude` are all minorly important after that. These results seem to make sense; as the `reviews_per_month` is probably correlated with how available the property is during the year, and how many people can visit the property in that time (based on `minimum_nights`)."
   ]
  },
  {
   "cell_type": "markdown",
   "metadata": {},
   "source": [
    "#### 3(b)\n",
    "rubric={points:5}\n",
    "\n",
    "For the two most important features in the above model, do you think increasing these features increases or decreases the predicted number of reviews per month? Briefly justify your answer. **Maximum 2 sentences.**\n",
    "\n",
    "Note: the results from part (a) don't tell you the answer here - I'm asking you to use your domain knowledge about short-term vacation rentals. What do you think makes a rental attractive?"
   ]
  },
  {
   "cell_type": "markdown",
   "metadata": {},
   "source": [
    "**Answer:**\n",
    "- I think *increasing* `availability_365` would lead the model to predict *more* `reviews_per_month`; if a rental is available more days of the year, it can be rented more and therefore reviewed more (and more flexibility is more attractive).\n",
    "- I think *decreasing* `minimum_nights` would lead the model to predict *more* `reviews_per_month`if `minimum_nights` is lower, more people can rent and therefore review the property in the same amount of time (and more flexibility is more attractive)."
   ]
  },
  {
   "cell_type": "markdown",
   "metadata": {},
   "source": [
    "#### 3(c)\n",
    "rubric={points:10}\n",
    "\n",
    "Use SHAP to try to answer the above question more definitively, for predictions on the training set. You will likely need to take a subset of the training examples for speed when computing the SHAP values. **Maximum 1 paragraph.**"
   ]
  },
  {
   "cell_type": "code",
   "execution_count": 54,
   "metadata": {},
   "outputs": [],
   "source": [
    "# Adapted from Lecture 11\n",
    "explainer = shap.TreeExplainer(rf_ttr_pipe[1].regressor_)\n",
    "X_train_enc_text_sample = X_train_enc_text.sample(n=1000, random_state=123)"
   ]
  },
  {
   "cell_type": "code",
   "execution_count": 55,
   "metadata": {},
   "outputs": [],
   "source": [
    "shap_values = explainer.shap_values(X_train_enc_text_sample)"
   ]
  },
  {
   "cell_type": "code",
   "execution_count": 56,
   "metadata": {},
   "outputs": [
    {
     "name": "stdout",
     "output_type": "stream",
     "text": [
      "\u001b[1mPlot 1: SHAP importances for one example\u001b[0m\n"
     ]
    },
    {
     "data": {
      "image/png": "[encoded data removed]",
      "text/plain": [
       "<Figure size 1440x216 with 1 Axes>"
      ]
     },
     "metadata": {
      "needs_background": "light"
     },
     "output_type": "display_data"
    }
   ],
   "source": [
    "print('\\033[1m' + 'Plot 1: SHAP importances for one example' + '\\033[0m')\n",
    "shap.force_plot(explainer.expected_value, shap_values[0], X_train_enc_text_sample.iloc[0], matplotlib=True)"
   ]
  },
  {
   "cell_type": "code",
   "execution_count": 57,
   "metadata": {},
   "outputs": [
    {
     "name": "stdout",
     "output_type": "stream",
     "text": [
      "\u001b[1mPlot 2a: SHAP values for availability_365 vs. availability_365\u001b[0m\n"
     ]
    },
    {
     "data": {
      "image/png": "[encoded data removed]",
      "text/plain": [
       "<Figure size 432x360 with 1 Axes>"
      ]
     },
     "metadata": {
      "needs_background": "light"
     },
     "output_type": "display_data"
    }
   ],
   "source": [
    "print('\\033[1m' + 'Plot 2a: SHAP values for availability_365 vs. availability_365' + '\\033[0m')\n",
    "shap.dependence_plot('availability_365', shap_values, X_train_enc_text_sample, interaction_index=None)"
   ]
  },
  {
   "cell_type": "code",
   "execution_count": 58,
   "metadata": {},
   "outputs": [
    {
     "name": "stdout",
     "output_type": "stream",
     "text": [
      "\u001b[1mPlot 2b: SHAP values for minimum_nights vs. minimum_nights\u001b[0m\n"
     ]
    },
    {
     "data": {
      "image/png": "[encoded data removed]",
      "text/plain": [
       "<Figure size 432x360 with 1 Axes>"
      ]
     },
     "metadata": {
      "needs_background": "light"
     },
     "output_type": "display_data"
    }
   ],
   "source": [
    "print('\\033[1m' + 'Plot 2b: SHAP values for minimum_nights vs. minimum_nights' + '\\033[0m')\n",
    "shap.dependence_plot('minimum_nights', shap_values, X_train_enc_text_sample, interaction_index=None)"
   ]
  },
  {
   "cell_type": "code",
   "execution_count": 59,
   "metadata": {},
   "outputs": [
    {
     "name": "stdout",
     "output_type": "stream",
     "text": [
      "\u001b[1mPlot 3: Summary of SHAP values for availability_365 and minimum_nights\u001b[0m\n"
     ]
    },
    {
     "data": {
      "image/png": "[encoded data removed]",
      "text/plain": [
       "<Figure size 576x165.6 with 2 Axes>"
      ]
     },
     "metadata": {
      "needs_background": "light"
     },
     "output_type": "display_data"
    }
   ],
   "source": [
    "print('\\033[1m' + 'Plot 3: Summary of SHAP values for availability_365 and minimum_nights' + '\\033[0m')\n",
    "shap.summary_plot(shap_values, X_train_enc_text_sample, max_display=2)"
   ]
  },
  {
   "cell_type": "code",
   "execution_count": 60,
   "metadata": {},
   "outputs": [
    {
     "data": {
      "image/png": "[encoded data removed]",
      "text/plain": [
       "<Figure size 432x288 with 1 Axes>"
      ]
     },
     "metadata": {
      "needs_background": "light"
     },
     "output_type": "display_data"
    },
    {
     "data": {
      "image/png": "[encoded data removed]",
      "text/plain": [
       "<Figure size 432x288 with 1 Axes>"
      ]
     },
     "metadata": {
      "needs_background": "light"
     },
     "output_type": "display_data"
    }
   ],
   "source": [
    "plt.hist(X_train_enc_text_sample['availability_365'], bins=75);\n",
    "plt.title('Observations of availability_365')\n",
    "plt.xlabel('availability_365 (scaled)')\n",
    "plt.ylabel('count')\n",
    "plt.show()\n",
    "plt.hist(X_train_enc_text_sample['minimum_nights'], bins=75);\n",
    "plt.title('Observations of minimum_nights')\n",
    "plt.xlabel('minimum_nights (scaled)')\n",
    "plt.ylabel('count');"
   ]
  },
  {
   "cell_type": "markdown",
   "metadata": {},
   "source": [
    "**Answer:** For `availability_365`, a below-average observation pushed the target (`reviews_per_month`) lower (Plot 1) for one specific example. In aggregate, low values of `availability_365` sometimes push the target lower, sometimes higher (Plots 2a and 3). However, above-average values of `availability_365` overwhelmingly push the target higher (the red dots on the right side of Plot 3). For `minimum_nights`, below-average values tend to push the target higher, but sometimes lower (Plots 2b and 3). However, above-average values of `minimum_nights` overwhelmingly push the target lower (the red dots on the left side of Plot 3). That below-average values of `availability_365` and `minimum_nights` have an indeterminate effect on the target can be explained by the heavy right-skew of these distributions (see histograms above). Because they have far more values below the mean, it makes sense that these low values sometimes contribute positively and sometimes negatively, given that `RandomForestRegressor` is nonlinear."
   ]
  },
  {
   "cell_type": "markdown",
   "metadata": {},
   "source": [
    "#### (optional) 3(d)"
   ]
  },
  {
   "cell_type": "markdown",
   "metadata": {},
   "source": [
    "The following code adds a column of random noise to `X` and re-trains."
   ]
  },
  {
   "cell_type": "code",
   "execution_count": 61,
   "metadata": {},
   "outputs": [
    {
     "data": {
      "text/plain": [
       "array([[-0.62505675],\n",
       "       [ 0.89199665],\n",
       "       [-1.07377805],\n",
       "       ...,\n",
       "       [-1.04800769],\n",
       "       [-0.26744311],\n",
       "       [ 1.09517936]])"
      ]
     },
     "execution_count": 61,
     "metadata": {},
     "output_type": "execute_result"
    }
   ],
   "source": [
    "random_noise = np.random.randn(X_train_enc_text.shape[0],1)\n",
    "random_noise"
   ]
  },
  {
   "cell_type": "code",
   "execution_count": 62,
   "metadata": {},
   "outputs": [
    {
     "data": {
      "text/html": [
       "<div>\n",
       "<style scoped>\n",
       "    .dataframe tbody tr th:only-of-type {\n",
       "        vertical-align: middle;\n",
       "    }\n",
       "\n",
       "    .dataframe tbody tr th {\n",
       "        vertical-align: top;\n",
       "    }\n",
       "\n",
       "    .dataframe thead th {\n",
       "        text-align: right;\n",
       "    }\n",
       "</style>\n",
       "<table border=\"1\" class=\"dataframe\">\n",
       "  <thead>\n",
       "    <tr style=\"text-align: right;\">\n",
       "      <th></th>\n",
       "      <th>latitude</th>\n",
       "      <th>longitude</th>\n",
       "      <th>price</th>\n",
       "      <th>minimum_nights</th>\n",
       "      <th>calculated_host_listings_count</th>\n",
       "      <th>availability_365</th>\n",
       "      <th>neighbourhood_Allerton</th>\n",
       "      <th>neighbourhood_Arden Heights</th>\n",
       "      <th>neighbourhood_Arrochar</th>\n",
       "      <th>neighbourhood_Arverne</th>\n",
       "      <th>...</th>\n",
       "      <th>name_train</th>\n",
       "      <th>name_upper</th>\n",
       "      <th>name_uws</th>\n",
       "      <th>name_view</th>\n",
       "      <th>name_views</th>\n",
       "      <th>name_village</th>\n",
       "      <th>name_west</th>\n",
       "      <th>name_williamsburg</th>\n",
       "      <th>name_york</th>\n",
       "      <th>noise</th>\n",
       "    </tr>\n",
       "  </thead>\n",
       "  <tbody>\n",
       "    <tr>\n",
       "      <th>31211</th>\n",
       "      <td>-1.339822</td>\n",
       "      <td>-1.042322</td>\n",
       "      <td>-0.113896</td>\n",
       "      <td>0.377004</td>\n",
       "      <td>-0.185308</td>\n",
       "      <td>-0.795275</td>\n",
       "      <td>0.0</td>\n",
       "      <td>0.0</td>\n",
       "      <td>0.0</td>\n",
       "      <td>0.0</td>\n",
       "      <td>...</td>\n",
       "      <td>0.0</td>\n",
       "      <td>0.0</td>\n",
       "      <td>0.0</td>\n",
       "      <td>0.0</td>\n",
       "      <td>0.0</td>\n",
       "      <td>0.0</td>\n",
       "      <td>0.0</td>\n",
       "      <td>0.0</td>\n",
       "      <td>0.0</td>\n",
       "      <td>-0.625057</td>\n",
       "    </tr>\n",
       "    <tr>\n",
       "      <th>9605</th>\n",
       "      <td>-0.854593</td>\n",
       "      <td>0.237836</td>\n",
       "      <td>1.238849</td>\n",
       "      <td>-0.239587</td>\n",
       "      <td>-0.154766</td>\n",
       "      <td>1.707105</td>\n",
       "      <td>0.0</td>\n",
       "      <td>0.0</td>\n",
       "      <td>0.0</td>\n",
       "      <td>0.0</td>\n",
       "      <td>...</td>\n",
       "      <td>0.0</td>\n",
       "      <td>0.0</td>\n",
       "      <td>0.0</td>\n",
       "      <td>0.0</td>\n",
       "      <td>0.0</td>\n",
       "      <td>0.0</td>\n",
       "      <td>0.0</td>\n",
       "      <td>0.0</td>\n",
       "      <td>1.0</td>\n",
       "      <td>0.891997</td>\n",
       "    </tr>\n",
       "    <tr>\n",
       "      <th>41176</th>\n",
       "      <td>0.227488</td>\n",
       "      <td>0.547645</td>\n",
       "      <td>-0.496827</td>\n",
       "      <td>-0.002437</td>\n",
       "      <td>-0.185308</td>\n",
       "      <td>-0.856123</td>\n",
       "      <td>0.0</td>\n",
       "      <td>0.0</td>\n",
       "      <td>0.0</td>\n",
       "      <td>0.0</td>\n",
       "      <td>...</td>\n",
       "      <td>0.0</td>\n",
       "      <td>0.0</td>\n",
       "      <td>0.0</td>\n",
       "      <td>0.0</td>\n",
       "      <td>0.0</td>\n",
       "      <td>0.0</td>\n",
       "      <td>0.0</td>\n",
       "      <td>0.0</td>\n",
       "      <td>0.0</td>\n",
       "      <td>-1.073778</td>\n",
       "    </tr>\n",
       "    <tr>\n",
       "      <th>21795</th>\n",
       "      <td>-0.382766</td>\n",
       "      <td>-1.146025</td>\n",
       "      <td>-0.217954</td>\n",
       "      <td>-0.287018</td>\n",
       "      <td>-0.185308</td>\n",
       "      <td>-0.856123</td>\n",
       "      <td>0.0</td>\n",
       "      <td>0.0</td>\n",
       "      <td>0.0</td>\n",
       "      <td>0.0</td>\n",
       "      <td>...</td>\n",
       "      <td>0.0</td>\n",
       "      <td>0.0</td>\n",
       "      <td>0.0</td>\n",
       "      <td>0.0</td>\n",
       "      <td>0.0</td>\n",
       "      <td>0.0</td>\n",
       "      <td>0.0</td>\n",
       "      <td>0.0</td>\n",
       "      <td>0.0</td>\n",
       "      <td>-1.119233</td>\n",
       "    </tr>\n",
       "    <tr>\n",
       "      <th>38509</th>\n",
       "      <td>-0.169250</td>\n",
       "      <td>-0.128914</td>\n",
       "      <td>0.614505</td>\n",
       "      <td>-0.192157</td>\n",
       "      <td>-0.185308</td>\n",
       "      <td>0.421688</td>\n",
       "      <td>0.0</td>\n",
       "      <td>0.0</td>\n",
       "      <td>0.0</td>\n",
       "      <td>0.0</td>\n",
       "      <td>...</td>\n",
       "      <td>0.0</td>\n",
       "      <td>0.0</td>\n",
       "      <td>0.0</td>\n",
       "      <td>0.0</td>\n",
       "      <td>0.0</td>\n",
       "      <td>0.0</td>\n",
       "      <td>0.0</td>\n",
       "      <td>1.0</td>\n",
       "      <td>0.0</td>\n",
       "      <td>0.170050</td>\n",
       "    </tr>\n",
       "  </tbody>\n",
       "</table>\n",
       "<p>5 rows × 334 columns</p>\n",
       "</div>"
      ],
      "text/plain": [
       "       latitude  longitude     price  minimum_nights  \\\n",
       "31211 -1.339822  -1.042322 -0.113896        0.377004   \n",
       "9605  -0.854593   0.237836  1.238849       -0.239587   \n",
       "41176  0.227488   0.547645 -0.496827       -0.002437   \n",
       "21795 -0.382766  -1.146025 -0.217954       -0.287018   \n",
       "38509 -0.169250  -0.128914  0.614505       -0.192157   \n",
       "\n",
       "       calculated_host_listings_count  availability_365  \\\n",
       "31211                       -0.185308         -0.795275   \n",
       "9605                        -0.154766          1.707105   \n",
       "41176                       -0.185308         -0.856123   \n",
       "21795                       -0.185308         -0.856123   \n",
       "38509                       -0.185308          0.421688   \n",
       "\n",
       "       neighbourhood_Allerton  neighbourhood_Arden Heights  \\\n",
       "31211                     0.0                          0.0   \n",
       "9605                      0.0                          0.0   \n",
       "41176                     0.0                          0.0   \n",
       "21795                     0.0                          0.0   \n",
       "38509                     0.0                          0.0   \n",
       "\n",
       "       neighbourhood_Arrochar  neighbourhood_Arverne  ...  name_train  \\\n",
       "31211                     0.0                    0.0  ...         0.0   \n",
       "9605                      0.0                    0.0  ...         0.0   \n",
       "41176                     0.0                    0.0  ...         0.0   \n",
       "21795                     0.0                    0.0  ...         0.0   \n",
       "38509                     0.0                    0.0  ...         0.0   \n",
       "\n",
       "       name_upper  name_uws  name_view  name_views  name_village  name_west  \\\n",
       "31211         0.0       0.0        0.0         0.0           0.0        0.0   \n",
       "9605          0.0       0.0        0.0         0.0           0.0        0.0   \n",
       "41176         0.0       0.0        0.0         0.0           0.0        0.0   \n",
       "21795         0.0       0.0        0.0         0.0           0.0        0.0   \n",
       "38509         0.0       0.0        0.0         0.0           0.0        0.0   \n",
       "\n",
       "       name_williamsburg  name_york     noise  \n",
       "31211                0.0        0.0 -0.625057  \n",
       "9605                 0.0        1.0  0.891997  \n",
       "41176                0.0        0.0 -1.073778  \n",
       "21795                0.0        0.0 -1.119233  \n",
       "38509                1.0        0.0  0.170050  \n",
       "\n",
       "[5 rows x 334 columns]"
      ]
     },
     "execution_count": 62,
     "metadata": {},
     "output_type": "execute_result"
    }
   ],
   "source": [
    "X_train_words_noise = pd.concat((X_train_enc_text, pd.DataFrame(random_noise, columns=['noise'], index=X_train_enc_text.index)), axis=1)\n",
    "X_train_words_noise.head()"
   ]
  },
  {
   "cell_type": "code",
   "execution_count": 63,
   "metadata": {},
   "outputs": [],
   "source": [
    "rf_noise = RandomForestRegressor(max_depth=20, max_features=20, n_estimators=20, random_state=20)\n",
    "rf_noise.fit(X_train_words_noise, y_train);"
   ]
  },
  {
   "cell_type": "markdown",
   "metadata": {},
   "source": [
    "Next, we can look at the feature importances of this noise column:"
   ]
  },
  {
   "cell_type": "code",
   "execution_count": 64,
   "metadata": {},
   "outputs": [
    {
     "data": {
      "text/html": [
       "<div>\n",
       "<style scoped>\n",
       "    .dataframe tbody tr th:only-of-type {\n",
       "        vertical-align: middle;\n",
       "    }\n",
       "\n",
       "    .dataframe tbody tr th {\n",
       "        vertical-align: top;\n",
       "    }\n",
       "\n",
       "    .dataframe thead th {\n",
       "        text-align: right;\n",
       "    }\n",
       "</style>\n",
       "<table border=\"1\" class=\"dataframe\">\n",
       "  <thead>\n",
       "    <tr style=\"text-align: right;\">\n",
       "      <th></th>\n",
       "      <th>Importance</th>\n",
       "    </tr>\n",
       "  </thead>\n",
       "  <tbody>\n",
       "    <tr>\n",
       "      <th>name_village</th>\n",
       "      <td>0.000924</td>\n",
       "    </tr>\n",
       "    <tr>\n",
       "      <th>name_west</th>\n",
       "      <td>0.001429</td>\n",
       "    </tr>\n",
       "    <tr>\n",
       "      <th>name_williamsburg</th>\n",
       "      <td>0.001045</td>\n",
       "    </tr>\n",
       "    <tr>\n",
       "      <th>name_york</th>\n",
       "      <td>0.001600</td>\n",
       "    </tr>\n",
       "    <tr>\n",
       "      <th>noise</th>\n",
       "      <td>0.036885</td>\n",
       "    </tr>\n",
       "  </tbody>\n",
       "</table>\n",
       "</div>"
      ],
      "text/plain": [
       "                   Importance\n",
       "name_village         0.000924\n",
       "name_west            0.001429\n",
       "name_williamsburg    0.001045\n",
       "name_york            0.001600\n",
       "noise                0.036885"
      ]
     },
     "execution_count": 64,
     "metadata": {},
     "output_type": "execute_result"
    }
   ],
   "source": [
    "pd.DataFrame(data=rf_noise.feature_importances_, index=X_train_words_noise.columns, columns=[\"Importance\"]).tail()"
   ]
  },
  {
   "cell_type": "markdown",
   "metadata": {},
   "source": [
    "But wait, we know this feature can't possibly be useful - why is the importance of the random noise feature non-zero (and in fact larger than for some real features)?  **Maximum 2 sentences.**"
   ]
  },
  {
   "cell_type": "markdown",
   "metadata": {},
   "source": []
  },
  {
   "cell_type": "markdown",
   "metadata": {},
   "source": [
    "#### 3(e)\n",
    "rubric={points:10}\n",
    "\n",
    "One of the numeric features is `price`, which is presumably in U.S. dollars per night. We can fit a `Ridge` model to the data and look at the coefficient corresponding to `price`. "
   ]
  },
  {
   "cell_type": "code",
   "execution_count": 65,
   "metadata": {},
   "outputs": [],
   "source": [
    "lr = make_pipeline(preprocessor_text, Ridge(alpha=100))\n",
    "lr.fit(X_train, y_train);"
   ]
  },
  {
   "cell_type": "code",
   "execution_count": 66,
   "metadata": {},
   "outputs": [
    {
     "data": {
      "text/html": [
       "<div>\n",
       "<style scoped>\n",
       "    .dataframe tbody tr th:only-of-type {\n",
       "        vertical-align: middle;\n",
       "    }\n",
       "\n",
       "    .dataframe tbody tr th {\n",
       "        vertical-align: top;\n",
       "    }\n",
       "\n",
       "    .dataframe thead th {\n",
       "        text-align: right;\n",
       "    }\n",
       "</style>\n",
       "<table border=\"1\" class=\"dataframe\">\n",
       "  <thead>\n",
       "    <tr style=\"text-align: right;\">\n",
       "      <th></th>\n",
       "      <th>Coefficient</th>\n",
       "    </tr>\n",
       "  </thead>\n",
       "  <tbody>\n",
       "    <tr>\n",
       "      <th>latitude</th>\n",
       "      <td>-0.057598</td>\n",
       "    </tr>\n",
       "    <tr>\n",
       "      <th>longitude</th>\n",
       "      <td>0.127302</td>\n",
       "    </tr>\n",
       "    <tr>\n",
       "      <th>price</th>\n",
       "      <td>-0.077215</td>\n",
       "    </tr>\n",
       "    <tr>\n",
       "      <th>minimum_nights</th>\n",
       "      <td>-0.194194</td>\n",
       "    </tr>\n",
       "    <tr>\n",
       "      <th>calculated_host_listings_count</th>\n",
       "      <td>-0.082677</td>\n",
       "    </tr>\n",
       "  </tbody>\n",
       "</table>\n",
       "</div>"
      ],
      "text/plain": [
       "                                Coefficient\n",
       "latitude                          -0.057598\n",
       "longitude                          0.127302\n",
       "price                             -0.077215\n",
       "minimum_nights                    -0.194194\n",
       "calculated_host_listings_count    -0.082677"
      ]
     },
     "execution_count": 66,
     "metadata": {},
     "output_type": "execute_result"
    }
   ],
   "source": [
    "coefs = pd.DataFrame(data=lr[1].coef_, index=new_columns_text, columns=[\"Coefficient\"])\n",
    "coefs.head()"
   ]
  },
  {
   "cell_type": "code",
   "execution_count": 67,
   "metadata": {},
   "outputs": [
    {
     "data": {
      "text/plain": [
       "-0.07721474328961445"
      ]
     },
     "execution_count": 67,
     "metadata": {},
     "output_type": "execute_result"
    }
   ],
   "source": [
    "price_coef = coefs.loc[\"price\"].values[0]\n",
    "price_coef"
   ]
  },
  {
   "cell_type": "markdown",
   "metadata": {},
   "source": [
    "Normally, we can interpret a linear regression coefficient as the increase/decrease in the predicted target per unit change of the feature: for example, increasing the price by \\\\$1/night would decrease the predicted reviews/month by the above amount (decrease because of the negative coefficient).\n",
    "\n",
    "However, that would be incorrect because we scaled the numeric features in the preprocessing pipeline, as discussed in lecture. "
   ]
  },
  {
   "cell_type": "code",
   "execution_count": 68,
   "metadata": {},
   "outputs": [],
   "source": [
    "scaler = preprocessor_text.named_transformers_['scale']"
   ]
  },
  {
   "cell_type": "markdown",
   "metadata": {},
   "source": [
    "Taking into account the scaling, find the relationship implied by the model. Your answer should be in the units of (reviews per month) / (dollars per night); that is, your answer should be in the form of \"Increasing the price by \\$1 increases/decreases the predicted target by ___ reviews/month\".\n"
   ]
  },
  {
   "cell_type": "code",
   "execution_count": 69,
   "metadata": {},
   "outputs": [
    {
     "name": "stdout",
     "output_type": "stream",
     "text": [
      "\u001b[1mAnswer:\u001b[0m\n",
      "Increasing the price by $1/night decreases the predicted target (reviews/month) by 0.0003213904198311367 reviews/month.\n"
     ]
    }
   ],
   "source": [
    "# Adapted from Lecture 11\n",
    "delta = scaler.inverse_transform(np.ones(len(numeric_features))) - scaler.inverse_transform(np.zeros(len(numeric_features)))\n",
    "lr_scales = pd.DataFrame(data=delta, index=numeric_features, columns=[\"Scale\"])\n",
    "lr_scales\n",
    "unscaled_price_coef = price_coef/lr_scales.loc[\"price\",\"Scale\"]\n",
    "print('\\033[1m' + 'Answer:' + '\\033[0m')\n",
    "print(f'Increasing the price by $1/night decreases the predicted target (reviews/month) by {np.abs(unscaled_price_coef)} reviews/month.')"
   ]
  },
  {
   "cell_type": "markdown",
   "metadata": {},
   "source": [
    "#### (optional) 3(f)\n",
    "\n",
    "Perform an open-ended exploration of the feature importances using the model of your choosing. What is the most fun or interesting result you found? You could examine, for example:\n",
    "\n",
    "- Different room types\n",
    "- The importance of various numeric features\n",
    "- The \"most positive\" and \"most negative\" words.\n",
    "\n",
    "Recommended time spent: 5-15 min."
   ]
  },
  {
   "cell_type": "markdown",
   "metadata": {},
   "source": []
  },
  {
   "cell_type": "markdown",
   "metadata": {},
   "source": [
    "#### 3(g)\n",
    "rubric={points:10}\n",
    "\n",
    "Given your exploration in the previous part, can you draw conclusions about the world, such as the desireability of various neighbourhoods in New York? Could you now give advice to a friend on what words are best to use in an Airbnb listing? My answer, as you may have guessed, is no! (Or, at least, not without extreme caution and/or statistical training that goes beyond the scope of this course.) Give **3 reasons** why you might be wrong if you drew such conclusions about the world from the above analysis. **Maximum 1 sentence** per reason."
   ]
  },
  {
   "cell_type": "markdown",
   "metadata": {},
   "source": [
    "**Answer:**\n",
    "1. Feature importances / coefficients are limited by the quantity and quality of training data; small datasets or those unrepresentative of the population could produce importances that fail to hold true in the real world.\n",
    "2. Feature importances are heavily influenced by hyperparameters (such as a model's complexity and, and the number of words in its vocabulary), and therefore we can only use them to help our model given a set of hyperparameters; instead of directly applying it to reality.\n",
    "3. Feature importances can sometimes be skewed by the inclusion of noisy variables that might appear to be predictive of (correlated with) the target in some way, but in reality bear no causal relationship with the target (as in Q3d)."
   ]
  },
  {
   "cell_type": "markdown",
   "metadata": {},
   "source": [
    "## Exercise 4: very short answer questions\n",
    "rubric={points:25}\n",
    "\n",
    "Answer each of the following questions in **at most 1 sentence**. Each one is worth 5 points."
   ]
  },
  {
   "cell_type": "markdown",
   "metadata": {},
   "source": [
    "1. If `neighbourhood_group` is aready a feature, why might `neighbourhood` still be worth including?\n",
    "2. If `neighbourhood` is aready a feature, why might `neighbourhood_group` still be worth including?\n",
    "3. If you had an enormous training set and could only keep one of `neighbourhood` or `neighbourhood_group`, which one would you keep, and why?\n",
    "4. How does the size of your training set influence how much you \"trust\" your feature importances?\n",
    "5. If you wanted to find the \"most positive\" and \"most negative\" words in terms of reviews per month, would you use `Ridge` or `RandomForestRegressor`? Assume you're using only scikit-learn (no SHAP, etc.).\n"
   ]
  },
  {
   "cell_type": "markdown",
   "metadata": {},
   "source": [
    "**Answer:**\n",
    "1. Including `neighbourhood` might still be useful because assuming location is an important predictor in this domain, the model could use `neighbourhood` to more *granularly* predict popularity within a given part of New York (`neighborhood_group`).\n",
    "2. Including `neighbourhood_group` might still be useful because if the data is imbalanced or there are very few examples with same `neighborhood`, the model could make better inferences by knowing `neighborhood_group`; a variable with fewer categories and more examples for each category. \n",
    "3. With an enormous training set, I would keep `neighborhood` (assuming sufficient examples for each category in a large training set), because it is a more specific and granular variable that I think will offer more nuanced signal.\n",
    "4. A large training set (many examples) inspires greater trust in feature importances because in theory a larger sample is more representative of the actual population (law of large numbers).\n",
    "5. If I wanted to find the most positive and most negative words, I would use `Ridge`, because it is a linear model and will produce positive/negative coefficients, whereas `RandomForestRegressor` is nonlinear so will only produce feature importances that represent the magnitude (not direction) of importance."
   ]
  },
  {
   "cell_type": "markdown",
   "metadata": {},
   "source": [
    "## Submission to Canvas\n",
    "\n",
    "**IF YOU ARE WORKING WITH A PARTNER** please form the group before submitting - see instructions [here](https://github.com/UBC-CS/cpsc330/blob/master/docs/homework_instructions.md#partners).\n",
    "\n",
    "When you are ready to submit your assignment do the following:\n",
    "\n",
    "1. Run all cells in your notebook to make sure there are no errors by doing `Kernel -> Restart Kernel and Clear All Outputs` and then `Run -> Run All Cells`.\n",
    "2. Save your notebook.\n",
    "3. Convert your notebook to `.html` format using the `convert_notebook()` function below **or** by `File -> Export Notebook As... -> Export Notebook to HTML`.\n",
    "4. Run the code `submit()` below to go through an interactive submission process to Canvas.\n",
    ">For this step, you will need a Canvas *Access Token* token. If you haven't already got one, log-in to Canvas, click `Account` (top-left of the screen), then `Settings`, then scroll down until you see the `+ New Access Token` button. Click that button, give your token any name you like and set the expiry date to Dec 31, 2020. Then click `Generate token`. Save this token in a safe place on your computer as you'll need it for all assignments. Treat the token with as much care as you would an important password. \n",
    "\n",
    "Note: for those having trouble with the Jupyter widgets and the dropdowns: if you add the argument `no_widgets=True` to your `submit` call, it should let you do a text-based entry of your key and avoid the dropdowns altogether. If this doesn't work, you probably need to upgrade to the latest version of `canvasutils` with `pip install canvasutils -U` from your terminal with your environment activated.\n"
   ]
  },
  {
   "cell_type": "code",
   "execution_count": 70,
   "metadata": {},
   "outputs": [],
   "source": [
    "from canvasutils.submit import submit, convert_notebook\n",
    "\n",
    "# Note: the canvasutils package should have been installed as part of your environment setup - \n",
    "# see https://github.com/UBC-CS/cpsc330/blob/master/docs/setup.md"
   ]
  },
  {
   "cell_type": "code",
   "execution_count": 74,
   "metadata": {},
   "outputs": [
    {
     "name": "stdout",
     "output_type": "stream",
     "text": [
      "Notebook successfully converted! \n"
     ]
    }
   ],
   "source": [
    "# convert_notebook(\"hw5.ipynb\", \"html\")  # uncomment and run when you want to try convert your notebook to HTML (or you can convert manually from the File menu)"
   ]
  },
  {
   "cell_type": "code",
   "execution_count": 75,
   "metadata": {},
   "outputs": [
    {
     "name": "stdout",
     "output_type": "stream",
     "text": [
      "Please paste your token here and then hit enter:\n"
     ]
    },
    {
     "name": "stdin",
     "output_type": "stream",
     "text": [
      " ······································································\n"
     ]
    },
    {
     "name": "stdout",
     "output_type": "stream",
     "text": [
      "\n",
      "\u001b[92m======================================\u001b[0m\n",
      "Token successfully entered - thanks!\n",
      "\u001b[92m======================================\u001b[0m\n",
      "\n",
      "\n",
      "Select an assignment to submit to:\n"
     ]
    },
    {
     "data": {
      "application/vnd.jupyter.widget-view+json": {
       "model_id": "0f1c9c1bdef349b38b21241658cbdc48",
       "version_major": 2,
       "version_minor": 0
      },
      "text/plain": [
       "Output()"
      ]
     },
     "metadata": {},
     "output_type": "display_data"
    }
   ],
   "source": [
    "submit(course_code=53561, token=False)  # uncomment and run when ready to submit "
   ]
  },
  {
   "cell_type": "code",
   "execution_count": null,
   "metadata": {},
   "outputs": [],
   "source": []
  }
 ],
 "metadata": {
  "anaconda-cloud": {},
  "kernelspec": {
   "display_name": "Python 3",
   "language": "python",
   "name": "python3"
  },
  "language_info": {
   "codemirror_mode": {
    "name": "ipython",
    "version": 3
   },
   "file_extension": ".py",
   "mimetype": "text/x-python",
   "name": "python",
   "nbconvert_exporter": "python",
   "pygments_lexer": "ipython3",
   "version": "3.8.6"
  },
  "name": "_merged",
  "toc": {
   "colors": {
    "hover_highlight": "#DAA520",
    "navigate_num": "#000000",
    "navigate_text": "#333333",
    "running_highlight": "#FF0000",
    "selected_highlight": "#FFD700",
    "sidebar_border": "#EEEEEE",
    "wrapper_background": "#FFFFFF"
   },
   "moveMenuLeft": true,
   "nav_menu": {
    "height": "438px",
    "width": "252px"
   },
   "navigate_menu": true,
   "number_sections": true,
   "sideBar": true,
   "threshold": 4,
   "toc_cell": false,
   "toc_section_display": "block",
   "toc_window_display": false,
   "widenNotebook": false
  }
 },
 "nbformat": 4,
 "nbformat_minor": 4
}
