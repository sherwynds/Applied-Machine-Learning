{
 "cells": [
  {
   "cell_type": "markdown",
   "metadata": {},
   "source": [
    "# CPSC 330 hw8"
   ]
  },
  {
   "cell_type": "code",
   "execution_count": 1,
   "metadata": {},
   "outputs": [],
   "source": [
    "import pandas as pd\n",
    "import numpy as np\n",
    "from pandas_profiling import ProfileReport\n",
    "from sklearn.model_selection import train_test_split, cross_val_score, cross_validate, GridSearchCV, RandomizedSearchCV\n",
    "from matplotlib import pyplot as plt\n",
    "from sklearn.pipeline import Pipeline\n",
    "from sklearn.preprocessing import StandardScaler\n",
    "from sklearn.impute import SimpleImputer\n",
    "from sklearn.linear_model import LogisticRegression\n",
    "from sklearn.dummy import DummyClassifier\n",
    "from sklearn.ensemble import RandomForestClassifier\n",
    "from lightgbm import LGBMClassifier\n",
    "from sklearn.metrics import classification_report"
   ]
  },
  {
   "cell_type": "markdown",
   "metadata": {},
   "source": [
    "## Instructions\n",
    "rubric={points:5}\n",
    "\n",
    "Follow the [homework submission instructions](https://github.com/UBC-CS/cpsc330/blob/master/docs/homework_instructions.md). "
   ]
  },
  {
   "cell_type": "markdown",
   "metadata": {},
   "source": [
    "## Dataset\n",
    "rubric={points:5}\n",
    "\n",
    "For this assignment, you can choose any reasonable dataset for supervised learning. Here is a list of Kaggle datasets in CSV format: https://www.kaggle.com/datasets?fileType=csv. You can also pick a dataset from your own hobby project or research project. \n",
    "\n",
    "If it's not already clear from the dataset, you will need to choose which column you are trying to predict. \n",
    "\n",
    "This week, you will build ML models on your dataset. Next week (hw9), you'll write a blog post about your work.\n",
    "\n",
    "Your task here for these 5 points is to describe where you got the data from. If from Kaggle or another online source, poviding a link is sufficient. If from elsewhere, please elaborate."
   ]
  },
  {
   "cell_type": "markdown",
   "metadata": {},
   "source": [
    "#### Answer:\n",
    "\n",
    "The data comes from the `games.csv` dataset on Kaggle, available [here](https://www.kaggle.com/nathanlauga/nba-games)."
   ]
  },
  {
   "cell_type": "code",
   "execution_count": 2,
   "metadata": {},
   "outputs": [
    {
     "data": {
      "text/html": [
       "<div>\n",
       "<style scoped>\n",
       "    .dataframe tbody tr th:only-of-type {\n",
       "        vertical-align: middle;\n",
       "    }\n",
       "\n",
       "    .dataframe tbody tr th {\n",
       "        vertical-align: top;\n",
       "    }\n",
       "\n",
       "    .dataframe thead th {\n",
       "        text-align: right;\n",
       "    }\n",
       "</style>\n",
       "<table border=\"1\" class=\"dataframe\">\n",
       "  <thead>\n",
       "    <tr style=\"text-align: right;\">\n",
       "      <th></th>\n",
       "      <th>GAME_DATE_EST</th>\n",
       "      <th>GAME_ID</th>\n",
       "      <th>GAME_STATUS_TEXT</th>\n",
       "      <th>HOME_TEAM_ID</th>\n",
       "      <th>VISITOR_TEAM_ID</th>\n",
       "      <th>SEASON</th>\n",
       "      <th>TEAM_ID_home</th>\n",
       "      <th>PTS_home</th>\n",
       "      <th>FG_PCT_home</th>\n",
       "      <th>FT_PCT_home</th>\n",
       "      <th>...</th>\n",
       "      <th>AST_home</th>\n",
       "      <th>REB_home</th>\n",
       "      <th>TEAM_ID_away</th>\n",
       "      <th>PTS_away</th>\n",
       "      <th>FG_PCT_away</th>\n",
       "      <th>FT_PCT_away</th>\n",
       "      <th>FG3_PCT_away</th>\n",
       "      <th>AST_away</th>\n",
       "      <th>REB_away</th>\n",
       "      <th>HOME_TEAM_WINS</th>\n",
       "    </tr>\n",
       "  </thead>\n",
       "  <tbody>\n",
       "    <tr>\n",
       "      <th>0</th>\n",
       "      <td>2020-03-01</td>\n",
       "      <td>21900895</td>\n",
       "      <td>Final</td>\n",
       "      <td>1610612766</td>\n",
       "      <td>1610612749</td>\n",
       "      <td>2019</td>\n",
       "      <td>1610612766</td>\n",
       "      <td>85.0</td>\n",
       "      <td>0.354</td>\n",
       "      <td>0.900</td>\n",
       "      <td>...</td>\n",
       "      <td>22.0</td>\n",
       "      <td>47.0</td>\n",
       "      <td>1610612749</td>\n",
       "      <td>93.0</td>\n",
       "      <td>0.402</td>\n",
       "      <td>0.762</td>\n",
       "      <td>0.226</td>\n",
       "      <td>20.0</td>\n",
       "      <td>61.0</td>\n",
       "      <td>0</td>\n",
       "    </tr>\n",
       "    <tr>\n",
       "      <th>1</th>\n",
       "      <td>2020-03-01</td>\n",
       "      <td>21900896</td>\n",
       "      <td>Final</td>\n",
       "      <td>1610612750</td>\n",
       "      <td>1610612742</td>\n",
       "      <td>2019</td>\n",
       "      <td>1610612750</td>\n",
       "      <td>91.0</td>\n",
       "      <td>0.364</td>\n",
       "      <td>0.400</td>\n",
       "      <td>...</td>\n",
       "      <td>19.0</td>\n",
       "      <td>57.0</td>\n",
       "      <td>1610612742</td>\n",
       "      <td>111.0</td>\n",
       "      <td>0.468</td>\n",
       "      <td>0.632</td>\n",
       "      <td>0.275</td>\n",
       "      <td>28.0</td>\n",
       "      <td>56.0</td>\n",
       "      <td>0</td>\n",
       "    </tr>\n",
       "    <tr>\n",
       "      <th>2</th>\n",
       "      <td>2020-03-01</td>\n",
       "      <td>21900897</td>\n",
       "      <td>Final</td>\n",
       "      <td>1610612746</td>\n",
       "      <td>1610612755</td>\n",
       "      <td>2019</td>\n",
       "      <td>1610612746</td>\n",
       "      <td>136.0</td>\n",
       "      <td>0.592</td>\n",
       "      <td>0.805</td>\n",
       "      <td>...</td>\n",
       "      <td>25.0</td>\n",
       "      <td>37.0</td>\n",
       "      <td>1610612755</td>\n",
       "      <td>130.0</td>\n",
       "      <td>0.505</td>\n",
       "      <td>0.650</td>\n",
       "      <td>0.488</td>\n",
       "      <td>27.0</td>\n",
       "      <td>37.0</td>\n",
       "      <td>1</td>\n",
       "    </tr>\n",
       "    <tr>\n",
       "      <th>3</th>\n",
       "      <td>2020-03-01</td>\n",
       "      <td>21900898</td>\n",
       "      <td>Final</td>\n",
       "      <td>1610612743</td>\n",
       "      <td>1610612761</td>\n",
       "      <td>2019</td>\n",
       "      <td>1610612743</td>\n",
       "      <td>133.0</td>\n",
       "      <td>0.566</td>\n",
       "      <td>0.700</td>\n",
       "      <td>...</td>\n",
       "      <td>38.0</td>\n",
       "      <td>41.0</td>\n",
       "      <td>1610612761</td>\n",
       "      <td>118.0</td>\n",
       "      <td>0.461</td>\n",
       "      <td>0.897</td>\n",
       "      <td>0.263</td>\n",
       "      <td>24.0</td>\n",
       "      <td>36.0</td>\n",
       "      <td>1</td>\n",
       "    </tr>\n",
       "    <tr>\n",
       "      <th>4</th>\n",
       "      <td>2020-03-01</td>\n",
       "      <td>21900899</td>\n",
       "      <td>Final</td>\n",
       "      <td>1610612758</td>\n",
       "      <td>1610612765</td>\n",
       "      <td>2019</td>\n",
       "      <td>1610612758</td>\n",
       "      <td>106.0</td>\n",
       "      <td>0.407</td>\n",
       "      <td>0.885</td>\n",
       "      <td>...</td>\n",
       "      <td>18.0</td>\n",
       "      <td>51.0</td>\n",
       "      <td>1610612765</td>\n",
       "      <td>100.0</td>\n",
       "      <td>0.413</td>\n",
       "      <td>0.667</td>\n",
       "      <td>0.429</td>\n",
       "      <td>23.0</td>\n",
       "      <td>42.0</td>\n",
       "      <td>1</td>\n",
       "    </tr>\n",
       "  </tbody>\n",
       "</table>\n",
       "<p>5 rows × 21 columns</p>\n",
       "</div>"
      ],
      "text/plain": [
       "  GAME_DATE_EST   GAME_ID GAME_STATUS_TEXT  HOME_TEAM_ID  VISITOR_TEAM_ID  \\\n",
       "0    2020-03-01  21900895            Final    1610612766       1610612749   \n",
       "1    2020-03-01  21900896            Final    1610612750       1610612742   \n",
       "2    2020-03-01  21900897            Final    1610612746       1610612755   \n",
       "3    2020-03-01  21900898            Final    1610612743       1610612761   \n",
       "4    2020-03-01  21900899            Final    1610612758       1610612765   \n",
       "\n",
       "   SEASON  TEAM_ID_home  PTS_home  FG_PCT_home  FT_PCT_home  ...  AST_home  \\\n",
       "0    2019    1610612766      85.0        0.354        0.900  ...      22.0   \n",
       "1    2019    1610612750      91.0        0.364        0.400  ...      19.0   \n",
       "2    2019    1610612746     136.0        0.592        0.805  ...      25.0   \n",
       "3    2019    1610612743     133.0        0.566        0.700  ...      38.0   \n",
       "4    2019    1610612758     106.0        0.407        0.885  ...      18.0   \n",
       "\n",
       "   REB_home  TEAM_ID_away  PTS_away  FG_PCT_away  FT_PCT_away  FG3_PCT_away  \\\n",
       "0      47.0    1610612749      93.0        0.402        0.762         0.226   \n",
       "1      57.0    1610612742     111.0        0.468        0.632         0.275   \n",
       "2      37.0    1610612755     130.0        0.505        0.650         0.488   \n",
       "3      41.0    1610612761     118.0        0.461        0.897         0.263   \n",
       "4      51.0    1610612765     100.0        0.413        0.667         0.429   \n",
       "\n",
       "   AST_away  REB_away  HOME_TEAM_WINS  \n",
       "0      20.0      61.0               0  \n",
       "1      28.0      56.0               0  \n",
       "2      27.0      37.0               1  \n",
       "3      24.0      36.0               1  \n",
       "4      23.0      42.0               1  \n",
       "\n",
       "[5 rows x 21 columns]"
      ]
     },
     "execution_count": 2,
     "metadata": {},
     "output_type": "execute_result"
    }
   ],
   "source": [
    "games_df = pd.read_csv('data/games.csv')\n",
    "games_df.head()\n",
    "# games_df = games_df.sample(frac=0.25, random_state=123) # To speed up running by only selecting a sample"
   ]
  },
  {
   "cell_type": "markdown",
   "metadata": {},
   "source": [
    "## Exercise 1\n",
    "rubric={points:10}\n",
    "\n",
    "For your dataset: \n",
    "\n",
    "- Describe your goal (e.g. what you are trying to predict).\n",
    "- Describe a (possibly fictional) scenario where someone in the real world is interested in this task and why it is useful to them. \n",
    "- What is the **decision** that ML is going to help make and what are the alternatives?\n",
    "\n",
    "Max 1 paragraph total."
   ]
  },
  {
   "cell_type": "markdown",
   "metadata": {},
   "source": [
    "#### Answer:\n",
    "\n",
    "The goal of this project is to classify a game as a 'win' (1) or a 'loss' (0) based on the various statistical categories of the team under consideration (home team) and their opponent (away team); the target is `HOME_TEAM_WINS`. In an increasingly statistics-driven league, a good classifier could allow a coach perform scenario analysis. First, they would use their opponent's season averages as a heuristic for how their opponent will perform in each statistical category in the upcoming game. Then, the coach could make *decisions* on tradeoffs between players in an attempt to target increasing certain statistical categories for their own team that they believe will give them the edge in the matchup. For example, a coach may estimate a higher 3 point percentage but lower amount of rebounds if they give a certain player (like Stephen Curry) more minutes, and this tradeoff might turn a loss into a win. The classifier helps because if the coach can estimate their team's statistical categories based on their knowledge of the players, they can run through different scenarios to see if the model predicts a win, and potentially use `predict_proba` or similar to evaluate the confidence of a win against a particular opponent. The alternative is using pure coaching experience and qualitative observations, for example by observing trends with players that have a 'hot hand' during a given period of time. However, this is not mutually exclusive, and would likely be used in conjunction with the model."
   ]
  },
  {
   "cell_type": "markdown",
   "metadata": {},
   "source": [
    "## Exercise 2\n",
    "\n",
    "Build a model for your chosen problem. Your work must involve the following elements (the list is broken up between the sub-parts):\n",
    "\n",
    "- Split your data into train/test"
   ]
  },
  {
   "cell_type": "markdown",
   "metadata": {},
   "source": [
    "#### Answer:"
   ]
  },
  {
   "cell_type": "code",
   "execution_count": 3,
   "metadata": {},
   "outputs": [],
   "source": [
    "train, test = train_test_split(games_df, test_size=0.2, random_state=123)"
   ]
  },
  {
   "cell_type": "markdown",
   "metadata": {},
   "source": [
    "#### 2(a)\n",
    "rubric={points:10}\n",
    "\n",
    "- Perform exploratory data analysis, including outlier detection. "
   ]
  },
  {
   "cell_type": "markdown",
   "metadata": {},
   "source": [
    "#### Answer:"
   ]
  },
  {
   "cell_type": "markdown",
   "metadata": {},
   "source": [
    "##### Summary Statistics\n",
    "A few things to note from the below data:\n",
    "* Data ranges from the (`min`) 2003 season to the (`max`) 2019 season.\n",
    "* Home teams on average score *slightly* higher statistics, but this difference is usually well within the standard deviation, so we won't consider home team advantage here."
   ]
  },
  {
   "cell_type": "code",
   "execution_count": 4,
   "metadata": {},
   "outputs": [
    {
     "data": {
      "text/html": [
       "<div>\n",
       "<style scoped>\n",
       "    .dataframe tbody tr th:only-of-type {\n",
       "        vertical-align: middle;\n",
       "    }\n",
       "\n",
       "    .dataframe tbody tr th {\n",
       "        vertical-align: top;\n",
       "    }\n",
       "\n",
       "    .dataframe thead th {\n",
       "        text-align: right;\n",
       "    }\n",
       "</style>\n",
       "<table border=\"1\" class=\"dataframe\">\n",
       "  <thead>\n",
       "    <tr style=\"text-align: right;\">\n",
       "      <th></th>\n",
       "      <th>SEASON</th>\n",
       "      <th>PTS_home</th>\n",
       "      <th>FG_PCT_home</th>\n",
       "      <th>FT_PCT_home</th>\n",
       "      <th>FG3_PCT_home</th>\n",
       "      <th>AST_home</th>\n",
       "      <th>REB_home</th>\n",
       "      <th>PTS_away</th>\n",
       "      <th>FG_PCT_away</th>\n",
       "      <th>FT_PCT_away</th>\n",
       "      <th>FG3_PCT_away</th>\n",
       "      <th>AST_away</th>\n",
       "      <th>REB_away</th>\n",
       "    </tr>\n",
       "  </thead>\n",
       "  <tbody>\n",
       "    <tr>\n",
       "      <th>count</th>\n",
       "      <td>18556.000000</td>\n",
       "      <td>18479.000000</td>\n",
       "      <td>18479.000000</td>\n",
       "      <td>18479.000000</td>\n",
       "      <td>18479.000000</td>\n",
       "      <td>18479.000000</td>\n",
       "      <td>18479.000000</td>\n",
       "      <td>18479.000000</td>\n",
       "      <td>18479.000000</td>\n",
       "      <td>18479.000000</td>\n",
       "      <td>18479.000000</td>\n",
       "      <td>18479.000000</td>\n",
       "      <td>18479.000000</td>\n",
       "    </tr>\n",
       "    <tr>\n",
       "      <th>mean</th>\n",
       "      <td>2010.832238</td>\n",
       "      <td>102.130851</td>\n",
       "      <td>0.459803</td>\n",
       "      <td>0.758240</td>\n",
       "      <td>0.355978</td>\n",
       "      <td>22.509281</td>\n",
       "      <td>43.152119</td>\n",
       "      <td>99.162833</td>\n",
       "      <td>0.448269</td>\n",
       "      <td>0.755723</td>\n",
       "      <td>0.349111</td>\n",
       "      <td>21.112723</td>\n",
       "      <td>41.854971</td>\n",
       "    </tr>\n",
       "    <tr>\n",
       "      <th>std</th>\n",
       "      <td>4.828332</td>\n",
       "      <td>12.927235</td>\n",
       "      <td>0.056871</td>\n",
       "      <td>0.100405</td>\n",
       "      <td>0.114889</td>\n",
       "      <td>5.160757</td>\n",
       "      <td>6.554497</td>\n",
       "      <td>12.957771</td>\n",
       "      <td>0.055599</td>\n",
       "      <td>0.103245</td>\n",
       "      <td>0.112632</td>\n",
       "      <td>5.068244</td>\n",
       "      <td>6.495927</td>\n",
       "    </tr>\n",
       "    <tr>\n",
       "      <th>min</th>\n",
       "      <td>2003.000000</td>\n",
       "      <td>36.000000</td>\n",
       "      <td>0.250000</td>\n",
       "      <td>0.143000</td>\n",
       "      <td>0.000000</td>\n",
       "      <td>7.000000</td>\n",
       "      <td>17.000000</td>\n",
       "      <td>33.000000</td>\n",
       "      <td>0.244000</td>\n",
       "      <td>0.143000</td>\n",
       "      <td>0.000000</td>\n",
       "      <td>4.000000</td>\n",
       "      <td>19.000000</td>\n",
       "    </tr>\n",
       "    <tr>\n",
       "      <th>25%</th>\n",
       "      <td>2007.000000</td>\n",
       "      <td>93.000000</td>\n",
       "      <td>0.420000</td>\n",
       "      <td>0.696000</td>\n",
       "      <td>0.281000</td>\n",
       "      <td>19.000000</td>\n",
       "      <td>39.000000</td>\n",
       "      <td>90.000000</td>\n",
       "      <td>0.410000</td>\n",
       "      <td>0.692000</td>\n",
       "      <td>0.276000</td>\n",
       "      <td>18.000000</td>\n",
       "      <td>37.000000</td>\n",
       "    </tr>\n",
       "    <tr>\n",
       "      <th>50%</th>\n",
       "      <td>2011.000000</td>\n",
       "      <td>102.000000</td>\n",
       "      <td>0.459000</td>\n",
       "      <td>0.765000</td>\n",
       "      <td>0.355000</td>\n",
       "      <td>22.000000</td>\n",
       "      <td>43.000000</td>\n",
       "      <td>99.000000</td>\n",
       "      <td>0.447000</td>\n",
       "      <td>0.762000</td>\n",
       "      <td>0.348000</td>\n",
       "      <td>21.000000</td>\n",
       "      <td>42.000000</td>\n",
       "    </tr>\n",
       "    <tr>\n",
       "      <th>75%</th>\n",
       "      <td>2015.000000</td>\n",
       "      <td>111.000000</td>\n",
       "      <td>0.500000</td>\n",
       "      <td>0.826000</td>\n",
       "      <td>0.429000</td>\n",
       "      <td>26.000000</td>\n",
       "      <td>47.000000</td>\n",
       "      <td>108.000000</td>\n",
       "      <td>0.486000</td>\n",
       "      <td>0.826000</td>\n",
       "      <td>0.421000</td>\n",
       "      <td>24.000000</td>\n",
       "      <td>46.000000</td>\n",
       "    </tr>\n",
       "    <tr>\n",
       "      <th>max</th>\n",
       "      <td>2019.000000</td>\n",
       "      <td>168.000000</td>\n",
       "      <td>0.684000</td>\n",
       "      <td>1.000000</td>\n",
       "      <td>1.000000</td>\n",
       "      <td>47.000000</td>\n",
       "      <td>72.000000</td>\n",
       "      <td>161.000000</td>\n",
       "      <td>0.674000</td>\n",
       "      <td>1.000000</td>\n",
       "      <td>1.000000</td>\n",
       "      <td>43.000000</td>\n",
       "      <td>81.000000</td>\n",
       "    </tr>\n",
       "  </tbody>\n",
       "</table>\n",
       "</div>"
      ],
      "text/plain": [
       "             SEASON      PTS_home   FG_PCT_home   FT_PCT_home  FG3_PCT_home  \\\n",
       "count  18556.000000  18479.000000  18479.000000  18479.000000  18479.000000   \n",
       "mean    2010.832238    102.130851      0.459803      0.758240      0.355978   \n",
       "std        4.828332     12.927235      0.056871      0.100405      0.114889   \n",
       "min     2003.000000     36.000000      0.250000      0.143000      0.000000   \n",
       "25%     2007.000000     93.000000      0.420000      0.696000      0.281000   \n",
       "50%     2011.000000    102.000000      0.459000      0.765000      0.355000   \n",
       "75%     2015.000000    111.000000      0.500000      0.826000      0.429000   \n",
       "max     2019.000000    168.000000      0.684000      1.000000      1.000000   \n",
       "\n",
       "           AST_home      REB_home      PTS_away   FG_PCT_away   FT_PCT_away  \\\n",
       "count  18479.000000  18479.000000  18479.000000  18479.000000  18479.000000   \n",
       "mean      22.509281     43.152119     99.162833      0.448269      0.755723   \n",
       "std        5.160757      6.554497     12.957771      0.055599      0.103245   \n",
       "min        7.000000     17.000000     33.000000      0.244000      0.143000   \n",
       "25%       19.000000     39.000000     90.000000      0.410000      0.692000   \n",
       "50%       22.000000     43.000000     99.000000      0.447000      0.762000   \n",
       "75%       26.000000     47.000000    108.000000      0.486000      0.826000   \n",
       "max       47.000000     72.000000    161.000000      0.674000      1.000000   \n",
       "\n",
       "       FG3_PCT_away      AST_away      REB_away  \n",
       "count  18479.000000  18479.000000  18479.000000  \n",
       "mean       0.349111     21.112723     41.854971  \n",
       "std        0.112632      5.068244      6.495927  \n",
       "min        0.000000      4.000000     19.000000  \n",
       "25%        0.276000     18.000000     37.000000  \n",
       "50%        0.348000     21.000000     42.000000  \n",
       "75%        0.421000     24.000000     46.000000  \n",
       "max        1.000000     43.000000     81.000000  "
      ]
     },
     "execution_count": 4,
     "metadata": {},
     "output_type": "execute_result"
    }
   ],
   "source": [
    "features_to_explore = ['SEASON', 'PTS_home', 'FG_PCT_home', 'FT_PCT_home', 'FG3_PCT_home', 'AST_home', 'REB_home', 'PTS_away', 'FG_PCT_away', 'FT_PCT_away', 'FG3_PCT_away', 'AST_away', 'REB_away']\n",
    "train[features_to_explore].describe()"
   ]
  },
  {
   "cell_type": "markdown",
   "metadata": {},
   "source": [
    "##### Data Imbalance\n",
    "\n",
    "The home team wins ~60% of the time, so this is not a terribly imbalanced dataset."
   ]
  },
  {
   "cell_type": "code",
   "execution_count": 5,
   "metadata": {},
   "outputs": [
    {
     "data": {
      "text/plain": [
       "0.5918301358051304"
      ]
     },
     "execution_count": 5,
     "metadata": {},
     "output_type": "execute_result"
    }
   ],
   "source": [
    "train['HOME_TEAM_WINS'].value_counts().loc[1]/len(train)"
   ]
  },
  {
   "cell_type": "markdown",
   "metadata": {},
   "source": [
    "##### Missing Values\n",
    "\n",
    "From the code below, we can see that we have 18556 - 18479 = 77 missing values. We can also gather this from the profiling report, but I've commented it out to save runtime."
   ]
  },
  {
   "cell_type": "code",
   "execution_count": 6,
   "metadata": {},
   "outputs": [
    {
     "name": "stdout",
     "output_type": "stream",
     "text": [
      "<class 'pandas.core.frame.DataFrame'>\n",
      "Int64Index: 18556 entries, 15085 to 19966\n",
      "Data columns (total 21 columns):\n",
      " #   Column            Non-Null Count  Dtype  \n",
      "---  ------            --------------  -----  \n",
      " 0   GAME_DATE_EST     18556 non-null  object \n",
      " 1   GAME_ID           18556 non-null  int64  \n",
      " 2   GAME_STATUS_TEXT  18556 non-null  object \n",
      " 3   HOME_TEAM_ID      18556 non-null  int64  \n",
      " 4   VISITOR_TEAM_ID   18556 non-null  int64  \n",
      " 5   SEASON            18556 non-null  int64  \n",
      " 6   TEAM_ID_home      18556 non-null  int64  \n",
      " 7   PTS_home          18479 non-null  float64\n",
      " 8   FG_PCT_home       18479 non-null  float64\n",
      " 9   FT_PCT_home       18479 non-null  float64\n",
      " 10  FG3_PCT_home      18479 non-null  float64\n",
      " 11  AST_home          18479 non-null  float64\n",
      " 12  REB_home          18479 non-null  float64\n",
      " 13  TEAM_ID_away      18556 non-null  int64  \n",
      " 14  PTS_away          18479 non-null  float64\n",
      " 15  FG_PCT_away       18479 non-null  float64\n",
      " 16  FT_PCT_away       18479 non-null  float64\n",
      " 17  FG3_PCT_away      18479 non-null  float64\n",
      " 18  AST_away          18479 non-null  float64\n",
      " 19  REB_away          18479 non-null  float64\n",
      " 20  HOME_TEAM_WINS    18556 non-null  int64  \n",
      "dtypes: float64(12), int64(7), object(2)\n",
      "memory usage: 3.1+ MB\n"
     ]
    }
   ],
   "source": [
    "train.info()"
   ]
  },
  {
   "cell_type": "code",
   "execution_count": 7,
   "metadata": {},
   "outputs": [],
   "source": [
    "# profile = ProfileReport(train, title='Profiling Report for NBA Games Data', minimal=True)"
   ]
  },
  {
   "cell_type": "code",
   "execution_count": 8,
   "metadata": {},
   "outputs": [],
   "source": [
    "# profile.to_notebook_iframe();"
   ]
  },
  {
   "cell_type": "markdown",
   "metadata": {},
   "source": [
    "Imputing values for missing data doesn't make sense, because we would have to impute data along every relavant feature for the problematic examples, which isn't really useful. Instead, we'll drop them, which shouldn't be an issue because we still have lots of data remaining."
   ]
  },
  {
   "cell_type": "code",
   "execution_count": 9,
   "metadata": {},
   "outputs": [
    {
     "name": "stdout",
     "output_type": "stream",
     "text": [
      "<class 'pandas.core.frame.DataFrame'>\n",
      "Int64Index: 18479 entries, 15085 to 19966\n",
      "Data columns (total 21 columns):\n",
      " #   Column            Non-Null Count  Dtype  \n",
      "---  ------            --------------  -----  \n",
      " 0   GAME_DATE_EST     18479 non-null  object \n",
      " 1   GAME_ID           18479 non-null  int64  \n",
      " 2   GAME_STATUS_TEXT  18479 non-null  object \n",
      " 3   HOME_TEAM_ID      18479 non-null  int64  \n",
      " 4   VISITOR_TEAM_ID   18479 non-null  int64  \n",
      " 5   SEASON            18479 non-null  int64  \n",
      " 6   TEAM_ID_home      18479 non-null  int64  \n",
      " 7   PTS_home          18479 non-null  float64\n",
      " 8   FG_PCT_home       18479 non-null  float64\n",
      " 9   FT_PCT_home       18479 non-null  float64\n",
      " 10  FG3_PCT_home      18479 non-null  float64\n",
      " 11  AST_home          18479 non-null  float64\n",
      " 12  REB_home          18479 non-null  float64\n",
      " 13  TEAM_ID_away      18479 non-null  int64  \n",
      " 14  PTS_away          18479 non-null  float64\n",
      " 15  FG_PCT_away       18479 non-null  float64\n",
      " 16  FT_PCT_away       18479 non-null  float64\n",
      " 17  FG3_PCT_away      18479 non-null  float64\n",
      " 18  AST_away          18479 non-null  float64\n",
      " 19  REB_away          18479 non-null  float64\n",
      " 20  HOME_TEAM_WINS    18479 non-null  int64  \n",
      "dtypes: float64(12), int64(7), object(2)\n",
      "memory usage: 3.1+ MB\n"
     ]
    }
   ],
   "source": [
    "train = train.dropna()\n",
    "train.info()"
   ]
  },
  {
   "cell_type": "markdown",
   "metadata": {},
   "source": [
    "##### Known Outlier Detection"
   ]
  },
  {
   "cell_type": "markdown",
   "metadata": {},
   "source": [
    "From our summary stats, there was a home team that scored only 36 points and away team that scored only 33. This is an error, given that the lowest scoring home team since the 2003 season scored 59 points, and the lowest scoring away team since the 2003 season scored 54 points, [source here](https://www.statmuse.com/nba/ask/lowest-scoring-by-a-team-nba-game-since-2000)."
   ]
  },
  {
   "cell_type": "code",
   "execution_count": 10,
   "metadata": {},
   "outputs": [
    {
     "data": {
      "text/html": [
       "<div>\n",
       "<style scoped>\n",
       "    .dataframe tbody tr th:only-of-type {\n",
       "        vertical-align: middle;\n",
       "    }\n",
       "\n",
       "    .dataframe tbody tr th {\n",
       "        vertical-align: top;\n",
       "    }\n",
       "\n",
       "    .dataframe thead th {\n",
       "        text-align: right;\n",
       "    }\n",
       "</style>\n",
       "<table border=\"1\" class=\"dataframe\">\n",
       "  <thead>\n",
       "    <tr style=\"text-align: right;\">\n",
       "      <th></th>\n",
       "      <th>GAME_DATE_EST</th>\n",
       "      <th>GAME_ID</th>\n",
       "      <th>GAME_STATUS_TEXT</th>\n",
       "      <th>HOME_TEAM_ID</th>\n",
       "      <th>VISITOR_TEAM_ID</th>\n",
       "      <th>SEASON</th>\n",
       "      <th>TEAM_ID_home</th>\n",
       "      <th>PTS_home</th>\n",
       "      <th>FG_PCT_home</th>\n",
       "      <th>FT_PCT_home</th>\n",
       "      <th>...</th>\n",
       "      <th>AST_home</th>\n",
       "      <th>REB_home</th>\n",
       "      <th>TEAM_ID_away</th>\n",
       "      <th>PTS_away</th>\n",
       "      <th>FG_PCT_away</th>\n",
       "      <th>FT_PCT_away</th>\n",
       "      <th>FG3_PCT_away</th>\n",
       "      <th>AST_away</th>\n",
       "      <th>REB_away</th>\n",
       "      <th>HOME_TEAM_WINS</th>\n",
       "    </tr>\n",
       "  </thead>\n",
       "  <tbody>\n",
       "    <tr>\n",
       "      <th>9125</th>\n",
       "      <td>2008-03-19</td>\n",
       "      <td>20701006</td>\n",
       "      <td>Final</td>\n",
       "      <td>1610612761</td>\n",
       "      <td>1610612748</td>\n",
       "      <td>2007</td>\n",
       "      <td>1610612761</td>\n",
       "      <td>96.0</td>\n",
       "      <td>0.542</td>\n",
       "      <td>0.733</td>\n",
       "      <td>...</td>\n",
       "      <td>29.0</td>\n",
       "      <td>49.0</td>\n",
       "      <td>1610612748</td>\n",
       "      <td>54.0</td>\n",
       "      <td>0.256</td>\n",
       "      <td>0.900</td>\n",
       "      <td>0.217</td>\n",
       "      <td>12.0</td>\n",
       "      <td>34.0</td>\n",
       "      <td>1</td>\n",
       "    </tr>\n",
       "    <tr>\n",
       "      <th>5231</th>\n",
       "      <td>2011-01-21</td>\n",
       "      <td>21000631</td>\n",
       "      <td>Final</td>\n",
       "      <td>1610612737</td>\n",
       "      <td>1610612740</td>\n",
       "      <td>2010</td>\n",
       "      <td>1610612737</td>\n",
       "      <td>59.0</td>\n",
       "      <td>0.291</td>\n",
       "      <td>0.818</td>\n",
       "      <td>...</td>\n",
       "      <td>11.0</td>\n",
       "      <td>32.0</td>\n",
       "      <td>1610612740</td>\n",
       "      <td>100.0</td>\n",
       "      <td>0.480</td>\n",
       "      <td>0.909</td>\n",
       "      <td>0.533</td>\n",
       "      <td>26.0</td>\n",
       "      <td>55.0</td>\n",
       "      <td>0</td>\n",
       "    </tr>\n",
       "    <tr>\n",
       "      <th>3851</th>\n",
       "      <td>2012-03-19</td>\n",
       "      <td>21100673</td>\n",
       "      <td>Final</td>\n",
       "      <td>1610612753</td>\n",
       "      <td>1610612741</td>\n",
       "      <td>2011</td>\n",
       "      <td>1610612753</td>\n",
       "      <td>59.0</td>\n",
       "      <td>0.353</td>\n",
       "      <td>0.389</td>\n",
       "      <td>...</td>\n",
       "      <td>9.0</td>\n",
       "      <td>38.0</td>\n",
       "      <td>1610612741</td>\n",
       "      <td>85.0</td>\n",
       "      <td>0.443</td>\n",
       "      <td>0.727</td>\n",
       "      <td>0.389</td>\n",
       "      <td>19.0</td>\n",
       "      <td>48.0</td>\n",
       "      <td>0</td>\n",
       "    </tr>\n",
       "    <tr>\n",
       "      <th>10176</th>\n",
       "      <td>2007-10-19</td>\n",
       "      <td>10700072</td>\n",
       "      <td>Final</td>\n",
       "      <td>1610612738</td>\n",
       "      <td>1610612751</td>\n",
       "      <td>2007</td>\n",
       "      <td>1610612738</td>\n",
       "      <td>36.0</td>\n",
       "      <td>0.414</td>\n",
       "      <td>0.750</td>\n",
       "      <td>...</td>\n",
       "      <td>8.0</td>\n",
       "      <td>18.0</td>\n",
       "      <td>1610612751</td>\n",
       "      <td>33.0</td>\n",
       "      <td>0.290</td>\n",
       "      <td>0.722</td>\n",
       "      <td>0.333</td>\n",
       "      <td>7.0</td>\n",
       "      <td>19.0</td>\n",
       "      <td>1</td>\n",
       "    </tr>\n",
       "  </tbody>\n",
       "</table>\n",
       "<p>4 rows × 21 columns</p>\n",
       "</div>"
      ],
      "text/plain": [
       "      GAME_DATE_EST   GAME_ID GAME_STATUS_TEXT  HOME_TEAM_ID  VISITOR_TEAM_ID  \\\n",
       "9125     2008-03-19  20701006            Final    1610612761       1610612748   \n",
       "5231     2011-01-21  21000631            Final    1610612737       1610612740   \n",
       "3851     2012-03-19  21100673            Final    1610612753       1610612741   \n",
       "10176    2007-10-19  10700072            Final    1610612738       1610612751   \n",
       "\n",
       "       SEASON  TEAM_ID_home  PTS_home  FG_PCT_home  FT_PCT_home  ...  \\\n",
       "9125     2007    1610612761      96.0        0.542        0.733  ...   \n",
       "5231     2010    1610612737      59.0        0.291        0.818  ...   \n",
       "3851     2011    1610612753      59.0        0.353        0.389  ...   \n",
       "10176    2007    1610612738      36.0        0.414        0.750  ...   \n",
       "\n",
       "       AST_home  REB_home  TEAM_ID_away  PTS_away  FG_PCT_away  FT_PCT_away  \\\n",
       "9125       29.0      49.0    1610612748      54.0        0.256        0.900   \n",
       "5231       11.0      32.0    1610612740     100.0        0.480        0.909   \n",
       "3851        9.0      38.0    1610612741      85.0        0.443        0.727   \n",
       "10176       8.0      18.0    1610612751      33.0        0.290        0.722   \n",
       "\n",
       "       FG3_PCT_away  AST_away  REB_away  HOME_TEAM_WINS  \n",
       "9125          0.217      12.0      34.0               1  \n",
       "5231          0.533      26.0      55.0               0  \n",
       "3851          0.389      19.0      48.0               0  \n",
       "10176         0.333       7.0      19.0               1  \n",
       "\n",
       "[4 rows x 21 columns]"
      ]
     },
     "execution_count": 10,
     "metadata": {},
     "output_type": "execute_result"
    }
   ],
   "source": [
    "train[(train.PTS_home < 60) | (train.PTS_away < 55)]"
   ]
  },
  {
   "cell_type": "markdown",
   "metadata": {},
   "source": [
    "The first three examples are real games from the source above, but the last one, where both these minimums occur, is not."
   ]
  },
  {
   "cell_type": "code",
   "execution_count": 11,
   "metadata": {},
   "outputs": [],
   "source": [
    "train = train.drop(10176)"
   ]
  },
  {
   "cell_type": "code",
   "execution_count": 12,
   "metadata": {},
   "outputs": [
    {
     "data": {
      "text/html": [
       "<div>\n",
       "<style scoped>\n",
       "    .dataframe tbody tr th:only-of-type {\n",
       "        vertical-align: middle;\n",
       "    }\n",
       "\n",
       "    .dataframe tbody tr th {\n",
       "        vertical-align: top;\n",
       "    }\n",
       "\n",
       "    .dataframe thead th {\n",
       "        text-align: right;\n",
       "    }\n",
       "</style>\n",
       "<table border=\"1\" class=\"dataframe\">\n",
       "  <thead>\n",
       "    <tr style=\"text-align: right;\">\n",
       "      <th></th>\n",
       "      <th>GAME_DATE_EST</th>\n",
       "      <th>GAME_ID</th>\n",
       "      <th>GAME_STATUS_TEXT</th>\n",
       "      <th>HOME_TEAM_ID</th>\n",
       "      <th>VISITOR_TEAM_ID</th>\n",
       "      <th>SEASON</th>\n",
       "      <th>TEAM_ID_home</th>\n",
       "      <th>PTS_home</th>\n",
       "      <th>FG_PCT_home</th>\n",
       "      <th>FT_PCT_home</th>\n",
       "      <th>...</th>\n",
       "      <th>AST_home</th>\n",
       "      <th>REB_home</th>\n",
       "      <th>TEAM_ID_away</th>\n",
       "      <th>PTS_away</th>\n",
       "      <th>FG_PCT_away</th>\n",
       "      <th>FT_PCT_away</th>\n",
       "      <th>FG3_PCT_away</th>\n",
       "      <th>AST_away</th>\n",
       "      <th>REB_away</th>\n",
       "      <th>HOME_TEAM_WINS</th>\n",
       "    </tr>\n",
       "  </thead>\n",
       "  <tbody>\n",
       "    <tr>\n",
       "      <th>9125</th>\n",
       "      <td>2008-03-19</td>\n",
       "      <td>20701006</td>\n",
       "      <td>Final</td>\n",
       "      <td>1610612761</td>\n",
       "      <td>1610612748</td>\n",
       "      <td>2007</td>\n",
       "      <td>1610612761</td>\n",
       "      <td>96.0</td>\n",
       "      <td>0.542</td>\n",
       "      <td>0.733</td>\n",
       "      <td>...</td>\n",
       "      <td>29.0</td>\n",
       "      <td>49.0</td>\n",
       "      <td>1610612748</td>\n",
       "      <td>54.0</td>\n",
       "      <td>0.256</td>\n",
       "      <td>0.900</td>\n",
       "      <td>0.217</td>\n",
       "      <td>12.0</td>\n",
       "      <td>34.0</td>\n",
       "      <td>1</td>\n",
       "    </tr>\n",
       "    <tr>\n",
       "      <th>5231</th>\n",
       "      <td>2011-01-21</td>\n",
       "      <td>21000631</td>\n",
       "      <td>Final</td>\n",
       "      <td>1610612737</td>\n",
       "      <td>1610612740</td>\n",
       "      <td>2010</td>\n",
       "      <td>1610612737</td>\n",
       "      <td>59.0</td>\n",
       "      <td>0.291</td>\n",
       "      <td>0.818</td>\n",
       "      <td>...</td>\n",
       "      <td>11.0</td>\n",
       "      <td>32.0</td>\n",
       "      <td>1610612740</td>\n",
       "      <td>100.0</td>\n",
       "      <td>0.480</td>\n",
       "      <td>0.909</td>\n",
       "      <td>0.533</td>\n",
       "      <td>26.0</td>\n",
       "      <td>55.0</td>\n",
       "      <td>0</td>\n",
       "    </tr>\n",
       "    <tr>\n",
       "      <th>3851</th>\n",
       "      <td>2012-03-19</td>\n",
       "      <td>21100673</td>\n",
       "      <td>Final</td>\n",
       "      <td>1610612753</td>\n",
       "      <td>1610612741</td>\n",
       "      <td>2011</td>\n",
       "      <td>1610612753</td>\n",
       "      <td>59.0</td>\n",
       "      <td>0.353</td>\n",
       "      <td>0.389</td>\n",
       "      <td>...</td>\n",
       "      <td>9.0</td>\n",
       "      <td>38.0</td>\n",
       "      <td>1610612741</td>\n",
       "      <td>85.0</td>\n",
       "      <td>0.443</td>\n",
       "      <td>0.727</td>\n",
       "      <td>0.389</td>\n",
       "      <td>19.0</td>\n",
       "      <td>48.0</td>\n",
       "      <td>0</td>\n",
       "    </tr>\n",
       "  </tbody>\n",
       "</table>\n",
       "<p>3 rows × 21 columns</p>\n",
       "</div>"
      ],
      "text/plain": [
       "     GAME_DATE_EST   GAME_ID GAME_STATUS_TEXT  HOME_TEAM_ID  VISITOR_TEAM_ID  \\\n",
       "9125    2008-03-19  20701006            Final    1610612761       1610612748   \n",
       "5231    2011-01-21  21000631            Final    1610612737       1610612740   \n",
       "3851    2012-03-19  21100673            Final    1610612753       1610612741   \n",
       "\n",
       "      SEASON  TEAM_ID_home  PTS_home  FG_PCT_home  FT_PCT_home  ...  AST_home  \\\n",
       "9125    2007    1610612761      96.0        0.542        0.733  ...      29.0   \n",
       "5231    2010    1610612737      59.0        0.291        0.818  ...      11.0   \n",
       "3851    2011    1610612753      59.0        0.353        0.389  ...       9.0   \n",
       "\n",
       "      REB_home  TEAM_ID_away  PTS_away  FG_PCT_away  FT_PCT_away  \\\n",
       "9125      49.0    1610612748      54.0        0.256        0.900   \n",
       "5231      32.0    1610612740     100.0        0.480        0.909   \n",
       "3851      38.0    1610612741      85.0        0.443        0.727   \n",
       "\n",
       "      FG3_PCT_away  AST_away  REB_away  HOME_TEAM_WINS  \n",
       "9125         0.217      12.0      34.0               1  \n",
       "5231         0.533      26.0      55.0               0  \n",
       "3851         0.389      19.0      48.0               0  \n",
       "\n",
       "[3 rows x 21 columns]"
      ]
     },
     "execution_count": 12,
     "metadata": {},
     "output_type": "execute_result"
    }
   ],
   "source": [
    "train[(train.PTS_home < 60) | (train.PTS_away < 55)]"
   ]
  },
  {
   "cell_type": "markdown",
   "metadata": {},
   "source": [
    "##### Visual Outlier Detection\n",
    "\n",
    "Given the distributions below, it seems there is no need for the use of isolation forests, because no clear outliers are visible. The one stat I questioned was the games with 1.0 `FG3_PCT_home` and `FG3_PCT_away` values (the 3 point percentage of a team) because it seemed unusually high. After exploring [this source](https://www.statmuse.com/nba/ask?q=highest+3p%25+by+a+team+in+a+regular+season+nba+game), I was surprised to learn teams actually achieve this statistic, so decided to keep these values. I also kept the examples with low free-throw shooting (`FT_PCT_home` and `FT_PCT_away`) because teams actually had poor shooting nights, and dropping these would skew the data."
   ]
  },
  {
   "cell_type": "code",
   "execution_count": 13,
   "metadata": {},
   "outputs": [],
   "source": [
    "visualized_features = ['PTS_home', 'FG_PCT_home', 'FT_PCT_home', 'FG3_PCT_home', 'AST_home', 'REB_home', 'PTS_away', 'FG_PCT_away', 'FT_PCT_away', 'FG3_PCT_away', 'AST_away', 'REB_away']"
   ]
  },
  {
   "cell_type": "code",
   "execution_count": 14,
   "metadata": {},
   "outputs": [
    {
     "data": {
      "image/png": "[encoded data removed]",
      "text/plain": [
       "<Figure size 432x288 with 1 Axes>"
      ]
     },
     "metadata": {
      "needs_background": "light"
     },
     "output_type": "display_data"
    },
    {
     "data": {
      "image/png": "[encoded data removed]",
      "text/plain": [
       "<Figure size 432x288 with 1 Axes>"
      ]
     },
     "metadata": {
      "needs_background": "light"
     },
     "output_type": "display_data"
    },
    {
     "data": {
      "image/png": "[encoded data removed]",
      "text/plain": [
       "<Figure size 432x288 with 1 Axes>"
      ]
     },
     "metadata": {
      "needs_background": "light"
     },
     "output_type": "display_data"
    },
    {
     "data": {
      "image/png": "[encoded data removed]",
      "text/plain": [
       "<Figure size 432x288 with 1 Axes>"
      ]
     },
     "metadata": {
      "needs_background": "light"
     },
     "output_type": "display_data"
    },
    {
     "data": {
      "image/png": "[encoded data removed]",
      "text/plain": [
       "<Figure size 432x288 with 1 Axes>"
      ]
     },
     "metadata": {
      "needs_background": "light"
     },
     "output_type": "display_data"
    },
    {
     "data": {
      "image/png": "[encoded data removed]",
      "text/plain": [
       "<Figure size 432x288 with 1 Axes>"
      ]
     },
     "metadata": {
      "needs_background": "light"
     },
     "output_type": "display_data"
    },
    {
     "data": {
      "image/png": "[encoded data removed]",
      "text/plain": [
       "<Figure size 432x288 with 1 Axes>"
      ]
     },
     "metadata": {
      "needs_background": "light"
     },
     "output_type": "display_data"
    },
    {
     "data": {
      "image/png": "[encoded data removed]",
      "text/plain": [
       "<Figure size 432x288 with 1 Axes>"
      ]
     },
     "metadata": {
      "needs_background": "light"
     },
     "output_type": "display_data"
    },
    {
     "data": {
      "image/png": "[encoded data removed]",
      "text/plain": [
       "<Figure size 432x288 with 1 Axes>"
      ]
     },
     "metadata": {
      "needs_background": "light"
     },
     "output_type": "display_data"
    },
    {
     "data": {
      "image/png": "[encoded data removed]",
      "text/plain": [
       "<Figure size 432x288 with 1 Axes>"
      ]
     },
     "metadata": {
      "needs_background": "light"
     },
     "output_type": "display_data"
    },
    {
     "data": {
      "image/png": "[encoded data removed]",
      "text/plain": [
       "<Figure size 432x288 with 1 Axes>"
      ]
     },
     "metadata": {
      "needs_background": "light"
     },
     "output_type": "display_data"
    },
    {
     "data": {
      "image/png": "[encoded data removed]",
      "text/plain": [
       "<Figure size 432x288 with 1 Axes>"
      ]
     },
     "metadata": {
      "needs_background": "light"
     },
     "output_type": "display_data"
    }
   ],
   "source": [
    "for feature in visualized_features:\n",
    "    train[feature].hist(bins=40)\n",
    "    plt.title(f'Distribution of {feature}')\n",
    "    plt.xlabel(feature)\n",
    "    plt.ylabel('count')\n",
    "    plt.show()"
   ]
  },
  {
   "cell_type": "markdown",
   "metadata": {},
   "source": [
    "##### (Bonus) Target Splits by Feature"
   ]
  },
  {
   "cell_type": "code",
   "execution_count": 15,
   "metadata": {},
   "outputs": [
    {
     "data": {
      "image/png": "[encoded data removed]",
      "text/plain": [
       "<Figure size 432x288 with 1 Axes>"
      ]
     },
     "metadata": {
      "needs_background": "light"
     },
     "output_type": "display_data"
    },
    {
     "data": {
      "image/png": "[encoded data removed]",
      "text/plain": [
       "<Figure size 432x288 with 1 Axes>"
      ]
     },
     "metadata": {
      "needs_background": "light"
     },
     "output_type": "display_data"
    },
    {
     "data": {
      "image/png": "[encoded data removed]",
      "text/plain": [
       "<Figure size 432x288 with 1 Axes>"
      ]
     },
     "metadata": {
      "needs_background": "light"
     },
     "output_type": "display_data"
    },
    {
     "data": {
      "image/png": "[encoded data removed]",
      "text/plain": [
       "<Figure size 432x288 with 1 Axes>"
      ]
     },
     "metadata": {
      "needs_background": "light"
     },
     "output_type": "display_data"
    },
    {
     "data": {
      "image/png": "[encoded data removed]",
      "text/plain": [
       "<Figure size 432x288 with 1 Axes>"
      ]
     },
     "metadata": {
      "needs_background": "light"
     },
     "output_type": "display_data"
    },
    {
     "data": {
      "image/png": "[encoded data removed]",
      "text/plain": [
       "<Figure size 432x288 with 1 Axes>"
      ]
     },
     "metadata": {
      "needs_background": "light"
     },
     "output_type": "display_data"
    },
    {
     "data": {
      "image/png": "[encoded data removed]",
      "text/plain": [
       "<Figure size 432x288 with 1 Axes>"
      ]
     },
     "metadata": {
      "needs_background": "light"
     },
     "output_type": "display_data"
    },
    {
     "data": {
      "image/png": "[encoded data removed]",
      "text/plain": [
       "<Figure size 432x288 with 1 Axes>"
      ]
     },
     "metadata": {
      "needs_background": "light"
     },
     "output_type": "display_data"
    },
    {
     "data": {
      "image/png": "[encoded data removed]",
      "text/plain": [
       "<Figure size 432x288 with 1 Axes>"
      ]
     },
     "metadata": {
      "needs_background": "light"
     },
     "output_type": "display_data"
    },
    {
     "data": {
      "image/png": "[encoded data removed]",
      "text/plain": [
       "<Figure size 432x288 with 1 Axes>"
      ]
     },
     "metadata": {
      "needs_background": "light"
     },
     "output_type": "display_data"
    },
    {
     "data": {
      "image/png": "[encoded data removed]",
      "text/plain": [
       "<Figure size 432x288 with 1 Axes>"
      ]
     },
     "metadata": {
      "needs_background": "light"
     },
     "output_type": "display_data"
    },
    {
     "data": {
      "image/png": "[encoded data removed]",
      "text/plain": [
       "<Figure size 432x288 with 1 Axes>"
      ]
     },
     "metadata": {
      "needs_background": "light"
     },
     "output_type": "display_data"
    }
   ],
   "source": [
    "# Adapted from Homework 2\n",
    "negative_examples = train.query(\"HOME_TEAM_WINS == 0\")\n",
    "positive_examples = train.query(\"HOME_TEAM_WINS == 1\")\n",
    "\n",
    "negative_examples = negative_examples[visualized_features]\n",
    "positive_examples = positive_examples[visualized_features]\n",
    "\n",
    "def plot_feature_hist(negative_examples, positive_examples, feature):\n",
    "    plt.hist(negative_examples[feature], bins=35, color='tab:blue', label='0', alpha=0.5)\n",
    "    plt.hist(positive_examples[feature], bins=35, color='tab:orange', label='1', alpha=0.5)\n",
    "    plt.xlabel(feature)\n",
    "    plt.ylabel('count')\n",
    "    plt.title('Histogram of ' + feature + ' by target class')\n",
    "    plt.legend(loc='best') \n",
    "\n",
    "for f in visualized_features:\n",
    "    plot_feature_hist(negative_examples, positive_examples, f)\n",
    "    plt.show()  "
   ]
  },
  {
   "cell_type": "markdown",
   "metadata": {},
   "source": [
    "#### 2(b)\n",
    "rubric={points:5}\n",
    "\n",
    "- Drop features that would not actually be available during deployment.\n",
    "- Drop features for other reasons, e.g. they would not be useful for predicting the target.\n",
    "- Provide a brief justification explaining the features you dropped."
   ]
  },
  {
   "cell_type": "markdown",
   "metadata": {},
   "source": [
    "#### Answer:\n",
    "* To be clear, the goal is not to predict using actual post-game data, which team will win a game, because none of these features will be available before the game. Rather, it is to run scenarios with estimates of these features pre-game and mid-game, to predict a win or a loss. \n",
    "* `PTS_home` and `PTS_away` are dropped because they directly determine the target. It also isn't helpful because ultimately the end goal of the coach is to have a positive points differential anyways, whereas with the other features, a coach would be more likely to tinker with their decisions and make tradeoffs. Even mid-game, it makes sense to look at intermediate statistics to predict which team is playing the better game, but it doesn't make sense to look at points, because the team with higher points at the time is more likely to win.\n",
    "* `GAME_DATE_EST` and `SEASON` are dropped because the game changes over time, but I wanted to capture more fundemental patterns in whether a game is won/lost based solely on features of that game, ignoring the temporal component.\n",
    "* `GAME_ID`, `HOME_TEAM_ID`/`TEAM_ID_home`, and `VISITOR_TEAM_ID`/`TEAM_ID_away` were dropped because they are simply identifying data, and good/bad teams can change with the times.\n",
    "* `GAME_STATUS_TEXT` was dropped because it is the same across all examples so isn't useful for prediction.\n",
    "\n",
    "Actual features will be dropped in the next part"
   ]
  },
  {
   "cell_type": "code",
   "execution_count": 16,
   "metadata": {},
   "outputs": [],
   "source": [
    "dropped_features = ['PTS_home', 'PTS_away', 'GAME_DATE_EST', 'SEASON', 'GAME_ID', 'HOME_TEAM_ID', 'TEAM_ID_home', 'VISITOR_TEAM_ID', 'TEAM_ID_away', 'GAME_STATUS_TEXT']\n",
    "X_train = train.drop(columns=dropped_features + ['HOME_TEAM_WINS'])\n",
    "y_train = train['HOME_TEAM_WINS']\n",
    "X_test = test.drop(columns=dropped_features + ['HOME_TEAM_WINS'])\n",
    "y_test = test['HOME_TEAM_WINS']"
   ]
  },
  {
   "cell_type": "markdown",
   "metadata": {},
   "source": [
    "#### 2(c)\n",
    "rubric={points:10}\n",
    "\n",
    "- Build a preprocessing pipeline."
   ]
  },
  {
   "cell_type": "markdown",
   "metadata": {},
   "source": [
    "#### Answer:\n",
    "Because all the data is numeric, the preprocessing pipeline just needs to impute in case there are missing values come deployment (i.e. a coach can't input a stat into the model), and scale."
   ]
  },
  {
   "cell_type": "code",
   "execution_count": 17,
   "metadata": {},
   "outputs": [
    {
     "data": {
      "text/html": [
       "<div>\n",
       "<style scoped>\n",
       "    .dataframe tbody tr th:only-of-type {\n",
       "        vertical-align: middle;\n",
       "    }\n",
       "\n",
       "    .dataframe tbody tr th {\n",
       "        vertical-align: top;\n",
       "    }\n",
       "\n",
       "    .dataframe thead th {\n",
       "        text-align: right;\n",
       "    }\n",
       "</style>\n",
       "<table border=\"1\" class=\"dataframe\">\n",
       "  <thead>\n",
       "    <tr style=\"text-align: right;\">\n",
       "      <th></th>\n",
       "      <th>FG_PCT_home</th>\n",
       "      <th>FT_PCT_home</th>\n",
       "      <th>FG3_PCT_home</th>\n",
       "      <th>AST_home</th>\n",
       "      <th>REB_home</th>\n",
       "      <th>FG_PCT_away</th>\n",
       "      <th>FT_PCT_away</th>\n",
       "      <th>FG3_PCT_away</th>\n",
       "      <th>AST_away</th>\n",
       "      <th>REB_away</th>\n",
       "    </tr>\n",
       "  </thead>\n",
       "  <tbody>\n",
       "    <tr>\n",
       "      <th>15085</th>\n",
       "      <td>0.091348</td>\n",
       "      <td>0.067326</td>\n",
       "      <td>-1.514299</td>\n",
       "      <td>-0.098857</td>\n",
       "      <td>0.892342</td>\n",
       "      <td>-0.526693</td>\n",
       "      <td>0.060779</td>\n",
       "      <td>-0.436036</td>\n",
       "      <td>0.569649</td>\n",
       "      <td>0.484126</td>\n",
       "    </tr>\n",
       "    <tr>\n",
       "      <th>21928</th>\n",
       "      <td>0.601285</td>\n",
       "      <td>1.113086</td>\n",
       "      <td>0.069835</td>\n",
       "      <td>0.482578</td>\n",
       "      <td>1.502853</td>\n",
       "      <td>-1.300260</td>\n",
       "      <td>0.700036</td>\n",
       "      <td>-0.675755</td>\n",
       "      <td>-1.009138</td>\n",
       "      <td>-1.055816</td>\n",
       "    </tr>\n",
       "    <tr>\n",
       "      <th>1898</th>\n",
       "      <td>-1.684640</td>\n",
       "      <td>-1.695526</td>\n",
       "      <td>-0.199990</td>\n",
       "      <td>-1.649349</td>\n",
       "      <td>1.808109</td>\n",
       "      <td>-0.382774</td>\n",
       "      <td>-0.220106</td>\n",
       "      <td>2.547133</td>\n",
       "      <td>0.766997</td>\n",
       "      <td>2.024068</td>\n",
       "    </tr>\n",
       "  </tbody>\n",
       "</table>\n",
       "</div>"
      ],
      "text/plain": [
       "       FG_PCT_home  FT_PCT_home  FG3_PCT_home  AST_home  REB_home  \\\n",
       "15085     0.091348     0.067326     -1.514299 -0.098857  0.892342   \n",
       "21928     0.601285     1.113086      0.069835  0.482578  1.502853   \n",
       "1898     -1.684640    -1.695526     -0.199990 -1.649349  1.808109   \n",
       "\n",
       "       FG_PCT_away  FT_PCT_away  FG3_PCT_away  AST_away  REB_away  \n",
       "15085    -0.526693     0.060779     -0.436036  0.569649  0.484126  \n",
       "21928    -1.300260     0.700036     -0.675755 -1.009138 -1.055816  \n",
       "1898     -0.382774    -0.220106      2.547133  0.766997  2.024068  "
      ]
     },
     "execution_count": 17,
     "metadata": {},
     "output_type": "execute_result"
    }
   ],
   "source": [
    "imp = SimpleImputer(strategy='median')\n",
    "scaler = StandardScaler()\n",
    "preproc_pipe = Pipeline([('imp', imp),\n",
    "                         ('scaler', scaler)])\n",
    "preproc_pipe.fit(X_train)\n",
    "pd.DataFrame(data=preproc_pipe.transform(X_train), index=X_train.index, columns=X_train.columns).head(3)"
   ]
  },
  {
   "cell_type": "markdown",
   "metadata": {},
   "source": [
    "#### 2(d)\n",
    "rubric={points:5}\n",
    "\n",
    "- Try some models includng, at least:\n",
    "    1. `DummyRegressor` or `DummyClassifer`, as appropriate\n",
    "    2. `Ridge` or `LogisticRegression`, as appropriate\n",
    "    3. `LGBMRegressor` or `LGBMClassifier`, as appropriate \n"
   ]
  },
  {
   "cell_type": "markdown",
   "metadata": {},
   "source": [
    "#### Answer:"
   ]
  },
  {
   "cell_type": "markdown",
   "metadata": {},
   "source": [
    "##### Dummy Classifier"
   ]
  },
  {
   "cell_type": "code",
   "execution_count": 18,
   "metadata": {},
   "outputs": [
    {
     "name": "stdout",
     "output_type": "stream",
     "text": [
      "Cross-validation Score: 0.594274276693086\n"
     ]
    }
   ],
   "source": [
    "dc = DummyClassifier(strategy='prior')\n",
    "dummy_pipe = Pipeline([('preproc', preproc_pipe),\n",
    "                       ('dc', dc)])\n",
    "print(f'Cross-validation Score: {cross_validate(dummy_pipe, X_train, y_train, return_train_score=True)[\"test_score\"].mean()}')"
   ]
  },
  {
   "cell_type": "markdown",
   "metadata": {},
   "source": [
    "##### Logistic Regression"
   ]
  },
  {
   "cell_type": "code",
   "execution_count": 19,
   "metadata": {},
   "outputs": [
    {
     "name": "stdout",
     "output_type": "stream",
     "text": [
      "Cross-validation Score: 0.8391055978302256\n"
     ]
    }
   ],
   "source": [
    "lr = LogisticRegression()\n",
    "lr_pipe = Pipeline([('preproc', preproc_pipe),\n",
    "                    ('lr', lr)])\n",
    "print(f'Cross-validation Score: {cross_validate(lr_pipe, X_train, y_train, return_train_score=True)[\"test_score\"].mean()}')"
   ]
  },
  {
   "cell_type": "markdown",
   "metadata": {},
   "source": [
    "##### LGBM Classifier"
   ]
  },
  {
   "cell_type": "code",
   "execution_count": 20,
   "metadata": {},
   "outputs": [
    {
     "name": "stdout",
     "output_type": "stream",
     "text": [
      "Cross-validation Score: 0.835912957137585\n"
     ]
    }
   ],
   "source": [
    "lgbm = LGBMClassifier(random_state=123)\n",
    "lgbm_pipe = Pipeline([('preproc', preproc_pipe),\n",
    "                      ('lgbm', lgbm)])\n",
    "print(f'Cross-validation Score: {cross_validate(lgbm_pipe, X_train, y_train, return_train_score=True)[\"test_score\"].mean()}')"
   ]
  },
  {
   "cell_type": "markdown",
   "metadata": {},
   "source": [
    "##### Random Forest Classifier"
   ]
  },
  {
   "cell_type": "code",
   "execution_count": 21,
   "metadata": {},
   "outputs": [
    {
     "name": "stdout",
     "output_type": "stream",
     "text": [
      "Cross-validation Score: 0.8347764470531723\n"
     ]
    }
   ],
   "source": [
    "rf = RandomForestClassifier(random_state=123, n_jobs=-1)\n",
    "rf_pipe = Pipeline([('preproc', preproc_pipe),\n",
    "                    ('rf', rf)])\n",
    "print(f'Cross-validation Score: {cross_validate(rf_pipe, X_train, y_train, return_train_score=True)[\"test_score\"].mean()}')"
   ]
  },
  {
   "cell_type": "markdown",
   "metadata": {},
   "source": [
    "#### 2(e)\n",
    "rubric={points:5}\n",
    "\n",
    "- Hyperparameter tuning."
   ]
  },
  {
   "cell_type": "markdown",
   "metadata": {},
   "source": [
    "#### Answer:\n",
    "\n",
    "I've chosen to go with `LogisticRegression` because it had slightly faster train times in my experience and similar (slightly higher) cross-validation accuracy to `LGBMClassifier` or `RandomForesetClassifier` (although this could just be because it had better default hyperparameters).\n",
    "\n",
    "Through both `GridSearchCV` and `RandomizedSearchCV` it seems like the values of the hyperparameters don't vary the score drastically, as the top results are within standard deviations of one another, so I'll leave the `sklearn` defaults of `max_iter=100` and `C=1`."
   ]
  },
  {
   "cell_type": "markdown",
   "metadata": {},
   "source": [
    "##### Grid Search"
   ]
  },
  {
   "cell_type": "code",
   "execution_count": 22,
   "metadata": {},
   "outputs": [],
   "source": [
    "param_grid = {\n",
    "    \"lr__max_iter\" : [50, 100, 500, 1000],\n",
    "    \"lr__C\" : [0.01, 0.05, 1, 5, 10, 50, 100]\n",
    "}\n",
    "\n",
    "grid_search = GridSearchCV(lr_pipe, param_grid, verbose=2, n_jobs=-1, cv=10)"
   ]
  },
  {
   "cell_type": "code",
   "execution_count": 23,
   "metadata": {},
   "outputs": [
    {
     "name": "stdout",
     "output_type": "stream",
     "text": [
      "Fitting 10 folds for each of 28 candidates, totalling 280 fits\n"
     ]
    },
    {
     "name": "stderr",
     "output_type": "stream",
     "text": [
      "[Parallel(n_jobs=-1)]: Using backend LokyBackend with 16 concurrent workers.\n",
      "[Parallel(n_jobs=-1)]: Done   9 tasks      | elapsed:    0.4s\n",
      "[Parallel(n_jobs=-1)]: Done 180 tasks      | elapsed:    1.2s\n",
      "[Parallel(n_jobs=-1)]: Done 280 out of 280 | elapsed:    1.6s finished\n"
     ]
    },
    {
     "data": {
      "text/html": [
       "<div>\n",
       "<style scoped>\n",
       "    .dataframe tbody tr th:only-of-type {\n",
       "        vertical-align: middle;\n",
       "    }\n",
       "\n",
       "    .dataframe tbody tr th {\n",
       "        vertical-align: top;\n",
       "    }\n",
       "\n",
       "    .dataframe thead th {\n",
       "        text-align: right;\n",
       "    }\n",
       "</style>\n",
       "<table border=\"1\" class=\"dataframe\">\n",
       "  <thead>\n",
       "    <tr style=\"text-align: right;\">\n",
       "      <th></th>\n",
       "      <th>mean_test_score</th>\n",
       "      <th>std_test_score</th>\n",
       "      <th>param_lr__max_iter</th>\n",
       "      <th>param_lr__C</th>\n",
       "      <th>mean_fit_time</th>\n",
       "    </tr>\n",
       "    <tr>\n",
       "      <th>rank_test_score</th>\n",
       "      <th></th>\n",
       "      <th></th>\n",
       "      <th></th>\n",
       "      <th></th>\n",
       "      <th></th>\n",
       "    </tr>\n",
       "  </thead>\n",
       "  <tbody>\n",
       "    <tr>\n",
       "      <th>1</th>\n",
       "      <td>0.838348</td>\n",
       "      <td>0.007263</td>\n",
       "      <td>50</td>\n",
       "      <td>1</td>\n",
       "      <td>0.054501</td>\n",
       "    </tr>\n",
       "    <tr>\n",
       "      <th>1</th>\n",
       "      <td>0.838348</td>\n",
       "      <td>0.007263</td>\n",
       "      <td>1000</td>\n",
       "      <td>1</td>\n",
       "      <td>0.052202</td>\n",
       "    </tr>\n",
       "    <tr>\n",
       "      <th>1</th>\n",
       "      <td>0.838348</td>\n",
       "      <td>0.007263</td>\n",
       "      <td>100</td>\n",
       "      <td>1</td>\n",
       "      <td>0.054603</td>\n",
       "    </tr>\n",
       "    <tr>\n",
       "      <th>1</th>\n",
       "      <td>0.838348</td>\n",
       "      <td>0.007263</td>\n",
       "      <td>500</td>\n",
       "      <td>1</td>\n",
       "      <td>0.054299</td>\n",
       "    </tr>\n",
       "    <tr>\n",
       "      <th>5</th>\n",
       "      <td>0.838348</td>\n",
       "      <td>0.007145</td>\n",
       "      <td>50</td>\n",
       "      <td>0.05</td>\n",
       "      <td>0.052801</td>\n",
       "    </tr>\n",
       "    <tr>\n",
       "      <th>5</th>\n",
       "      <td>0.838348</td>\n",
       "      <td>0.007145</td>\n",
       "      <td>100</td>\n",
       "      <td>0.05</td>\n",
       "      <td>0.056203</td>\n",
       "    </tr>\n",
       "    <tr>\n",
       "      <th>5</th>\n",
       "      <td>0.838348</td>\n",
       "      <td>0.007145</td>\n",
       "      <td>500</td>\n",
       "      <td>0.05</td>\n",
       "      <td>0.055203</td>\n",
       "    </tr>\n",
       "    <tr>\n",
       "      <th>5</th>\n",
       "      <td>0.838348</td>\n",
       "      <td>0.007145</td>\n",
       "      <td>1000</td>\n",
       "      <td>0.05</td>\n",
       "      <td>0.051597</td>\n",
       "    </tr>\n",
       "    <tr>\n",
       "      <th>9</th>\n",
       "      <td>0.838294</td>\n",
       "      <td>0.007330</td>\n",
       "      <td>50</td>\n",
       "      <td>50</td>\n",
       "      <td>0.053801</td>\n",
       "    </tr>\n",
       "    <tr>\n",
       "      <th>9</th>\n",
       "      <td>0.838294</td>\n",
       "      <td>0.007330</td>\n",
       "      <td>100</td>\n",
       "      <td>50</td>\n",
       "      <td>0.054801</td>\n",
       "    </tr>\n",
       "  </tbody>\n",
       "</table>\n",
       "</div>"
      ],
      "text/plain": [
       "                 mean_test_score  std_test_score param_lr__max_iter  \\\n",
       "rank_test_score                                                       \n",
       "1                       0.838348        0.007263                 50   \n",
       "1                       0.838348        0.007263               1000   \n",
       "1                       0.838348        0.007263                100   \n",
       "1                       0.838348        0.007263                500   \n",
       "5                       0.838348        0.007145                 50   \n",
       "5                       0.838348        0.007145                100   \n",
       "5                       0.838348        0.007145                500   \n",
       "5                       0.838348        0.007145               1000   \n",
       "9                       0.838294        0.007330                 50   \n",
       "9                       0.838294        0.007330                100   \n",
       "\n",
       "                param_lr__C  mean_fit_time  \n",
       "rank_test_score                             \n",
       "1                         1       0.054501  \n",
       "1                         1       0.052202  \n",
       "1                         1       0.054603  \n",
       "1                         1       0.054299  \n",
       "5                      0.05       0.052801  \n",
       "5                      0.05       0.056203  \n",
       "5                      0.05       0.055203  \n",
       "5                      0.05       0.051597  \n",
       "9                        50       0.053801  \n",
       "9                        50       0.054801  "
      ]
     },
     "execution_count": 23,
     "metadata": {},
     "output_type": "execute_result"
    }
   ],
   "source": [
    "grid_search.fit(X_train, y_train)\n",
    "pd.DataFrame(grid_search.cv_results_)[['mean_test_score', 'std_test_score', 'param_lr__max_iter', 'param_lr__C', 'mean_fit_time', 'rank_test_score']].set_index('rank_test_score').sort_index().head(10)"
   ]
  },
  {
   "cell_type": "code",
   "execution_count": 24,
   "metadata": {},
   "outputs": [
    {
     "data": {
      "text/plain": [
       "{'lr__C': 1, 'lr__max_iter': 50}"
      ]
     },
     "execution_count": 24,
     "metadata": {},
     "output_type": "execute_result"
    }
   ],
   "source": [
    "grid_search.best_params_"
   ]
  },
  {
   "cell_type": "markdown",
   "metadata": {},
   "source": [
    "##### Randomized Search"
   ]
  },
  {
   "cell_type": "code",
   "execution_count": 25,
   "metadata": {},
   "outputs": [],
   "source": [
    "param_choices = {\n",
    "    \"lr__max_iter\" : np.arange(50, 1000),\n",
    "    \"lr__C\" : [0.01, 0.05, 1, 5, 10, 50, 100]\n",
    "}\n",
    "\n",
    "random_search = RandomizedSearchCV(lr_pipe, param_choices, n_iter = 120, verbose = 1, n_jobs = -1, cv=10, random_state = 123)"
   ]
  },
  {
   "cell_type": "code",
   "execution_count": 26,
   "metadata": {},
   "outputs": [
    {
     "name": "stdout",
     "output_type": "stream",
     "text": [
      "Fitting 10 folds for each of 120 candidates, totalling 1200 fits\n"
     ]
    },
    {
     "name": "stderr",
     "output_type": "stream",
     "text": [
      "[Parallel(n_jobs=-1)]: Using backend LokyBackend with 16 concurrent workers.\n",
      "[Parallel(n_jobs=-1)]: Done  18 tasks      | elapsed:    0.1s\n",
      "[Parallel(n_jobs=-1)]: Done 512 tasks      | elapsed:    2.2s\n",
      "[Parallel(n_jobs=-1)]: Done 1169 out of 1200 | elapsed:    4.8s remaining:    0.0s\n",
      "[Parallel(n_jobs=-1)]: Done 1200 out of 1200 | elapsed:    4.9s finished\n"
     ]
    },
    {
     "data": {
      "text/html": [
       "<div>\n",
       "<style scoped>\n",
       "    .dataframe tbody tr th:only-of-type {\n",
       "        vertical-align: middle;\n",
       "    }\n",
       "\n",
       "    .dataframe tbody tr th {\n",
       "        vertical-align: top;\n",
       "    }\n",
       "\n",
       "    .dataframe thead th {\n",
       "        text-align: right;\n",
       "    }\n",
       "</style>\n",
       "<table border=\"1\" class=\"dataframe\">\n",
       "  <thead>\n",
       "    <tr style=\"text-align: right;\">\n",
       "      <th></th>\n",
       "      <th>mean_test_score</th>\n",
       "      <th>std_test_score</th>\n",
       "      <th>param_lr__max_iter</th>\n",
       "      <th>param_lr__C</th>\n",
       "      <th>mean_fit_time</th>\n",
       "    </tr>\n",
       "    <tr>\n",
       "      <th>rank_test_score</th>\n",
       "      <th></th>\n",
       "      <th></th>\n",
       "      <th></th>\n",
       "      <th></th>\n",
       "      <th></th>\n",
       "    </tr>\n",
       "  </thead>\n",
       "  <tbody>\n",
       "    <tr>\n",
       "      <th>1</th>\n",
       "      <td>0.838348</td>\n",
       "      <td>0.007263</td>\n",
       "      <td>869</td>\n",
       "      <td>1</td>\n",
       "      <td>0.051695</td>\n",
       "    </tr>\n",
       "    <tr>\n",
       "      <th>1</th>\n",
       "      <td>0.838348</td>\n",
       "      <td>0.007263</td>\n",
       "      <td>561</td>\n",
       "      <td>1</td>\n",
       "      <td>0.054699</td>\n",
       "    </tr>\n",
       "    <tr>\n",
       "      <th>1</th>\n",
       "      <td>0.838348</td>\n",
       "      <td>0.007263</td>\n",
       "      <td>610</td>\n",
       "      <td>1</td>\n",
       "      <td>0.052992</td>\n",
       "    </tr>\n",
       "    <tr>\n",
       "      <th>1</th>\n",
       "      <td>0.838348</td>\n",
       "      <td>0.007263</td>\n",
       "      <td>761</td>\n",
       "      <td>1</td>\n",
       "      <td>0.055206</td>\n",
       "    </tr>\n",
       "    <tr>\n",
       "      <th>1</th>\n",
       "      <td>0.838348</td>\n",
       "      <td>0.007263</td>\n",
       "      <td>719</td>\n",
       "      <td>1</td>\n",
       "      <td>0.056201</td>\n",
       "    </tr>\n",
       "    <tr>\n",
       "      <th>1</th>\n",
       "      <td>0.838348</td>\n",
       "      <td>0.007263</td>\n",
       "      <td>124</td>\n",
       "      <td>1</td>\n",
       "      <td>0.057208</td>\n",
       "    </tr>\n",
       "    <tr>\n",
       "      <th>1</th>\n",
       "      <td>0.838348</td>\n",
       "      <td>0.007263</td>\n",
       "      <td>905</td>\n",
       "      <td>1</td>\n",
       "      <td>0.053797</td>\n",
       "    </tr>\n",
       "    <tr>\n",
       "      <th>1</th>\n",
       "      <td>0.838348</td>\n",
       "      <td>0.007263</td>\n",
       "      <td>65</td>\n",
       "      <td>1</td>\n",
       "      <td>0.055800</td>\n",
       "    </tr>\n",
       "    <tr>\n",
       "      <th>1</th>\n",
       "      <td>0.838348</td>\n",
       "      <td>0.007263</td>\n",
       "      <td>995</td>\n",
       "      <td>1</td>\n",
       "      <td>0.053095</td>\n",
       "    </tr>\n",
       "    <tr>\n",
       "      <th>1</th>\n",
       "      <td>0.838348</td>\n",
       "      <td>0.007263</td>\n",
       "      <td>236</td>\n",
       "      <td>1</td>\n",
       "      <td>0.054902</td>\n",
       "    </tr>\n",
       "  </tbody>\n",
       "</table>\n",
       "</div>"
      ],
      "text/plain": [
       "                 mean_test_score  std_test_score param_lr__max_iter  \\\n",
       "rank_test_score                                                       \n",
       "1                       0.838348        0.007263                869   \n",
       "1                       0.838348        0.007263                561   \n",
       "1                       0.838348        0.007263                610   \n",
       "1                       0.838348        0.007263                761   \n",
       "1                       0.838348        0.007263                719   \n",
       "1                       0.838348        0.007263                124   \n",
       "1                       0.838348        0.007263                905   \n",
       "1                       0.838348        0.007263                 65   \n",
       "1                       0.838348        0.007263                995   \n",
       "1                       0.838348        0.007263                236   \n",
       "\n",
       "                param_lr__C  mean_fit_time  \n",
       "rank_test_score                             \n",
       "1                         1       0.051695  \n",
       "1                         1       0.054699  \n",
       "1                         1       0.052992  \n",
       "1                         1       0.055206  \n",
       "1                         1       0.056201  \n",
       "1                         1       0.057208  \n",
       "1                         1       0.053797  \n",
       "1                         1       0.055800  \n",
       "1                         1       0.053095  \n",
       "1                         1       0.054902  "
      ]
     },
     "execution_count": 26,
     "metadata": {},
     "output_type": "execute_result"
    }
   ],
   "source": [
    "random_search.fit(X_train, y_train)\n",
    "pd.DataFrame(random_search.cv_results_)[['mean_test_score', 'std_test_score', 'param_lr__max_iter', 'param_lr__C', 'mean_fit_time', 'rank_test_score']].set_index('rank_test_score').sort_index().head(10)"
   ]
  },
  {
   "cell_type": "code",
   "execution_count": 27,
   "metadata": {},
   "outputs": [
    {
     "data": {
      "text/plain": [
       "{'lr__max_iter': 458, 'lr__C': 1}"
      ]
     },
     "execution_count": 27,
     "metadata": {},
     "output_type": "execute_result"
    }
   ],
   "source": [
    "random_search.best_params_"
   ]
  },
  {
   "cell_type": "markdown",
   "metadata": {},
   "source": [
    "#### 2(f)\n",
    "rubric={points:5}\n",
    "\n",
    "- Look at the sub-scores from the different folds of cross-validation and briefly discuss.\n"
   ]
  },
  {
   "cell_type": "markdown",
   "metadata": {},
   "source": [
    "#### Answer:"
   ]
  },
  {
   "cell_type": "markdown",
   "metadata": {},
   "source": [
    "It seems the validation scores are on average ~0.007 away from the mean, which is quite low. This gives me a higher degree of confidence that the model will most likely achieve the mean validation score of ~0.84."
   ]
  },
  {
   "cell_type": "code",
   "execution_count": 28,
   "metadata": {},
   "outputs": [
    {
     "data": {
      "text/html": [
       "<div>\n",
       "<style scoped>\n",
       "    .dataframe tbody tr th:only-of-type {\n",
       "        vertical-align: middle;\n",
       "    }\n",
       "\n",
       "    .dataframe tbody tr th {\n",
       "        vertical-align: top;\n",
       "    }\n",
       "\n",
       "    .dataframe thead th {\n",
       "        text-align: right;\n",
       "    }\n",
       "</style>\n",
       "<table border=\"1\" class=\"dataframe\">\n",
       "  <thead>\n",
       "    <tr style=\"text-align: right;\">\n",
       "      <th></th>\n",
       "      <th>fit_time</th>\n",
       "      <th>score_time</th>\n",
       "      <th>test_score</th>\n",
       "      <th>train_score</th>\n",
       "    </tr>\n",
       "  </thead>\n",
       "  <tbody>\n",
       "    <tr>\n",
       "      <th>0</th>\n",
       "      <td>0.027997</td>\n",
       "      <td>0.002003</td>\n",
       "      <td>0.849567</td>\n",
       "      <td>0.837102</td>\n",
       "    </tr>\n",
       "    <tr>\n",
       "      <th>1</th>\n",
       "      <td>0.029000</td>\n",
       "      <td>0.001000</td>\n",
       "      <td>0.846861</td>\n",
       "      <td>0.837763</td>\n",
       "    </tr>\n",
       "    <tr>\n",
       "      <th>2</th>\n",
       "      <td>0.027996</td>\n",
       "      <td>0.002000</td>\n",
       "      <td>0.845779</td>\n",
       "      <td>0.837222</td>\n",
       "    </tr>\n",
       "    <tr>\n",
       "      <th>3</th>\n",
       "      <td>0.028997</td>\n",
       "      <td>0.002000</td>\n",
       "      <td>0.843615</td>\n",
       "      <td>0.837823</td>\n",
       "    </tr>\n",
       "    <tr>\n",
       "      <th>4</th>\n",
       "      <td>0.028001</td>\n",
       "      <td>0.001000</td>\n",
       "      <td>0.838657</td>\n",
       "      <td>0.838073</td>\n",
       "    </tr>\n",
       "    <tr>\n",
       "      <th>5</th>\n",
       "      <td>0.028001</td>\n",
       "      <td>0.001999</td>\n",
       "      <td>0.836039</td>\n",
       "      <td>0.839026</td>\n",
       "    </tr>\n",
       "    <tr>\n",
       "      <th>6</th>\n",
       "      <td>0.027000</td>\n",
       "      <td>0.002000</td>\n",
       "      <td>0.832702</td>\n",
       "      <td>0.839517</td>\n",
       "    </tr>\n",
       "    <tr>\n",
       "      <th>7</th>\n",
       "      <td>0.025999</td>\n",
       "      <td>0.002000</td>\n",
       "      <td>0.831710</td>\n",
       "      <td>0.839567</td>\n",
       "    </tr>\n",
       "    <tr>\n",
       "      <th>8</th>\n",
       "      <td>0.028000</td>\n",
       "      <td>0.001000</td>\n",
       "      <td>0.829545</td>\n",
       "      <td>0.839507</td>\n",
       "    </tr>\n",
       "    <tr>\n",
       "      <th>9</th>\n",
       "      <td>0.028072</td>\n",
       "      <td>0.001928</td>\n",
       "      <td>0.829004</td>\n",
       "      <td>0.839747</td>\n",
       "    </tr>\n",
       "  </tbody>\n",
       "</table>\n",
       "</div>"
      ],
      "text/plain": [
       "   fit_time  score_time  test_score  train_score\n",
       "0  0.027997    0.002003    0.849567     0.837102\n",
       "1  0.029000    0.001000    0.846861     0.837763\n",
       "2  0.027996    0.002000    0.845779     0.837222\n",
       "3  0.028997    0.002000    0.843615     0.837823\n",
       "4  0.028001    0.001000    0.838657     0.838073\n",
       "5  0.028001    0.001999    0.836039     0.839026\n",
       "6  0.027000    0.002000    0.832702     0.839517\n",
       "7  0.025999    0.002000    0.831710     0.839567\n",
       "8  0.028000    0.001000    0.829545     0.839507\n",
       "9  0.028072    0.001928    0.829004     0.839747"
      ]
     },
     "execution_count": 28,
     "metadata": {},
     "output_type": "execute_result"
    }
   ],
   "source": [
    "cv_results = cross_validate(lr_pipe, X_train, y_train, return_train_score=True, cv=10)\n",
    "cv_results = pd.DataFrame(data=cv_results).sort_values(by='test_score', ascending=False)\n",
    "cv_results.index = range(len(cv_results))\n",
    "cv_results"
   ]
  },
  {
   "cell_type": "code",
   "execution_count": 29,
   "metadata": {},
   "outputs": [
    {
     "name": "stdout",
     "output_type": "stream",
     "text": [
      "Mean of validation scores across folds: 0.8383480172597662\n",
      "Standard deviation of validation scores across folds: 0.007262710529195648\n"
     ]
    }
   ],
   "source": [
    "print(f'Mean of validation scores across folds: {np.mean(cv_results[\"test_score\"])}')\n",
    "print(f'Standard deviation of validation scores across folds: {np.std(cv_results[\"test_score\"])}')"
   ]
  },
  {
   "cell_type": "markdown",
   "metadata": {},
   "source": [
    "#### 2(g)\n",
    "rubric={points:5}\n",
    "\n",
    "- Compute at least one relevant scoring metric aside from the default `.score()` and briefly discussing the result.\n"
   ]
  },
  {
   "cell_type": "markdown",
   "metadata": {},
   "source": [
    "#### Answer:\n",
    "\n",
    "From below, we note the following:\n",
    "* We identified about 87.5% of actual home wins\n",
    "* Of the games classified as home wins, about 85.6% of them were actual home wins\n",
    "* Our validation f1, a metric that incoporates both precision and recall, was about 86.6%\n",
    "\n",
    "Our model is slightly bias towards predicting (home) wins, because the data is about 60% positive class to about 40% negative class, so it makes sense that without `class_weight='balanced'`, the model has slightly higher recall (gets more actual wins correct), but lower precision (more likely to have predicted wins that are actually losses)."
   ]
  },
  {
   "cell_type": "code",
   "execution_count": 30,
   "metadata": {},
   "outputs": [
    {
     "name": "stdout",
     "output_type": "stream",
     "text": [
      "Average across folds:\n"
     ]
    },
    {
     "data": {
      "text/html": [
       "<div>\n",
       "<style scoped>\n",
       "    .dataframe tbody tr th:only-of-type {\n",
       "        vertical-align: middle;\n",
       "    }\n",
       "\n",
       "    .dataframe tbody tr th {\n",
       "        vertical-align: top;\n",
       "    }\n",
       "\n",
       "    .dataframe thead th {\n",
       "        text-align: right;\n",
       "    }\n",
       "</style>\n",
       "<table border=\"1\" class=\"dataframe\">\n",
       "  <thead>\n",
       "    <tr style=\"text-align: right;\">\n",
       "      <th></th>\n",
       "      <th>fit_time</th>\n",
       "      <th>score_time</th>\n",
       "      <th>test_accuracy</th>\n",
       "      <th>train_accuracy</th>\n",
       "      <th>test_precision</th>\n",
       "      <th>train_precision</th>\n",
       "      <th>test_recall</th>\n",
       "      <th>train_recall</th>\n",
       "      <th>test_f1</th>\n",
       "      <th>train_f1</th>\n",
       "    </tr>\n",
       "  </thead>\n",
       "  <tbody>\n",
       "    <tr>\n",
       "      <th>home win (positive class)</th>\n",
       "      <td>0.027999</td>\n",
       "      <td>0.0045</td>\n",
       "      <td>0.838348</td>\n",
       "      <td>0.838535</td>\n",
       "      <td>0.856052</td>\n",
       "      <td>0.856283</td>\n",
       "      <td>0.875238</td>\n",
       "      <td>0.875188</td>\n",
       "      <td>0.865508</td>\n",
       "      <td>0.865633</td>\n",
       "    </tr>\n",
       "  </tbody>\n",
       "</table>\n",
       "</div>"
      ],
      "text/plain": [
       "                           fit_time  score_time  test_accuracy  \\\n",
       "home win (positive class)  0.027999      0.0045       0.838348   \n",
       "\n",
       "                           train_accuracy  test_precision  train_precision  \\\n",
       "home win (positive class)        0.838535        0.856052         0.856283   \n",
       "\n",
       "                           test_recall  train_recall   test_f1  train_f1  \n",
       "home win (positive class)     0.875238      0.875188  0.865508  0.865633  "
      ]
     },
     "execution_count": 30,
     "metadata": {},
     "output_type": "execute_result"
    }
   ],
   "source": [
    "print('Average across folds:')\n",
    "cv_results = pd.DataFrame(data=pd.DataFrame(cross_validate(lr_pipe, X_train, y_train, return_train_score=True, cv=10, scoring=['accuracy', 'precision', 'recall', 'f1'])).mean()).T\n",
    "cv_results.index = ['home win (positive class)']\n",
    "cv_results"
   ]
  },
  {
   "cell_type": "markdown",
   "metadata": {},
   "source": [
    "#### 2(h)\n",
    "rubric={points:5}\n",
    "\n",
    "- Evaluate your model on the test set and briefly discuss your level of confidence in whether this is an accurate assessment of your model's future deployment performance."
   ]
  },
  {
   "cell_type": "markdown",
   "metadata": {},
   "source": [
    "#### Answer:"
   ]
  },
  {
   "cell_type": "markdown",
   "metadata": {},
   "source": [
    "The test score is slightly higher, but still within the standard deviation of the mean validation score, providing a higher degree of confidence that we have not overfitted on the validation set; and because we followed the golden rule and the sample distribution is very close to deployment (actual nba games), I do believe this is an accurate assessment of performance. However, this could be less accurate if rules or the game style changes significantly, for example the introduction of a 4-point line could reduce the importance of the other features in this model, or if 3-point shooting continues to become more popular, it might reduce the relative importance of rebounds, which currently impact the model more. In this case, the deployment data would have shifted, and our model may no longer achieve the same performance. "
   ]
  },
  {
   "cell_type": "code",
   "execution_count": 31,
   "metadata": {},
   "outputs": [
    {
     "name": "stdout",
     "output_type": "stream",
     "text": [
      "Final score on test data: 0.844363009269239\n"
     ]
    }
   ],
   "source": [
    "lr_pipe.fit(X_train, y_train)\n",
    "print(f'Final score on test data: {lr_pipe.score(X_test, y_test)}')"
   ]
  },
  {
   "cell_type": "markdown",
   "metadata": {},
   "source": [
    "##### (Bonus) Feature Importances\n",
    "\n",
    "For a coach, I think it would be interesting to see which factors tend to impact winning/losing the most, and I was a little surprised to discover that rebounds affected the model more than 3-point percentage."
   ]
  },
  {
   "cell_type": "code",
   "execution_count": 32,
   "metadata": {},
   "outputs": [
    {
     "data": {
      "text/html": [
       "<div>\n",
       "<style scoped>\n",
       "    .dataframe tbody tr th:only-of-type {\n",
       "        vertical-align: middle;\n",
       "    }\n",
       "\n",
       "    .dataframe tbody tr th {\n",
       "        vertical-align: top;\n",
       "    }\n",
       "\n",
       "    .dataframe thead th {\n",
       "        text-align: right;\n",
       "    }\n",
       "</style>\n",
       "<table border=\"1\" class=\"dataframe\">\n",
       "  <thead>\n",
       "    <tr style=\"text-align: right;\">\n",
       "      <th></th>\n",
       "      <th>Coefficient</th>\n",
       "    </tr>\n",
       "  </thead>\n",
       "  <tbody>\n",
       "    <tr>\n",
       "      <th>FG_PCT_home</th>\n",
       "      <td>1.384037</td>\n",
       "    </tr>\n",
       "    <tr>\n",
       "      <th>REB_home</th>\n",
       "      <td>0.584570</td>\n",
       "    </tr>\n",
       "    <tr>\n",
       "      <th>FG3_PCT_home</th>\n",
       "      <td>0.519101</td>\n",
       "    </tr>\n",
       "    <tr>\n",
       "      <th>FT_PCT_home</th>\n",
       "      <td>0.427616</td>\n",
       "    </tr>\n",
       "    <tr>\n",
       "      <th>AST_home</th>\n",
       "      <td>0.411902</td>\n",
       "    </tr>\n",
       "    <tr>\n",
       "      <th>AST_away</th>\n",
       "      <td>-0.396679</td>\n",
       "    </tr>\n",
       "    <tr>\n",
       "      <th>FT_PCT_away</th>\n",
       "      <td>-0.404309</td>\n",
       "    </tr>\n",
       "    <tr>\n",
       "      <th>FG3_PCT_away</th>\n",
       "      <td>-0.503623</td>\n",
       "    </tr>\n",
       "    <tr>\n",
       "      <th>REB_away</th>\n",
       "      <td>-0.592179</td>\n",
       "    </tr>\n",
       "    <tr>\n",
       "      <th>FG_PCT_away</th>\n",
       "      <td>-1.393888</td>\n",
       "    </tr>\n",
       "  </tbody>\n",
       "</table>\n",
       "</div>"
      ],
      "text/plain": [
       "              Coefficient\n",
       "FG_PCT_home      1.384037\n",
       "REB_home         0.584570\n",
       "FG3_PCT_home     0.519101\n",
       "FT_PCT_home      0.427616\n",
       "AST_home         0.411902\n",
       "AST_away        -0.396679\n",
       "FT_PCT_away     -0.404309\n",
       "FG3_PCT_away    -0.503623\n",
       "REB_away        -0.592179\n",
       "FG_PCT_away     -1.393888"
      ]
     },
     "execution_count": 32,
     "metadata": {},
     "output_type": "execute_result"
    }
   ],
   "source": [
    "pd.DataFrame(data=lr_pipe['lr'].coef_, index=['Coefficient'], columns=X_train.columns).T.sort_values(by='Coefficient', ascending=False)"
   ]
  },
  {
   "cell_type": "markdown",
   "metadata": {},
   "source": [
    "## Exercise 3\n",
    "rubric={points:10}\n",
    "\n",
    "The following short-answer questions pertain to Lecture 19 on clustering.\n",
    "\n",
    "1. What's the main difference between unsupervised and supervised learning?\n",
    "2. When choosing $k$ in $k$-means, why not just choose the $k$ that leads to the smallest inertia (sum of squared distances within clusters)?\n",
    "3. You decide to use clustering for _outlier detection_; that is, to detect instances that are very atypical compared to all the rest. How might you do this with $k$-means?\n",
    "4. You decide to use clustering for _outlier detection_; that is, to detect instances that are very atypical compared to all the rest. How might you do this with DBSCAN?\n",
    "5. For hierarchical clustering, we briefly discussed a few different methods for merging clusters: single linkage, average linkage, etc. Why do we have this added complication here - can't we just minimize distance like we did with $k$-means? "
   ]
  },
  {
   "cell_type": "markdown",
   "metadata": {},
   "source": [
    "#### Answer:\n",
    "1. *Supervised* learning refers to machine learning problems where we try to predict *y* given *x*, but in *unsupervised* learning we do not have target labels telling us the correct answer. Therefore, tasks like nearest neighbors or k-means are unsupervised because we are trying to get the machine to analyze / learn a pattern without labelled correct answers.\n",
    "2. As we increase *k*, inertia will decrease because groups are smaller/tighter, but we might be artificially clustering more groups than naturally exist. By using the elbow-plotting method, we can choose the highest value of *k* that leads to significant drops in inertia from the previous value, allowing us to balance small inertia with not having excessive clusters.\n",
    "3. We could iterate through each point and generate its distance from each cluster centre, and examine points that either have large distances from their clustre centre or a large sum of the magnitudes of distances from all cluster centres as potential outliers. We could also use the first method discussed below for DBSCAN. \n",
    "4. We could look at the silhouette plot for our clustering and for each cluster examine the bottom-most (shortest) bar(s) as a possible outlier(s); this is a point(s) that is most different from the cluster. We could also plot the clusterings (perhaps using PCA to reduce dimensionality) and examine points that were not clustered by DBSCAN as potential outliers.\n",
    "5. Unlike k-means, we do not have a cluster centre for each hierarchical cluster, which would otherwise be used as a point with which to measure distance from that cluster to something else. Therefore, we must decide how to measure the distance from a hierarchical cluster to another point (which point to measure from)."
   ]
  },
  {
   "cell_type": "markdown",
   "metadata": {},
   "source": [
    "## Submission to Canvas\n",
    "\n",
    "**IF YOU ARE WORKING WITH A PARTNER** please form the group before submitting - see instructions [here](https://github.com/UBC-CS/cpsc330/blob/master/docs/homework_instructions.md#partners).\n",
    "\n",
    "When you are ready to submit your assignment do the following:\n",
    "\n",
    "1. Run all cells in your notebook to make sure there are no errors by doing `Kernel -> Restart Kernel and Clear All Outputs` and then `Run -> Run All Cells`.\n",
    "2. Save your notebook.\n",
    "3. Convert your notebook to `.html` format using the `convert_notebook()` function below **or** by `File -> Export Notebook As... -> Export Notebook to HTML`.\n",
    "4. Run the code `submit()` below to go through an interactive submission process to Canvas.\n",
    ">For this step, you will need a Canvas *Access Token* token. If you haven't already got one, log-in to Canvas, click `Account` (top-left of the screen), then `Settings`, then scroll down until you see the `+ New Access Token` button. Click that button, give your token any name you like and set the expiry date to Dec 31, 2020. Then click `Generate token`. Save this token in a safe place on your computer as you'll need it for all assignments. Treat the token with as much care as you would an important password. \n",
    "\n",
    "Note: for those having trouble with the Jupyter widgets and the dropdowns: if you add the argument `no_widgets=True` to your `submit` call, it should let you do a text-based entry of your key and avoid the dropdowns altogether. If this doesn't work, you probably need to upgrade to the latest version of `canvasutils` with `pip install canvasutils -U` from your terminal with your environment activated.\n"
   ]
  },
  {
   "cell_type": "code",
   "execution_count": 33,
   "metadata": {},
   "outputs": [],
   "source": [
    "from canvasutils.submit import submit, convert_notebook\n",
    "\n",
    "# Note: the canvasutils package should have been installed as part of your environment setup - \n",
    "# see https://github.com/UBC-CS/cpsc330/blob/master/docs/setup.md"
   ]
  },
  {
   "cell_type": "code",
   "execution_count": 36,
   "metadata": {},
   "outputs": [
    {
     "name": "stdout",
     "output_type": "stream",
     "text": [
      "Notebook successfully converted! \n"
     ]
    }
   ],
   "source": [
    "# convert_notebook(\"hw8.ipynb\", \"html\")  # uncomment and run when you want to try convert your notebook to HTML (or you can convert manually from the File menu)"
   ]
  },
  {
   "cell_type": "code",
   "execution_count": 37,
   "metadata": {},
   "outputs": [
    {
     "name": "stdout",
     "output_type": "stream",
     "text": [
      "Please paste your token here and then hit enter:\n"
     ]
    },
    {
     "name": "stdin",
     "output_type": "stream",
     "text": [
      " ······································································\n"
     ]
    },
    {
     "name": "stdout",
     "output_type": "stream",
     "text": [
      "\n",
      "\u001b[92m======================================\u001b[0m\n",
      "Token successfully entered - thanks!\n",
      "\u001b[92m======================================\u001b[0m\n",
      "\n",
      "\n",
      "Select an assignment to submit to:\n"
     ]
    },
    {
     "data": {
      "application/vnd.jupyter.widget-view+json": {
       "model_id": "7626d9ff0e6049db8ffef01859fbcff5",
       "version_major": 2,
       "version_minor": 0
      },
      "text/plain": [
       "Output()"
      ]
     },
     "metadata": {},
     "output_type": "display_data"
    }
   ],
   "source": [
    "# submit(course_code=53561, token=False)  # uncomment and run when ready to submit "
   ]
  },
  {
   "cell_type": "code",
   "execution_count": null,
   "metadata": {},
   "outputs": [],
   "source": []
  }
 ],
 "metadata": {
  "anaconda-cloud": {},
  "kernelspec": {
   "display_name": "Python 3",
   "language": "python",
   "name": "python3"
  },
  "language_info": {
   "codemirror_mode": {
    "name": "ipython",
    "version": 3
   },
   "file_extension": ".py",
   "mimetype": "text/x-python",
   "name": "python",
   "nbconvert_exporter": "python",
   "pygments_lexer": "ipython3",
   "version": "3.8.6"
  },
  "name": "_merged",
  "toc": {
   "colors": {
    "hover_highlight": "#DAA520",
    "navigate_num": "#000000",
    "navigate_text": "#333333",
    "running_highlight": "#FF0000",
    "selected_highlight": "#FFD700",
    "sidebar_border": "#EEEEEE",
    "wrapper_background": "#FFFFFF"
   },
   "moveMenuLeft": true,
   "nav_menu": {
    "height": "438px",
    "width": "252px"
   },
   "navigate_menu": true,
   "number_sections": true,
   "sideBar": true,
   "threshold": 4,
   "toc_cell": false,
   "toc_section_display": "block",
   "toc_window_display": false,
   "widenNotebook": false
  }
 },
 "nbformat": 4,
 "nbformat_minor": 4
}
